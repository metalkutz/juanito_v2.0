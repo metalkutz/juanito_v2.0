{
 "cells": [
  {
   "cell_type": "code",
   "execution_count": 1,
   "metadata": {},
   "outputs": [],
   "source": [
    "####### os, pickle\n",
    "import os\n",
    "import pickle\n",
    "\n",
    "from matplotlib import pyplot as plt\n",
    "import seaborn as sns\n",
    "\n",
    "from sklearn.model_selection import train_test_split\n",
    "from sklearn.model_selection import GridSearchCV\n",
    "from sklearn import metrics\n",
    "from sklearn.metrics import accuracy_score, roc_auc_score\n",
    "from sklearn.metrics import confusion_matrix, ConfusionMatrixDisplay, classification_report\n",
    "\n",
    "from funciones import* \n",
    "from imblearn.over_sampling import SMOTE \n",
    "from collections import Counter\n",
    "\n",
    "import xgboost as xgb\n",
    "from xgboost import XGBClassifier"
   ]
  },
  {
   "cell_type": "code",
   "execution_count": 2,
   "metadata": {},
   "outputs": [
    {
     "name": "stdout",
     "output_type": "stream",
     "text": [
      "X_cat: (5111, 6383) y_cat: (5111,)\n",
      "X: (51646, 10055) y: (51646,)\n",
      "X_redux: (51646, 65) y_redux: (51646,)\n"
     ]
    }
   ],
   "source": [
    "from main import *"
   ]
  },
  {
   "cell_type": "markdown",
   "metadata": {},
   "source": [
    "## Entrenamiento con variable descripción transformada en array de palabras mediante nltk, bag of wors y TF-IDF"
   ]
  },
  {
   "cell_type": "code",
   "execution_count": 3,
   "metadata": {},
   "outputs": [
    {
     "data": {
      "text/plain": [
       "'c:\\\\Users\\\\metal\\\\Trabajos Bootcamp\\\\Proyecto Final\\\\juanito_v2.0\\\\Datos'"
      ]
     },
     "execution_count": 3,
     "metadata": {},
     "output_type": "execute_result"
    }
   ],
   "source": [
    "os.getcwd()"
   ]
  },
  {
   "cell_type": "code",
   "execution_count": 4,
   "metadata": {},
   "outputs": [],
   "source": [
    "os.chdir(r'C:\\Users\\metal\\Trabajos Bootcamp\\Proyecto Final\\juanito_v2.0\\Modelos')"
   ]
  },
  {
   "cell_type": "code",
   "execution_count": 5,
   "metadata": {},
   "outputs": [],
   "source": [
    "X_train, X_test, y_train, y_test = train_test_split(\n",
    "    X, y, test_size=0.33, random_state=42)\n",
    "\n",
    "oversampling = SMOTE(sampling_strategy=0.30) # usamos oversampling sintético podemos elegir el nivel de oversampling con  sampling_strategy=0.80\n",
    "X_train_smote, y_train_smote = oversampling.fit_resample(X_train, y_train) #Se obtienen nuevos X e y"
   ]
  },
  {
   "cell_type": "code",
   "execution_count": 6,
   "metadata": {},
   "outputs": [
    {
     "data": {
      "text/plain": [
       "Counter({0: 31010, 1: 9303})"
      ]
     },
     "execution_count": 6,
     "metadata": {},
     "output_type": "execute_result"
    }
   ],
   "source": [
    "Counter(y_train_smote)"
   ]
  },
  {
   "cell_type": "code",
   "execution_count": 7,
   "metadata": {},
   "outputs": [
    {
     "data": {
      "text/plain": [
       "{'objective': 'binary:logistic',\n",
       " 'use_label_encoder': False,\n",
       " 'base_score': None,\n",
       " 'booster': None,\n",
       " 'callbacks': None,\n",
       " 'colsample_bylevel': None,\n",
       " 'colsample_bynode': None,\n",
       " 'colsample_bytree': None,\n",
       " 'early_stopping_rounds': None,\n",
       " 'enable_categorical': False,\n",
       " 'eval_metric': None,\n",
       " 'gamma': None,\n",
       " 'gpu_id': None,\n",
       " 'grow_policy': None,\n",
       " 'importance_type': None,\n",
       " 'interaction_constraints': None,\n",
       " 'learning_rate': None,\n",
       " 'max_bin': None,\n",
       " 'max_cat_to_onehot': None,\n",
       " 'max_delta_step': None,\n",
       " 'max_depth': None,\n",
       " 'max_leaves': None,\n",
       " 'min_child_weight': None,\n",
       " 'missing': nan,\n",
       " 'monotone_constraints': None,\n",
       " 'n_estimators': 100,\n",
       " 'n_jobs': None,\n",
       " 'num_parallel_tree': None,\n",
       " 'predictor': None,\n",
       " 'random_state': None,\n",
       " 'reg_alpha': None,\n",
       " 'reg_lambda': None,\n",
       " 'sampling_method': None,\n",
       " 'scale_pos_weight': None,\n",
       " 'subsample': None,\n",
       " 'tree_method': None,\n",
       " 'validate_parameters': None,\n",
       " 'verbosity': None}"
      ]
     },
     "execution_count": 7,
     "metadata": {},
     "output_type": "execute_result"
    }
   ],
   "source": [
    "xgbmodel = XGBClassifier()\n",
    "xgbmodel.get_params()"
   ]
  },
  {
   "cell_type": "code",
   "execution_count": 13,
   "metadata": {},
   "outputs": [],
   "source": [
    "# version simple que corre con CV = 2\n",
    "params={ 'base_score': [0.5], # prediccion inicial\n",
    "         #'booster': ['gbtree'],# (gbtree, gblinear, dart)\n",
    "     'colsample_bylevel': [1],\n",
    "     'colsample_bytree': [0.8], #aletoreidad en selección de columnas de cada arbol\n",
    "     'learning_rate': [0.05], # \n",
    "     'max_depth': [3], # default=6\n",
    "     #'max_leaves': [5,10], #default=0\n",
    "     'min_child_weight': [1], # minimo numero samples por hoja\n",
    "     #'missing': [np.nan], # si queremos reemplazar los missings por un numero\n",
    "     #'n_estimators': [100,200], # default=100 numero de arboles [100,150,200,250,300,350,400]\n",
    "     'n_jobs': [-1], # trabajos en paralelo\n",
    "     #'predictor': None, #default=auto\n",
    "     'random_state': [0], # seed para generar los folds\n",
    "     'reg_alpha': [0.01], # L1 regularitacion\n",
    "     'reg_lambda': [0.01], # L2 regularitacion\n",
    "     'scale_pos_weight': [1], #default=1\n",
    "     #'tree_method': None, #default=auto\n",
    "     'subsample': [0.9]} # ratio de muestras por cada arbol default=1"
   ]
  },
  {
   "cell_type": "code",
   "execution_count": 24,
   "metadata": {},
   "outputs": [],
   "source": [
    "params={ 'base_score': [0.5], # prediccion inicial\n",
    "         #'booster': ['gbtree'],# (gbtree, gblinear, dart) default=gbtree\n",
    "     'colsample_bylevel': [1],\n",
    "     'colsample_bytree': [0.8], #aletoreidad en selección de columnas de cada arbol\n",
    "     'learning_rate': [0.05], # [0.05,0.1]\n",
    "     'max_depth': [4], #[2,3,4] \n",
    "     #'max_leaves': [5,10], #[5,10]\n",
    "     'min_child_weight': [1], # minimo numero samples por hoja\n",
    "     #'missing': [np.nan], # si queremos reemplazar los missings por un numero\n",
    "     #'n_estimators': [100,200], # 100 es valor default de numero de arboles [100,150,200,250,300,350,400]\n",
    "     'n_jobs': [-1], # trabajos en paralelo\n",
    "     #'predictor': ['gpu_predictor'], #default=auto --- Prediction using GPU. Used when tree_method is gpu_hist. only recommended for performing prediction tasks.\n",
    "     'random_state': [0], # seed para generar los folds\n",
    "     'reg_alpha': [0.01], # L1 regularitacion\n",
    "     'reg_lambda': [0.01], # L2 regularitacion\n",
    "     'scale_pos_weight': [1],\n",
    "     #'tree_method': ['gpu_hist'],\n",
    "     'subsample': [0.9]} # ratio de muestras por cada arbol "
   ]
  },
  {
   "cell_type": "code",
   "execution_count": 25,
   "metadata": {},
   "outputs": [],
   "source": [
    "scoring = ['roc_auc']\n",
    "grid_solver = GridSearchCV(estimator = xgbmodel, # model to train\n",
    "                   param_grid = params,\n",
    "                   scoring = scoring,\n",
    "                   cv = 2,  # 3 soporta máx 1 iteracion de parametros , es decir 6 fits como mucho\n",
    "                   n_jobs=-1,\n",
    "                   refit = 'roc_auc',\n",
    "                   verbose = 2)"
   ]
  },
  {
   "cell_type": "code",
   "execution_count": 26,
   "metadata": {},
   "outputs": [
    {
     "name": "stdout",
     "output_type": "stream",
     "text": [
      "Fitting 2 folds for each of 3 candidates, totalling 6 fits\n"
     ]
    }
   ],
   "source": [
    "model_result_xgboost = grid_solver.fit(X_train_smote, y_train_smote)"
   ]
  },
  {
   "cell_type": "code",
   "execution_count": 27,
   "metadata": {},
   "outputs": [
    {
     "data": {
      "text/plain": [
       "{'base_score': 0.5,\n",
       " 'colsample_bylevel': 1,\n",
       " 'colsample_bytree': 0.8,\n",
       " 'learning_rate': 0.05,\n",
       " 'max_depth': 4,\n",
       " 'min_child_weight': 1,\n",
       " 'n_jobs': -1,\n",
       " 'random_state': 0,\n",
       " 'reg_alpha': 0.01,\n",
       " 'reg_lambda': 0.01,\n",
       " 'scale_pos_weight': 1,\n",
       " 'subsample': 0.9}"
      ]
     },
     "execution_count": 27,
     "metadata": {},
     "output_type": "execute_result"
    }
   ],
   "source": [
    "model_result_xgboost.best_params_"
   ]
  },
  {
   "cell_type": "code",
   "execution_count": 28,
   "metadata": {},
   "outputs": [
    {
     "data": {
      "text/plain": [
       "{'mean_fit_time': array([2600.61831212, 3223.84113348, 3448.41549671]),\n",
       " 'std_fit_time': array([328.87866902,  59.42346442,  62.57965052]),\n",
       " 'mean_score_time': array([101.2131778 ,  38.88206875,  34.0226016 ]),\n",
       " 'std_score_time': array([29.12381828, 11.23477924,  1.1862638 ]),\n",
       " 'param_base_score': masked_array(data=[0.5, 0.5, 0.5],\n",
       "              mask=[False, False, False],\n",
       "        fill_value='?',\n",
       "             dtype=object),\n",
       " 'param_colsample_bylevel': masked_array(data=[1, 1, 1],\n",
       "              mask=[False, False, False],\n",
       "        fill_value='?',\n",
       "             dtype=object),\n",
       " 'param_colsample_bytree': masked_array(data=[0.8, 0.8, 0.8],\n",
       "              mask=[False, False, False],\n",
       "        fill_value='?',\n",
       "             dtype=object),\n",
       " 'param_learning_rate': masked_array(data=[0.05, 0.05, 0.05],\n",
       "              mask=[False, False, False],\n",
       "        fill_value='?',\n",
       "             dtype=object),\n",
       " 'param_max_depth': masked_array(data=[2, 3, 4],\n",
       "              mask=[False, False, False],\n",
       "        fill_value='?',\n",
       "             dtype=object),\n",
       " 'param_min_child_weight': masked_array(data=[1, 1, 1],\n",
       "              mask=[False, False, False],\n",
       "        fill_value='?',\n",
       "             dtype=object),\n",
       " 'param_n_jobs': masked_array(data=[-1, -1, -1],\n",
       "              mask=[False, False, False],\n",
       "        fill_value='?',\n",
       "             dtype=object),\n",
       " 'param_random_state': masked_array(data=[0, 0, 0],\n",
       "              mask=[False, False, False],\n",
       "        fill_value='?',\n",
       "             dtype=object),\n",
       " 'param_reg_alpha': masked_array(data=[0.01, 0.01, 0.01],\n",
       "              mask=[False, False, False],\n",
       "        fill_value='?',\n",
       "             dtype=object),\n",
       " 'param_reg_lambda': masked_array(data=[0.01, 0.01, 0.01],\n",
       "              mask=[False, False, False],\n",
       "        fill_value='?',\n",
       "             dtype=object),\n",
       " 'param_scale_pos_weight': masked_array(data=[1, 1, 1],\n",
       "              mask=[False, False, False],\n",
       "        fill_value='?',\n",
       "             dtype=object),\n",
       " 'param_subsample': masked_array(data=[0.9, 0.9, 0.9],\n",
       "              mask=[False, False, False],\n",
       "        fill_value='?',\n",
       "             dtype=object),\n",
       " 'params': [{'base_score': 0.5,\n",
       "   'colsample_bylevel': 1,\n",
       "   'colsample_bytree': 0.8,\n",
       "   'learning_rate': 0.05,\n",
       "   'max_depth': 2,\n",
       "   'min_child_weight': 1,\n",
       "   'n_jobs': -1,\n",
       "   'random_state': 0,\n",
       "   'reg_alpha': 0.01,\n",
       "   'reg_lambda': 0.01,\n",
       "   'scale_pos_weight': 1,\n",
       "   'subsample': 0.9},\n",
       "  {'base_score': 0.5,\n",
       "   'colsample_bylevel': 1,\n",
       "   'colsample_bytree': 0.8,\n",
       "   'learning_rate': 0.05,\n",
       "   'max_depth': 3,\n",
       "   'min_child_weight': 1,\n",
       "   'n_jobs': -1,\n",
       "   'random_state': 0,\n",
       "   'reg_alpha': 0.01,\n",
       "   'reg_lambda': 0.01,\n",
       "   'scale_pos_weight': 1,\n",
       "   'subsample': 0.9},\n",
       "  {'base_score': 0.5,\n",
       "   'colsample_bylevel': 1,\n",
       "   'colsample_bytree': 0.8,\n",
       "   'learning_rate': 0.05,\n",
       "   'max_depth': 4,\n",
       "   'min_child_weight': 1,\n",
       "   'n_jobs': -1,\n",
       "   'random_state': 0,\n",
       "   'reg_alpha': 0.01,\n",
       "   'reg_lambda': 0.01,\n",
       "   'scale_pos_weight': 1,\n",
       "   'subsample': 0.9}],\n",
       " 'split0_test_roc_auc': array([0.93739966, 0.95263275, 0.96156732]),\n",
       " 'split1_test_roc_auc': array([0.95116288, 0.96432093, 0.97196085]),\n",
       " 'mean_test_roc_auc': array([0.94428127, 0.95847684, 0.96676409]),\n",
       " 'std_test_roc_auc': array([0.00688161, 0.00584409, 0.00519676]),\n",
       " 'rank_test_roc_auc': array([3, 2, 1])}"
      ]
     },
     "execution_count": 28,
     "metadata": {},
     "output_type": "execute_result"
    }
   ],
   "source": [
    "model_result_xgboost.cv_results_"
   ]
  },
  {
   "cell_type": "code",
   "execution_count": 29,
   "metadata": {},
   "outputs": [
    {
     "data": {
      "text/plain": [
       "'C:\\\\Users\\\\metal\\\\Trabajos Bootcamp\\\\Proyecto Final\\\\juanito_v2.0\\\\Modelos'"
      ]
     },
     "execution_count": 29,
     "metadata": {},
     "output_type": "execute_result"
    }
   ],
   "source": [
    "os.getcwd()"
   ]
  },
  {
   "cell_type": "code",
   "execution_count": 30,
   "metadata": {},
   "outputs": [],
   "source": [
    "fh = open('m_XGBoost_PCA_v2','wb')\n",
    "#fh = open('df_smote30_train_test(redux).pkl','wb')\n",
    "pickle.dump(model_result_xgboost,fh)\n",
    "fh.close()"
   ]
  },
  {
   "cell_type": "code",
   "execution_count": 31,
   "metadata": {},
   "outputs": [
    {
     "data": {
      "text/html": [
       "<div>\n",
       "<style scoped>\n",
       "    .dataframe tbody tr th:only-of-type {\n",
       "        vertical-align: middle;\n",
       "    }\n",
       "\n",
       "    .dataframe tbody tr th {\n",
       "        vertical-align: top;\n",
       "    }\n",
       "\n",
       "    .dataframe thead th {\n",
       "        text-align: right;\n",
       "    }\n",
       "</style>\n",
       "<table border=\"1\" class=\"dataframe\">\n",
       "  <thead>\n",
       "    <tr style=\"text-align: right;\">\n",
       "      <th></th>\n",
       "      <th>mean_fit_time</th>\n",
       "      <th>std_fit_time</th>\n",
       "      <th>mean_score_time</th>\n",
       "      <th>std_score_time</th>\n",
       "      <th>param_base_score</th>\n",
       "      <th>param_colsample_bylevel</th>\n",
       "      <th>param_colsample_bytree</th>\n",
       "      <th>param_learning_rate</th>\n",
       "      <th>param_max_depth</th>\n",
       "      <th>param_min_child_weight</th>\n",
       "      <th>...</th>\n",
       "      <th>param_reg_alpha</th>\n",
       "      <th>param_reg_lambda</th>\n",
       "      <th>param_scale_pos_weight</th>\n",
       "      <th>param_subsample</th>\n",
       "      <th>params</th>\n",
       "      <th>split0_test_roc_auc</th>\n",
       "      <th>split1_test_roc_auc</th>\n",
       "      <th>mean_test_roc_auc</th>\n",
       "      <th>std_test_roc_auc</th>\n",
       "      <th>rank_test_roc_auc</th>\n",
       "    </tr>\n",
       "  </thead>\n",
       "  <tbody>\n",
       "    <tr>\n",
       "      <th>0</th>\n",
       "      <td>2600.618312</td>\n",
       "      <td>328.878669</td>\n",
       "      <td>101.213178</td>\n",
       "      <td>29.123818</td>\n",
       "      <td>0.5</td>\n",
       "      <td>1</td>\n",
       "      <td>0.8</td>\n",
       "      <td>0.05</td>\n",
       "      <td>2</td>\n",
       "      <td>1</td>\n",
       "      <td>...</td>\n",
       "      <td>0.01</td>\n",
       "      <td>0.01</td>\n",
       "      <td>1</td>\n",
       "      <td>0.9</td>\n",
       "      <td>{'base_score': 0.5, 'colsample_bylevel': 1, 'c...</td>\n",
       "      <td>0.937400</td>\n",
       "      <td>0.951163</td>\n",
       "      <td>0.944281</td>\n",
       "      <td>0.006882</td>\n",
       "      <td>3</td>\n",
       "    </tr>\n",
       "    <tr>\n",
       "      <th>1</th>\n",
       "      <td>3223.841133</td>\n",
       "      <td>59.423464</td>\n",
       "      <td>38.882069</td>\n",
       "      <td>11.234779</td>\n",
       "      <td>0.5</td>\n",
       "      <td>1</td>\n",
       "      <td>0.8</td>\n",
       "      <td>0.05</td>\n",
       "      <td>3</td>\n",
       "      <td>1</td>\n",
       "      <td>...</td>\n",
       "      <td>0.01</td>\n",
       "      <td>0.01</td>\n",
       "      <td>1</td>\n",
       "      <td>0.9</td>\n",
       "      <td>{'base_score': 0.5, 'colsample_bylevel': 1, 'c...</td>\n",
       "      <td>0.952633</td>\n",
       "      <td>0.964321</td>\n",
       "      <td>0.958477</td>\n",
       "      <td>0.005844</td>\n",
       "      <td>2</td>\n",
       "    </tr>\n",
       "    <tr>\n",
       "      <th>2</th>\n",
       "      <td>3448.415497</td>\n",
       "      <td>62.579651</td>\n",
       "      <td>34.022602</td>\n",
       "      <td>1.186264</td>\n",
       "      <td>0.5</td>\n",
       "      <td>1</td>\n",
       "      <td>0.8</td>\n",
       "      <td>0.05</td>\n",
       "      <td>4</td>\n",
       "      <td>1</td>\n",
       "      <td>...</td>\n",
       "      <td>0.01</td>\n",
       "      <td>0.01</td>\n",
       "      <td>1</td>\n",
       "      <td>0.9</td>\n",
       "      <td>{'base_score': 0.5, 'colsample_bylevel': 1, 'c...</td>\n",
       "      <td>0.961567</td>\n",
       "      <td>0.971961</td>\n",
       "      <td>0.966764</td>\n",
       "      <td>0.005197</td>\n",
       "      <td>1</td>\n",
       "    </tr>\n",
       "  </tbody>\n",
       "</table>\n",
       "<p>3 rows × 22 columns</p>\n",
       "</div>"
      ],
      "text/plain": [
       "   mean_fit_time  std_fit_time  mean_score_time  std_score_time  \\\n",
       "0    2600.618312    328.878669       101.213178       29.123818   \n",
       "1    3223.841133     59.423464        38.882069       11.234779   \n",
       "2    3448.415497     62.579651        34.022602        1.186264   \n",
       "\n",
       "  param_base_score param_colsample_bylevel param_colsample_bytree  \\\n",
       "0              0.5                       1                    0.8   \n",
       "1              0.5                       1                    0.8   \n",
       "2              0.5                       1                    0.8   \n",
       "\n",
       "  param_learning_rate param_max_depth param_min_child_weight  ...  \\\n",
       "0                0.05               2                      1  ...   \n",
       "1                0.05               3                      1  ...   \n",
       "2                0.05               4                      1  ...   \n",
       "\n",
       "  param_reg_alpha param_reg_lambda param_scale_pos_weight param_subsample  \\\n",
       "0            0.01             0.01                      1             0.9   \n",
       "1            0.01             0.01                      1             0.9   \n",
       "2            0.01             0.01                      1             0.9   \n",
       "\n",
       "                                              params split0_test_roc_auc  \\\n",
       "0  {'base_score': 0.5, 'colsample_bylevel': 1, 'c...            0.937400   \n",
       "1  {'base_score': 0.5, 'colsample_bylevel': 1, 'c...            0.952633   \n",
       "2  {'base_score': 0.5, 'colsample_bylevel': 1, 'c...            0.961567   \n",
       "\n",
       "  split1_test_roc_auc  mean_test_roc_auc  std_test_roc_auc  rank_test_roc_auc  \n",
       "0            0.951163           0.944281          0.006882                  3  \n",
       "1            0.964321           0.958477          0.005844                  2  \n",
       "2            0.971961           0.966764          0.005197                  1  \n",
       "\n",
       "[3 rows x 22 columns]"
      ]
     },
     "execution_count": 31,
     "metadata": {},
     "output_type": "execute_result"
    }
   ],
   "source": [
    "results_cv=model_result_xgboost.cv_results_\n",
    "results=pd.DataFrame(results_cv)\n",
    "results.head()"
   ]
  },
  {
   "cell_type": "code",
   "execution_count": null,
   "metadata": {},
   "outputs": [],
   "source": [
    "sns.relplot(x=\"param_C\",\n",
    "            y=\"mean_test_roc_auc\",\n",
    "            #style=\"param_max_features\",\n",
    "            #hue=\"param_min_impurity_decrease\",\n",
    "            kind = \"line\",\n",
    "            palette=[\"r\", \"b\"],\n",
    "            height=3, linewidth=3, data=results)"
   ]
  },
  {
   "cell_type": "code",
   "execution_count": 32,
   "metadata": {},
   "outputs": [
    {
     "data": {
      "image/png": "[encoded data removed]",
      "text/plain": [
       "<Figure size 432x288 with 1 Axes>"
      ]
     },
     "metadata": {
      "needs_background": "light"
     },
     "output_type": "display_data"
    },
    {
     "name": "stdout",
     "output_type": "stream",
     "text": [
      "Train AUC 0.972152701813672\n",
      "              precision    recall  f1-score   support\n",
      "\n",
      "           0       0.92      0.98      0.95     31010\n",
      "           1       0.92      0.72      0.81      9303\n",
      "\n",
      "    accuracy                           0.92     40313\n",
      "   macro avg       0.92      0.85      0.88     40313\n",
      "weighted avg       0.92      0.92      0.92     40313\n",
      "\n"
     ]
    },
    {
     "data": {
      "image/png": "[encoded data removed]",
      "text/plain": [
       "<Figure size 432x288 with 2 Axes>"
      ]
     },
     "metadata": {
      "needs_background": "light"
     },
     "output_type": "display_data"
    },
    {
     "name": "stdout",
     "output_type": "stream",
     "text": [
      "Test AUC 0.9563832471833511\n",
      "              precision    recall  f1-score   support\n",
      "\n",
      "           0       0.96      0.98      0.97     15260\n",
      "           1       0.80      0.65      0.72      1784\n",
      "\n",
      "    accuracy                           0.95     17044\n",
      "   macro avg       0.88      0.82      0.84     17044\n",
      "weighted avg       0.94      0.95      0.94     17044\n",
      "\n"
     ]
    },
    {
     "data": {
      "image/png": "[encoded data removed]",
      "text/plain": [
       "<Figure size 432x288 with 2 Axes>"
      ]
     },
     "metadata": {
      "needs_background": "light"
     },
     "output_type": "display_data"
    }
   ],
   "source": [
    "metrics(model_result_xgboost.best_estimator_, X_train_smote, X_test, y_train_smote, y_test, thr=0.5)"
   ]
  },
  {
   "cell_type": "markdown",
   "metadata": {},
   "source": [
    "### Resultados primera iteración (incorrecto aplicación de smote sobre muetra para test)"
   ]
  },
  {
   "cell_type": "code",
   "execution_count": 11,
   "metadata": {},
   "outputs": [
    {
     "name": "stdout",
     "output_type": "stream",
     "text": [
      "Train AUC: 0.9630412048830986\n",
      " Test AUC: 0.9621369872399149\n"
     ]
    }
   ],
   "source": [
    "#Ahora todos los modelos los usamos con la data train para obtener las probabilidades\n",
    "y_pred = model_result_xgboost.predict(X_train)\n",
    "probs = model_result_xgboost.predict_proba(X_train)\n",
    "print('Train AUC:', roc_auc_score(y_train,probs[:,1]))\n",
    "\n",
    "#Ahora evaluo el resultado con la data de test\n",
    "y_pred = model_result_xgboost.predict(X_test)\n",
    "probs = model_result_xgboost.predict_proba(X_test)\n",
    "print(\" Test AUC:\", roc_auc_score(y_test,probs[:,1]))"
   ]
  },
  {
   "cell_type": "code",
   "execution_count": 9,
   "metadata": {},
   "outputs": [
    {
     "data": {
      "image/png": "[encoded data removed]",
      "text/plain": [
       "<Figure size 432x288 with 2 Axes>"
      ]
     },
     "metadata": {
      "needs_background": "light"
     },
     "output_type": "display_data"
    }
   ],
   "source": [
    "#plot_confusion_matrix(model_result,  X_test, y_test) funcion deprecada en futuras versiones\n",
    "cm = confusion_matrix(y_test,y_pred)\n",
    "disp =ConfusionMatrixDisplay(confusion_matrix=cm, display_labels=model_result_xgboost.classes_)\n",
    "disp.plot()\n",
    "plt.show()"
   ]
  },
  {
   "cell_type": "code",
   "execution_count": 10,
   "metadata": {},
   "outputs": [
    {
     "name": "stdout",
     "output_type": "stream",
     "text": [
      "0.9534261331244968\n"
     ]
    }
   ],
   "source": [
    "fpr, tpr, threshold = metrics.roc_curve(y_test, probs[:,1])\n",
    "roc_auc = metrics.auc(fpr, tpr)\n",
    "print(roc_auc)"
   ]
  },
  {
   "cell_type": "code",
   "execution_count": 11,
   "metadata": {},
   "outputs": [
    {
     "data": {
      "image/png": "[encoded data removed]",
      "text/plain": [
       "<Figure size 432x288 with 1 Axes>"
      ]
     },
     "metadata": {
      "needs_background": "light"
     },
     "output_type": "display_data"
    }
   ],
   "source": [
    "plt.title('Receiver Operating Characteristic')\n",
    "plt.plot(fpr, tpr, 'b', label = 'AUC = %0.2f' % roc_auc)\n",
    "plt.legend(loc = 'lower right')\n",
    "plt.plot([0, 1], [0, 1],'r--')\n",
    "plt.xlim([0, 1])\n",
    "plt.ylim([0, 1])\n",
    "plt.ylabel('True Positive Rate')\n",
    "plt.xlabel('False Positive Rate')\n",
    "plt.show()"
   ]
  },
  {
   "cell_type": "code",
   "execution_count": 12,
   "metadata": {},
   "outputs": [
    {
     "name": "stdout",
     "output_type": "stream",
     "text": [
      "              precision    recall  f1-score   support\n",
      "\n",
      "           0       0.94      0.99      0.97     15260\n",
      "           1       0.88      0.45      0.60      1784\n",
      "\n",
      "    accuracy                           0.94     17044\n",
      "   macro avg       0.91      0.72      0.78     17044\n",
      "weighted avg       0.93      0.94      0.93     17044\n",
      "\n"
     ]
    }
   ],
   "source": [
    "print(classification_report(y_test,y_pred,target_names=['0','1']))"
   ]
  }
 ],
 "metadata": {
  "kernelspec": {
   "display_name": "Python 3.10.4 64-bit",
   "language": "python",
   "name": "python3"
  },
  "language_info": {
   "codemirror_mode": {
    "name": "ipython",
    "version": 3
   },
   "file_extension": ".py",
   "mimetype": "text/x-python",
   "name": "python",
   "nbconvert_exporter": "python",
   "pygments_lexer": "ipython3",
   "version": "3.10.4"
  },
  "orig_nbformat": 4,
  "vscode": {
   "interpreter": {
    "hash": "26de051ba29f2982a8de78e945f0abaf191376122a1563185a90213a26c5da77"
   }
  }
 },
 "nbformat": 4,
 "nbformat_minor": 2
}
