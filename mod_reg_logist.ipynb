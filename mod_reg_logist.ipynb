{
 "cells": [
  {
   "cell_type": "code",
   "execution_count": 15,
   "metadata": {},
   "outputs": [],
   "source": [
    "import matplotlib.pyplot as plt\n",
    "import seaborn as sns\n",
    "\n",
    "from sklearn import linear_model\n",
    "from sklearn.model_selection import train_test_split\n",
    "from sklearn.linear_model import LogisticRegression\n",
    "from sklearn.metrics import accuracy_score, confusion_matrix\n",
    "from sklearn import metrics\n",
    "from sklearn.metrics import plot_confusion_matrix, confusion_matrix\n",
    "from sklearn.metrics import roc_curve, auc #roc_auc_curve"
   ]
  },
  {
   "cell_type": "code",
   "execution_count": 1,
   "metadata": {},
   "outputs": [],
   "source": [
    "from main import *"
   ]
  },
  {
   "cell_type": "code",
   "execution_count": 2,
   "metadata": {},
   "outputs": [
    {
     "data": {
      "text/html": [
       "<div>\n",
       "<style scoped>\n",
       "    .dataframe tbody tr th:only-of-type {\n",
       "        vertical-align: middle;\n",
       "    }\n",
       "\n",
       "    .dataframe tbody tr th {\n",
       "        vertical-align: top;\n",
       "    }\n",
       "\n",
       "    .dataframe thead th {\n",
       "        text-align: right;\n",
       "    }\n",
       "</style>\n",
       "<table border=\"1\" class=\"dataframe\">\n",
       "  <thead>\n",
       "    <tr style=\"text-align: right;\">\n",
       "      <th></th>\n",
       "      <th>id_producto</th>\n",
       "      <th>label</th>\n",
       "      <th>Rubro1_Artículos de electrónica</th>\n",
       "      <th>Rubro1_Artículos de fabricación y producción</th>\n",
       "      <th>Rubro1_Artículos eléctricos y de iluminación</th>\n",
       "      <th>Rubro1_Artículos para estructuras, obras y construcciones</th>\n",
       "      <th>Rubro1_Artículos para plantas y animales</th>\n",
       "      <th>Rubro1_Combustibles, lubricantes y anticorrosivos</th>\n",
       "      <th>Rubro1_Consultoria</th>\n",
       "      <th>Rubro1_Educación, formación, entrenamiento y capacitación</th>\n",
       "      <th>...</th>\n",
       "      <th>PC1990</th>\n",
       "      <th>PC1991</th>\n",
       "      <th>PC1992</th>\n",
       "      <th>PC1993</th>\n",
       "      <th>PC1994</th>\n",
       "      <th>PC1995</th>\n",
       "      <th>PC1996</th>\n",
       "      <th>PC1997</th>\n",
       "      <th>PC1998</th>\n",
       "      <th>PC1999</th>\n",
       "    </tr>\n",
       "  </thead>\n",
       "  <tbody>\n",
       "    <tr>\n",
       "      <th>0</th>\n",
       "      <td>2792-88-LE21-1</td>\n",
       "      <td>0</td>\n",
       "      <td>0</td>\n",
       "      <td>0</td>\n",
       "      <td>0</td>\n",
       "      <td>0</td>\n",
       "      <td>0</td>\n",
       "      <td>0</td>\n",
       "      <td>0</td>\n",
       "      <td>0</td>\n",
       "      <td>...</td>\n",
       "      <td>-0.002384</td>\n",
       "      <td>0.002807</td>\n",
       "      <td>-0.001538</td>\n",
       "      <td>-0.003709</td>\n",
       "      <td>-0.002591</td>\n",
       "      <td>0.000440</td>\n",
       "      <td>0.002250</td>\n",
       "      <td>0.000467</td>\n",
       "      <td>0.000639</td>\n",
       "      <td>-0.001872</td>\n",
       "    </tr>\n",
       "    <tr>\n",
       "      <th>1</th>\n",
       "      <td>1704-52-LP21-1</td>\n",
       "      <td>0</td>\n",
       "      <td>0</td>\n",
       "      <td>0</td>\n",
       "      <td>0</td>\n",
       "      <td>0</td>\n",
       "      <td>0</td>\n",
       "      <td>0</td>\n",
       "      <td>0</td>\n",
       "      <td>0</td>\n",
       "      <td>...</td>\n",
       "      <td>-0.008658</td>\n",
       "      <td>0.027708</td>\n",
       "      <td>-0.008032</td>\n",
       "      <td>-0.018378</td>\n",
       "      <td>0.017792</td>\n",
       "      <td>-0.008448</td>\n",
       "      <td>-0.025804</td>\n",
       "      <td>-0.004466</td>\n",
       "      <td>-0.015323</td>\n",
       "      <td>0.027681</td>\n",
       "    </tr>\n",
       "    <tr>\n",
       "      <th>2</th>\n",
       "      <td>1003-20-L121-1</td>\n",
       "      <td>0</td>\n",
       "      <td>0</td>\n",
       "      <td>0</td>\n",
       "      <td>0</td>\n",
       "      <td>0</td>\n",
       "      <td>0</td>\n",
       "      <td>0</td>\n",
       "      <td>0</td>\n",
       "      <td>0</td>\n",
       "      <td>...</td>\n",
       "      <td>0.000625</td>\n",
       "      <td>0.001980</td>\n",
       "      <td>0.000885</td>\n",
       "      <td>-0.003826</td>\n",
       "      <td>-0.000925</td>\n",
       "      <td>0.011832</td>\n",
       "      <td>0.003672</td>\n",
       "      <td>0.003602</td>\n",
       "      <td>-0.015482</td>\n",
       "      <td>-0.003578</td>\n",
       "    </tr>\n",
       "    <tr>\n",
       "      <th>3</th>\n",
       "      <td>4236-21-L121-1</td>\n",
       "      <td>0</td>\n",
       "      <td>0</td>\n",
       "      <td>0</td>\n",
       "      <td>0</td>\n",
       "      <td>0</td>\n",
       "      <td>0</td>\n",
       "      <td>0</td>\n",
       "      <td>0</td>\n",
       "      <td>0</td>\n",
       "      <td>...</td>\n",
       "      <td>-0.001726</td>\n",
       "      <td>0.001224</td>\n",
       "      <td>-0.015686</td>\n",
       "      <td>0.014348</td>\n",
       "      <td>-0.003762</td>\n",
       "      <td>-0.003359</td>\n",
       "      <td>-0.006658</td>\n",
       "      <td>0.019041</td>\n",
       "      <td>-0.004452</td>\n",
       "      <td>-0.003956</td>\n",
       "    </tr>\n",
       "    <tr>\n",
       "      <th>4</th>\n",
       "      <td>4236-21-L121-2</td>\n",
       "      <td>0</td>\n",
       "      <td>0</td>\n",
       "      <td>0</td>\n",
       "      <td>0</td>\n",
       "      <td>0</td>\n",
       "      <td>0</td>\n",
       "      <td>0</td>\n",
       "      <td>0</td>\n",
       "      <td>0</td>\n",
       "      <td>...</td>\n",
       "      <td>-0.025076</td>\n",
       "      <td>0.037415</td>\n",
       "      <td>0.003010</td>\n",
       "      <td>-0.006691</td>\n",
       "      <td>-0.000038</td>\n",
       "      <td>-0.009452</td>\n",
       "      <td>-0.023864</td>\n",
       "      <td>-0.007695</td>\n",
       "      <td>0.005932</td>\n",
       "      <td>-0.017173</td>\n",
       "    </tr>\n",
       "  </tbody>\n",
       "</table>\n",
       "<p>5 rows × 2057 columns</p>\n",
       "</div>"
      ],
      "text/plain": [
       "      id_producto  label  Rubro1_Artículos de electrónica  \\\n",
       "0  2792-88-LE21-1      0                                0   \n",
       "1  1704-52-LP21-1      0                                0   \n",
       "2  1003-20-L121-1      0                                0   \n",
       "3  4236-21-L121-1      0                                0   \n",
       "4  4236-21-L121-2      0                                0   \n",
       "\n",
       "   Rubro1_Artículos de fabricación y producción  \\\n",
       "0                                             0   \n",
       "1                                             0   \n",
       "2                                             0   \n",
       "3                                             0   \n",
       "4                                             0   \n",
       "\n",
       "   Rubro1_Artículos eléctricos y de iluminación  \\\n",
       "0                                             0   \n",
       "1                                             0   \n",
       "2                                             0   \n",
       "3                                             0   \n",
       "4                                             0   \n",
       "\n",
       "   Rubro1_Artículos para estructuras, obras y construcciones  \\\n",
       "0                                                  0           \n",
       "1                                                  0           \n",
       "2                                                  0           \n",
       "3                                                  0           \n",
       "4                                                  0           \n",
       "\n",
       "   Rubro1_Artículos para plantas y animales  \\\n",
       "0                                         0   \n",
       "1                                         0   \n",
       "2                                         0   \n",
       "3                                         0   \n",
       "4                                         0   \n",
       "\n",
       "   Rubro1_Combustibles, lubricantes y anticorrosivos  Rubro1_Consultoria  \\\n",
       "0                                                  0                   0   \n",
       "1                                                  0                   0   \n",
       "2                                                  0                   0   \n",
       "3                                                  0                   0   \n",
       "4                                                  0                   0   \n",
       "\n",
       "   Rubro1_Educación, formación, entrenamiento y capacitación  ...    PC1990  \\\n",
       "0                                                  0          ... -0.002384   \n",
       "1                                                  0          ... -0.008658   \n",
       "2                                                  0          ...  0.000625   \n",
       "3                                                  0          ... -0.001726   \n",
       "4                                                  0          ... -0.025076   \n",
       "\n",
       "     PC1991    PC1992    PC1993    PC1994    PC1995    PC1996    PC1997  \\\n",
       "0  0.002807 -0.001538 -0.003709 -0.002591  0.000440  0.002250  0.000467   \n",
       "1  0.027708 -0.008032 -0.018378  0.017792 -0.008448 -0.025804 -0.004466   \n",
       "2  0.001980  0.000885 -0.003826 -0.000925  0.011832  0.003672  0.003602   \n",
       "3  0.001224 -0.015686  0.014348 -0.003762 -0.003359 -0.006658  0.019041   \n",
       "4  0.037415  0.003010 -0.006691 -0.000038 -0.009452 -0.023864 -0.007695   \n",
       "\n",
       "     PC1998    PC1999  \n",
       "0  0.000639 -0.001872  \n",
       "1 -0.015323  0.027681  \n",
       "2 -0.015482 -0.003578  \n",
       "3 -0.004452 -0.003956  \n",
       "4  0.005932 -0.017173  \n",
       "\n",
       "[5 rows x 2057 columns]"
      ]
     },
     "execution_count": 2,
     "metadata": {},
     "output_type": "execute_result"
    }
   ],
   "source": [
    "df3.head()"
   ]
  },
  {
   "cell_type": "code",
   "execution_count": 7,
   "metadata": {},
   "outputs": [],
   "source": [
    "X = df3.drop(columns=['id_producto','label'], axis=1)\n",
    "Y = df3['label']\n",
    "X_train, X_test, y_train, y_test = train_test_split(\n",
    "    X, Y, test_size=0.33, random_state=42)"
   ]
  },
  {
   "cell_type": "code",
   "execution_count": 8,
   "metadata": {},
   "outputs": [
    {
     "name": "stderr",
     "output_type": "stream",
     "text": [
      "C:\\Users\\metal\\AppData\\Roaming\\Python\\Python310\\site-packages\\sklearn\\linear_model\\_logistic.py:814: ConvergenceWarning: lbfgs failed to converge (status=1):\n",
      "STOP: TOTAL NO. of ITERATIONS REACHED LIMIT.\n",
      "\n",
      "Increase the number of iterations (max_iter) or scale the data as shown in:\n",
      "    https://scikit-learn.org/stable/modules/preprocessing.html\n",
      "Please also refer to the documentation for alternative solver options:\n",
      "    https://scikit-learn.org/stable/modules/linear_model.html#logistic-regression\n",
      "  n_iter_i = _check_optimize_result(\n"
     ]
    }
   ],
   "source": [
    "clf = LogisticRegression(solver='lbfgs') # la forma del GD\n",
    "clf = clf.fit(X_train, y_train)\n",
    "Y_pred = clf.predict(X_test)\n",
    "probs = clf.predict_proba(X_test)"
   ]
  },
  {
   "cell_type": "code",
   "execution_count": 9,
   "metadata": {},
   "outputs": [
    {
     "data": {
      "text/plain": [
       "0.9511264961276695"
      ]
     },
     "execution_count": 9,
     "metadata": {},
     "output_type": "execute_result"
    }
   ],
   "source": [
    "accuracy_score(y_test,Y_pred)"
   ]
  },
  {
   "cell_type": "code",
   "execution_count": 10,
   "metadata": {},
   "outputs": [
    {
     "data": {
      "text/plain": [
       "0.9586151089532396"
      ]
     },
     "execution_count": 10,
     "metadata": {},
     "output_type": "execute_result"
    }
   ],
   "source": [
    "Y_pred_train = clf.predict(X_train)\n",
    "accuracy_score(y_train,Y_pred_train)"
   ]
  },
  {
   "cell_type": "code",
   "execution_count": 11,
   "metadata": {},
   "outputs": [
    {
     "data": {
      "text/plain": [
       "array([[15027,   600],\n",
       "       [  233,  1184]], dtype=int64)"
      ]
     },
     "execution_count": 11,
     "metadata": {},
     "output_type": "execute_result"
    }
   ],
   "source": [
    "cfm = confusion_matrix(Y_pred, y_test)\n",
    "cfm"
   ]
  },
  {
   "cell_type": "code",
   "execution_count": 12,
   "metadata": {},
   "outputs": [
    {
     "name": "stdout",
     "output_type": "stream",
     "text": [
      "0.9753490323187324\n"
     ]
    }
   ],
   "source": [
    "fpr, tpr, threshold = metrics.roc_curve(y_test, probs[:,1])\n",
    "roc_auc = metrics.auc(fpr, tpr)\n",
    "print(roc_auc)"
   ]
  },
  {
   "cell_type": "code",
   "execution_count": 14,
   "metadata": {},
   "outputs": [
    {
     "data": {
      "image/png": "[encoded data removed]",
      "text/plain": [
       "<Figure size 432x288 with 1 Axes>"
      ]
     },
     "metadata": {
      "needs_background": "light"
     },
     "output_type": "display_data"
    }
   ],
   "source": [
    "plt.title('Receiver Operating Characteristic')\n",
    "plt.plot(fpr, tpr, 'b', label = 'AUC = %0.2f' % roc_auc)\n",
    "plt.legend(loc = 'lower right')\n",
    "plt.plot([0, 1], [0, 1],'r--')\n",
    "plt.xlim([0, 1])\n",
    "plt.ylim([0, 1])\n",
    "plt.ylabel('True Positive Rate')\n",
    "plt.xlabel('False Positive Rate')\n",
    "plt.show()"
   ]
  },
  {
   "cell_type": "code",
   "execution_count": null,
   "metadata": {},
   "outputs": [],
   "source": []
  }
 ],
 "metadata": {
  "kernelspec": {
   "display_name": "Python 3.10.4 64-bit",
   "language": "python",
   "name": "python3"
  },
  "language_info": {
   "codemirror_mode": {
    "name": "ipython",
    "version": 3
   },
   "file_extension": ".py",
   "mimetype": "text/x-python",
   "name": "python",
   "nbconvert_exporter": "python",
   "pygments_lexer": "ipython3",
   "version": "3.10.4"
  },
  "orig_nbformat": 4,
  "vscode": {
   "interpreter": {
    "hash": "26de051ba29f2982a8de78e945f0abaf191376122a1563185a90213a26c5da77"
   }
  }
 },
 "nbformat": 4,
 "nbformat_minor": 2
}
