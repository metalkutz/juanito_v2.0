{
 "cells": [
  {
   "cell_type": "code",
   "execution_count": 30,
   "metadata": {},
   "outputs": [],
   "source": [
    "import matplotlib.pyplot as plt\n",
    "import seaborn as sns\n",
    "\n",
    "from sklearn.model_selection import train_test_split\n",
    "from sklearn.linear_model import LogisticRegression\n",
    "from sklearn.metrics import RocCurveDisplay\n",
    "\n",
    "from funciones import* \n",
    "from collections import Counter\n",
    "from imblearn.over_sampling import SMOTE "
   ]
  },
  {
   "cell_type": "code",
   "execution_count": 2,
   "metadata": {},
   "outputs": [
    {
     "name": "stderr",
     "output_type": "stream",
     "text": [
      "C:\\Users\\metal\\AppData\\Roaming\\Python\\Python310\\site-packages\\sklearn\\utils\\deprecation.py:87: FutureWarning: Function get_feature_names is deprecated; get_feature_names is deprecated in 1.0 and will be removed in 1.2. Please use get_feature_names_out instead.\n",
      "  warnings.warn(msg, category=FutureWarning)\n"
     ]
    }
   ],
   "source": [
    "from main import *"
   ]
  },
  {
   "cell_type": "code",
   "execution_count": 3,
   "metadata": {},
   "outputs": [
    {
     "data": {
      "text/html": [
       "<div>\n",
       "<style scoped>\n",
       "    .dataframe tbody tr th:only-of-type {\n",
       "        vertical-align: middle;\n",
       "    }\n",
       "\n",
       "    .dataframe tbody tr th {\n",
       "        vertical-align: top;\n",
       "    }\n",
       "\n",
       "    .dataframe thead th {\n",
       "        text-align: right;\n",
       "    }\n",
       "</style>\n",
       "<table border=\"1\" class=\"dataframe\">\n",
       "  <thead>\n",
       "    <tr style=\"text-align: right;\">\n",
       "      <th></th>\n",
       "      <th>id_producto</th>\n",
       "      <th>label</th>\n",
       "      <th>Rubro1_Artículos de electrónica</th>\n",
       "      <th>Rubro1_Artículos de fabricación y producción</th>\n",
       "      <th>Rubro1_Artículos eléctricos y de iluminación</th>\n",
       "      <th>Rubro1_Artículos para estructuras, obras y construcciones</th>\n",
       "      <th>Rubro1_Artículos para plantas y animales</th>\n",
       "      <th>Rubro1_Combustibles, lubricantes y anticorrosivos</th>\n",
       "      <th>Rubro1_Consultoria</th>\n",
       "      <th>Rubro1_Educación, formación, entrenamiento y capacitación</th>\n",
       "      <th>...</th>\n",
       "      <th>PC9990</th>\n",
       "      <th>PC9991</th>\n",
       "      <th>PC9992</th>\n",
       "      <th>PC9993</th>\n",
       "      <th>PC9994</th>\n",
       "      <th>PC9995</th>\n",
       "      <th>PC9996</th>\n",
       "      <th>PC9997</th>\n",
       "      <th>PC9998</th>\n",
       "      <th>PC9999</th>\n",
       "    </tr>\n",
       "  </thead>\n",
       "  <tbody>\n",
       "    <tr>\n",
       "      <th>0</th>\n",
       "      <td>2792-88-LE21-1</td>\n",
       "      <td>0</td>\n",
       "      <td>0</td>\n",
       "      <td>0</td>\n",
       "      <td>0</td>\n",
       "      <td>0</td>\n",
       "      <td>0</td>\n",
       "      <td>0</td>\n",
       "      <td>0</td>\n",
       "      <td>0</td>\n",
       "      <td>...</td>\n",
       "      <td>-0.005341</td>\n",
       "      <td>0.004089</td>\n",
       "      <td>0.003771</td>\n",
       "      <td>0.000735</td>\n",
       "      <td>-0.006660</td>\n",
       "      <td>-0.005483</td>\n",
       "      <td>0.004383</td>\n",
       "      <td>0.007954</td>\n",
       "      <td>0.004593</td>\n",
       "      <td>-0.003470</td>\n",
       "    </tr>\n",
       "    <tr>\n",
       "      <th>1</th>\n",
       "      <td>1704-52-LP21-1</td>\n",
       "      <td>0</td>\n",
       "      <td>0</td>\n",
       "      <td>0</td>\n",
       "      <td>0</td>\n",
       "      <td>0</td>\n",
       "      <td>0</td>\n",
       "      <td>0</td>\n",
       "      <td>0</td>\n",
       "      <td>0</td>\n",
       "      <td>...</td>\n",
       "      <td>0.000954</td>\n",
       "      <td>-0.004517</td>\n",
       "      <td>0.000147</td>\n",
       "      <td>-0.000657</td>\n",
       "      <td>0.001618</td>\n",
       "      <td>0.003566</td>\n",
       "      <td>-0.002742</td>\n",
       "      <td>0.001740</td>\n",
       "      <td>-0.002151</td>\n",
       "      <td>0.002551</td>\n",
       "    </tr>\n",
       "    <tr>\n",
       "      <th>2</th>\n",
       "      <td>1003-20-L121-1</td>\n",
       "      <td>0</td>\n",
       "      <td>0</td>\n",
       "      <td>0</td>\n",
       "      <td>0</td>\n",
       "      <td>0</td>\n",
       "      <td>0</td>\n",
       "      <td>0</td>\n",
       "      <td>0</td>\n",
       "      <td>0</td>\n",
       "      <td>...</td>\n",
       "      <td>-0.000162</td>\n",
       "      <td>0.000340</td>\n",
       "      <td>0.000186</td>\n",
       "      <td>0.001135</td>\n",
       "      <td>-0.001117</td>\n",
       "      <td>-0.002063</td>\n",
       "      <td>0.000696</td>\n",
       "      <td>-0.000877</td>\n",
       "      <td>-0.001132</td>\n",
       "      <td>-0.001703</td>\n",
       "    </tr>\n",
       "    <tr>\n",
       "      <th>3</th>\n",
       "      <td>4236-21-L121-1</td>\n",
       "      <td>0</td>\n",
       "      <td>0</td>\n",
       "      <td>0</td>\n",
       "      <td>0</td>\n",
       "      <td>0</td>\n",
       "      <td>0</td>\n",
       "      <td>0</td>\n",
       "      <td>0</td>\n",
       "      <td>0</td>\n",
       "      <td>...</td>\n",
       "      <td>-0.000130</td>\n",
       "      <td>-0.001925</td>\n",
       "      <td>-0.000452</td>\n",
       "      <td>0.000100</td>\n",
       "      <td>-0.000518</td>\n",
       "      <td>0.000277</td>\n",
       "      <td>-0.001247</td>\n",
       "      <td>0.000605</td>\n",
       "      <td>0.000556</td>\n",
       "      <td>0.000978</td>\n",
       "    </tr>\n",
       "    <tr>\n",
       "      <th>4</th>\n",
       "      <td>4236-21-L121-2</td>\n",
       "      <td>0</td>\n",
       "      <td>0</td>\n",
       "      <td>0</td>\n",
       "      <td>0</td>\n",
       "      <td>0</td>\n",
       "      <td>0</td>\n",
       "      <td>0</td>\n",
       "      <td>0</td>\n",
       "      <td>0</td>\n",
       "      <td>...</td>\n",
       "      <td>0.000683</td>\n",
       "      <td>0.001150</td>\n",
       "      <td>-0.000758</td>\n",
       "      <td>0.000297</td>\n",
       "      <td>0.000357</td>\n",
       "      <td>0.000909</td>\n",
       "      <td>0.000692</td>\n",
       "      <td>-0.000217</td>\n",
       "      <td>-0.001372</td>\n",
       "      <td>0.001382</td>\n",
       "    </tr>\n",
       "  </tbody>\n",
       "</table>\n",
       "<p>5 rows × 10057 columns</p>\n",
       "</div>"
      ],
      "text/plain": [
       "      id_producto  label  Rubro1_Artículos de electrónica  \\\n",
       "0  2792-88-LE21-1      0                                0   \n",
       "1  1704-52-LP21-1      0                                0   \n",
       "2  1003-20-L121-1      0                                0   \n",
       "3  4236-21-L121-1      0                                0   \n",
       "4  4236-21-L121-2      0                                0   \n",
       "\n",
       "   Rubro1_Artículos de fabricación y producción  \\\n",
       "0                                             0   \n",
       "1                                             0   \n",
       "2                                             0   \n",
       "3                                             0   \n",
       "4                                             0   \n",
       "\n",
       "   Rubro1_Artículos eléctricos y de iluminación  \\\n",
       "0                                             0   \n",
       "1                                             0   \n",
       "2                                             0   \n",
       "3                                             0   \n",
       "4                                             0   \n",
       "\n",
       "   Rubro1_Artículos para estructuras, obras y construcciones  \\\n",
       "0                                                  0           \n",
       "1                                                  0           \n",
       "2                                                  0           \n",
       "3                                                  0           \n",
       "4                                                  0           \n",
       "\n",
       "   Rubro1_Artículos para plantas y animales  \\\n",
       "0                                         0   \n",
       "1                                         0   \n",
       "2                                         0   \n",
       "3                                         0   \n",
       "4                                         0   \n",
       "\n",
       "   Rubro1_Combustibles, lubricantes y anticorrosivos  Rubro1_Consultoria  \\\n",
       "0                                                  0                   0   \n",
       "1                                                  0                   0   \n",
       "2                                                  0                   0   \n",
       "3                                                  0                   0   \n",
       "4                                                  0                   0   \n",
       "\n",
       "   Rubro1_Educación, formación, entrenamiento y capacitación  ...    PC9990  \\\n",
       "0                                                  0          ... -0.005341   \n",
       "1                                                  0          ...  0.000954   \n",
       "2                                                  0          ... -0.000162   \n",
       "3                                                  0          ... -0.000130   \n",
       "4                                                  0          ...  0.000683   \n",
       "\n",
       "     PC9991    PC9992    PC9993    PC9994    PC9995    PC9996    PC9997  \\\n",
       "0  0.004089  0.003771  0.000735 -0.006660 -0.005483  0.004383  0.007954   \n",
       "1 -0.004517  0.000147 -0.000657  0.001618  0.003566 -0.002742  0.001740   \n",
       "2  0.000340  0.000186  0.001135 -0.001117 -0.002063  0.000696 -0.000877   \n",
       "3 -0.001925 -0.000452  0.000100 -0.000518  0.000277 -0.001247  0.000605   \n",
       "4  0.001150 -0.000758  0.000297  0.000357  0.000909  0.000692 -0.000217   \n",
       "\n",
       "     PC9998    PC9999  \n",
       "0  0.004593 -0.003470  \n",
       "1 -0.002151  0.002551  \n",
       "2 -0.001132 -0.001703  \n",
       "3  0.000556  0.000978  \n",
       "4 -0.001372  0.001382  \n",
       "\n",
       "[5 rows x 10057 columns]"
      ]
     },
     "execution_count": 3,
     "metadata": {},
     "output_type": "execute_result"
    }
   ],
   "source": [
    "df3.head()"
   ]
  },
  {
   "cell_type": "code",
   "execution_count": 4,
   "metadata": {},
   "outputs": [
    {
     "data": {
      "text/plain": [
       "Counter({0: 46270, 1: 5376})"
      ]
     },
     "execution_count": 4,
     "metadata": {},
     "output_type": "execute_result"
    }
   ],
   "source": [
    "Counter(df3['label'])"
   ]
  },
  {
   "cell_type": "code",
   "execution_count": 7,
   "metadata": {},
   "outputs": [
    {
     "data": {
      "text/plain": [
       "Counter({0: 46270, 1: 13881})"
      ]
     },
     "execution_count": 7,
     "metadata": {},
     "output_type": "execute_result"
    }
   ],
   "source": [
    "X_balanceado\n",
    "y_balanceado\n",
    "\n",
    "\n",
    "'''X = df3.drop(columns=['id_producto','label'], axis=1) # creamos la variables independientes\n",
    "y = df3['label']  # creamos la variable dependiente\n",
    "\n",
    "oversampling = SMOTE(sampling_strategy=0.30) # usamos oversampling sintético podemos elegir el nivel de oversampling con  sampling_strategy=0.80\n",
    "X_balanceado, y_balanceado = oversampling.fit_resample(X, y) #Se obtienen nuevos X e y\n",
    "\n",
    "'''\n",
    "X_train, X_test, y_train, y_test = train_test_split(\n",
    "    X_balanceado, y_balanceado, test_size=0.33, random_state=42)\n",
    "\n",
    "Counter(y_balanceado)"
   ]
  },
  {
   "cell_type": "code",
   "execution_count": 8,
   "metadata": {},
   "outputs": [
    {
     "name": "stderr",
     "output_type": "stream",
     "text": [
      "[Parallel(n_jobs=-1)]: Using backend LokyBackend with 16 concurrent workers.\n",
      "[Parallel(n_jobs=-1)]: Done   1 out of   1 | elapsed: 53.0min finished\n"
     ]
    }
   ],
   "source": [
    "clf = LogisticRegression(\n",
    "    solver='lbfgs', \n",
    "    penalty='l2',\n",
    "    multi_class='ovr',\n",
    "    max_iter=500,\n",
    "    n_jobs=-1,\n",
    "    verbose=1) # la forma del GD\n",
    "clf = clf.fit(X_train, y_train)\n",
    "Y_pred = clf.predict(X_test)\n",
    "probs = clf.predict_proba(X_test)"
   ]
  },
  {
   "cell_type": "code",
   "execution_count": 43,
   "metadata": {},
   "outputs": [
    {
     "data": {
      "image/png": "[encoded data removed]",
      "text/plain": [
       "<Figure size 432x288 with 1 Axes>"
      ]
     },
     "metadata": {
      "needs_background": "light"
     },
     "output_type": "display_data"
    },
    {
     "name": "stdout",
     "output_type": "stream",
     "text": [
      "Train AUC 0.9880337660002239\n",
      "              precision    recall  f1-score   support\n",
      "\n",
      "           0       0.95      0.98      0.97     31072\n",
      "           1       0.93      0.83      0.88      9229\n",
      "\n",
      "    accuracy                           0.95     40301\n",
      "   macro avg       0.94      0.91      0.92     40301\n",
      "weighted avg       0.95      0.95      0.95     40301\n",
      "\n"
     ]
    },
    {
     "data": {
      "image/png": "[encoded data removed]",
      "text/plain": [
       "<Figure size 432x288 with 2 Axes>"
      ]
     },
     "metadata": {
      "needs_background": "light"
     },
     "output_type": "display_data"
    },
    {
     "name": "stdout",
     "output_type": "stream",
     "text": [
      "Test AUC 0.9851949324802546\n",
      "              precision    recall  f1-score   support\n",
      "\n",
      "           0       0.95      0.98      0.96     15198\n",
      "           1       0.92      0.82      0.87      4652\n",
      "\n",
      "    accuracy                           0.94     19850\n",
      "   macro avg       0.94      0.90      0.92     19850\n",
      "weighted avg       0.94      0.94      0.94     19850\n",
      "\n"
     ]
    },
    {
     "data": {
      "image/png": "[encoded data removed]",
      "text/plain": [
       "<Figure size 432x288 with 2 Axes>"
      ]
     },
     "metadata": {
      "needs_background": "light"
     },
     "output_type": "display_data"
    }
   ],
   "source": [
    "metrics(clf, X_train, X_test, y_train, y_test, thr=0.6)"
   ]
  },
  {
   "cell_type": "code",
   "execution_count": 44,
   "metadata": {},
   "outputs": [
    {
     "data": {
      "image/png": "[encoded data removed]",
      "text/plain": [
       "<Figure size 432x288 with 1 Axes>"
      ]
     },
     "metadata": {
      "needs_background": "light"
     },
     "output_type": "display_data"
    }
   ],
   "source": [
    "RocCurveDisplay.from_estimator(clf, X_test, y_test)\n",
    "plt.show()\n"
   ]
  }
 ],
 "metadata": {
  "kernelspec": {
   "display_name": "Python 3.10.4 64-bit",
   "language": "python",
   "name": "python3"
  },
  "language_info": {
   "codemirror_mode": {
    "name": "ipython",
    "version": 3
   },
   "file_extension": ".py",
   "mimetype": "text/x-python",
   "name": "python",
   "nbconvert_exporter": "python",
   "pygments_lexer": "ipython3",
   "version": "3.10.4"
  },
  "orig_nbformat": 4,
  "vscode": {
   "interpreter": {
    "hash": "26de051ba29f2982a8de78e945f0abaf191376122a1563185a90213a26c5da77"
   }
  }
 },
 "nbformat": 4,
 "nbformat_minor": 2
}
