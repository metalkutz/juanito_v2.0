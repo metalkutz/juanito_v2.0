{
 "cells": [
  {
   "cell_type": "code",
   "execution_count": 9,
   "metadata": {},
   "outputs": [],
   "source": [
    "import matplotlib.pyplot as plt\n",
    "import seaborn as sns\n",
    "\n",
    "from sklearn import linear_model\n",
    "from sklearn.model_selection import train_test_split\n",
    "from sklearn.linear_model import LogisticRegression\n",
    "from sklearn.metrics import accuracy_score, confusion_matrix\n",
    "from sklearn import metrics\n",
    "from sklearn.metrics import plot_confusion_matrix, confusion_matrix, classification_report, ConfusionMatrixDisplay\n",
    "from sklearn.metrics import roc_curve, auc #roc_auc_curve"
   ]
  },
  {
   "cell_type": "code",
   "execution_count": 2,
   "metadata": {},
   "outputs": [],
   "source": [
    "from main import *"
   ]
  },
  {
   "cell_type": "code",
   "execution_count": 3,
   "metadata": {},
   "outputs": [
    {
     "data": {
      "text/html": [
       "<div>\n",
       "<style scoped>\n",
       "    .dataframe tbody tr th:only-of-type {\n",
       "        vertical-align: middle;\n",
       "    }\n",
       "\n",
       "    .dataframe tbody tr th {\n",
       "        vertical-align: top;\n",
       "    }\n",
       "\n",
       "    .dataframe thead th {\n",
       "        text-align: right;\n",
       "    }\n",
       "</style>\n",
       "<table border=\"1\" class=\"dataframe\">\n",
       "  <thead>\n",
       "    <tr style=\"text-align: right;\">\n",
       "      <th></th>\n",
       "      <th>id_producto</th>\n",
       "      <th>label</th>\n",
       "      <th>Rubro1_Artículos de electrónica</th>\n",
       "      <th>Rubro1_Artículos de fabricación y producción</th>\n",
       "      <th>Rubro1_Artículos eléctricos y de iluminación</th>\n",
       "      <th>Rubro1_Artículos para estructuras, obras y construcciones</th>\n",
       "      <th>Rubro1_Artículos para plantas y animales</th>\n",
       "      <th>Rubro1_Combustibles, lubricantes y anticorrosivos</th>\n",
       "      <th>Rubro1_Consultoria</th>\n",
       "      <th>Rubro1_Educación, formación, entrenamiento y capacitación</th>\n",
       "      <th>...</th>\n",
       "      <th>PC1990</th>\n",
       "      <th>PC1991</th>\n",
       "      <th>PC1992</th>\n",
       "      <th>PC1993</th>\n",
       "      <th>PC1994</th>\n",
       "      <th>PC1995</th>\n",
       "      <th>PC1996</th>\n",
       "      <th>PC1997</th>\n",
       "      <th>PC1998</th>\n",
       "      <th>PC1999</th>\n",
       "    </tr>\n",
       "  </thead>\n",
       "  <tbody>\n",
       "    <tr>\n",
       "      <th>0</th>\n",
       "      <td>2792-88-LE21-1</td>\n",
       "      <td>0</td>\n",
       "      <td>0</td>\n",
       "      <td>0</td>\n",
       "      <td>0</td>\n",
       "      <td>0</td>\n",
       "      <td>0</td>\n",
       "      <td>0</td>\n",
       "      <td>0</td>\n",
       "      <td>0</td>\n",
       "      <td>...</td>\n",
       "      <td>-0.000376</td>\n",
       "      <td>-0.005662</td>\n",
       "      <td>-0.000359</td>\n",
       "      <td>0.004838</td>\n",
       "      <td>-0.000920</td>\n",
       "      <td>0.001261</td>\n",
       "      <td>0.002701</td>\n",
       "      <td>0.000242</td>\n",
       "      <td>-0.000644</td>\n",
       "      <td>-0.001580</td>\n",
       "    </tr>\n",
       "    <tr>\n",
       "      <th>1</th>\n",
       "      <td>1704-52-LP21-1</td>\n",
       "      <td>0</td>\n",
       "      <td>0</td>\n",
       "      <td>0</td>\n",
       "      <td>0</td>\n",
       "      <td>0</td>\n",
       "      <td>0</td>\n",
       "      <td>0</td>\n",
       "      <td>0</td>\n",
       "      <td>0</td>\n",
       "      <td>...</td>\n",
       "      <td>0.015695</td>\n",
       "      <td>-0.005086</td>\n",
       "      <td>0.024285</td>\n",
       "      <td>-0.014826</td>\n",
       "      <td>-0.016438</td>\n",
       "      <td>-0.005287</td>\n",
       "      <td>0.001115</td>\n",
       "      <td>-0.016850</td>\n",
       "      <td>0.026615</td>\n",
       "      <td>-0.001008</td>\n",
       "    </tr>\n",
       "    <tr>\n",
       "      <th>2</th>\n",
       "      <td>1003-20-L121-1</td>\n",
       "      <td>0</td>\n",
       "      <td>0</td>\n",
       "      <td>0</td>\n",
       "      <td>0</td>\n",
       "      <td>0</td>\n",
       "      <td>0</td>\n",
       "      <td>0</td>\n",
       "      <td>0</td>\n",
       "      <td>0</td>\n",
       "      <td>...</td>\n",
       "      <td>0.000089</td>\n",
       "      <td>-0.004681</td>\n",
       "      <td>-0.004071</td>\n",
       "      <td>-0.004756</td>\n",
       "      <td>-0.007465</td>\n",
       "      <td>0.004945</td>\n",
       "      <td>0.001624</td>\n",
       "      <td>-0.004462</td>\n",
       "      <td>0.005613</td>\n",
       "      <td>0.000152</td>\n",
       "    </tr>\n",
       "    <tr>\n",
       "      <th>3</th>\n",
       "      <td>4236-21-L121-1</td>\n",
       "      <td>0</td>\n",
       "      <td>0</td>\n",
       "      <td>0</td>\n",
       "      <td>0</td>\n",
       "      <td>0</td>\n",
       "      <td>0</td>\n",
       "      <td>0</td>\n",
       "      <td>0</td>\n",
       "      <td>0</td>\n",
       "      <td>...</td>\n",
       "      <td>-0.011072</td>\n",
       "      <td>-0.001298</td>\n",
       "      <td>-0.016227</td>\n",
       "      <td>0.008546</td>\n",
       "      <td>0.007750</td>\n",
       "      <td>0.008546</td>\n",
       "      <td>-0.007562</td>\n",
       "      <td>-0.004685</td>\n",
       "      <td>-0.000746</td>\n",
       "      <td>-0.009292</td>\n",
       "    </tr>\n",
       "    <tr>\n",
       "      <th>4</th>\n",
       "      <td>4236-21-L121-2</td>\n",
       "      <td>0</td>\n",
       "      <td>0</td>\n",
       "      <td>0</td>\n",
       "      <td>0</td>\n",
       "      <td>0</td>\n",
       "      <td>0</td>\n",
       "      <td>0</td>\n",
       "      <td>0</td>\n",
       "      <td>0</td>\n",
       "      <td>...</td>\n",
       "      <td>0.063728</td>\n",
       "      <td>-0.022921</td>\n",
       "      <td>0.007085</td>\n",
       "      <td>-0.025304</td>\n",
       "      <td>0.026365</td>\n",
       "      <td>0.047598</td>\n",
       "      <td>0.003196</td>\n",
       "      <td>0.034772</td>\n",
       "      <td>0.064098</td>\n",
       "      <td>0.002989</td>\n",
       "    </tr>\n",
       "  </tbody>\n",
       "</table>\n",
       "<p>5 rows × 2057 columns</p>\n",
       "</div>"
      ],
      "text/plain": [
       "      id_producto  label  Rubro1_Artículos de electrónica  \\\n",
       "0  2792-88-LE21-1      0                                0   \n",
       "1  1704-52-LP21-1      0                                0   \n",
       "2  1003-20-L121-1      0                                0   \n",
       "3  4236-21-L121-1      0                                0   \n",
       "4  4236-21-L121-2      0                                0   \n",
       "\n",
       "   Rubro1_Artículos de fabricación y producción  \\\n",
       "0                                             0   \n",
       "1                                             0   \n",
       "2                                             0   \n",
       "3                                             0   \n",
       "4                                             0   \n",
       "\n",
       "   Rubro1_Artículos eléctricos y de iluminación  \\\n",
       "0                                             0   \n",
       "1                                             0   \n",
       "2                                             0   \n",
       "3                                             0   \n",
       "4                                             0   \n",
       "\n",
       "   Rubro1_Artículos para estructuras, obras y construcciones  \\\n",
       "0                                                  0           \n",
       "1                                                  0           \n",
       "2                                                  0           \n",
       "3                                                  0           \n",
       "4                                                  0           \n",
       "\n",
       "   Rubro1_Artículos para plantas y animales  \\\n",
       "0                                         0   \n",
       "1                                         0   \n",
       "2                                         0   \n",
       "3                                         0   \n",
       "4                                         0   \n",
       "\n",
       "   Rubro1_Combustibles, lubricantes y anticorrosivos  Rubro1_Consultoria  \\\n",
       "0                                                  0                   0   \n",
       "1                                                  0                   0   \n",
       "2                                                  0                   0   \n",
       "3                                                  0                   0   \n",
       "4                                                  0                   0   \n",
       "\n",
       "   Rubro1_Educación, formación, entrenamiento y capacitación  ...    PC1990  \\\n",
       "0                                                  0          ... -0.000376   \n",
       "1                                                  0          ...  0.015695   \n",
       "2                                                  0          ...  0.000089   \n",
       "3                                                  0          ... -0.011072   \n",
       "4                                                  0          ...  0.063728   \n",
       "\n",
       "     PC1991    PC1992    PC1993    PC1994    PC1995    PC1996    PC1997  \\\n",
       "0 -0.005662 -0.000359  0.004838 -0.000920  0.001261  0.002701  0.000242   \n",
       "1 -0.005086  0.024285 -0.014826 -0.016438 -0.005287  0.001115 -0.016850   \n",
       "2 -0.004681 -0.004071 -0.004756 -0.007465  0.004945  0.001624 -0.004462   \n",
       "3 -0.001298 -0.016227  0.008546  0.007750  0.008546 -0.007562 -0.004685   \n",
       "4 -0.022921  0.007085 -0.025304  0.026365  0.047598  0.003196  0.034772   \n",
       "\n",
       "     PC1998    PC1999  \n",
       "0 -0.000644 -0.001580  \n",
       "1  0.026615 -0.001008  \n",
       "2  0.005613  0.000152  \n",
       "3 -0.000746 -0.009292  \n",
       "4  0.064098  0.002989  \n",
       "\n",
       "[5 rows x 2057 columns]"
      ]
     },
     "execution_count": 3,
     "metadata": {},
     "output_type": "execute_result"
    }
   ],
   "source": [
    "df3.head()"
   ]
  },
  {
   "cell_type": "code",
   "execution_count": 4,
   "metadata": {},
   "outputs": [],
   "source": [
    "X = df3.drop(columns=['id_producto','label'], axis=1)\n",
    "Y = df3['label']\n",
    "X_train, X_test, y_train, y_test = train_test_split(\n",
    "    X, Y, test_size=0.33, random_state=42)"
   ]
  },
  {
   "cell_type": "code",
   "execution_count": 5,
   "metadata": {},
   "outputs": [],
   "source": [
    "clf = LogisticRegression(solver='lbfgs') # la forma del GD\n",
    "clf = clf.fit(X_train, y_train)\n",
    "Y_pred = clf.predict(X_test)\n",
    "probs = clf.predict_proba(X_test)"
   ]
  },
  {
   "cell_type": "code",
   "execution_count": 6,
   "metadata": {},
   "outputs": [
    {
     "data": {
      "text/plain": [
       "0.9513025111476179"
      ]
     },
     "execution_count": 6,
     "metadata": {},
     "output_type": "execute_result"
    }
   ],
   "source": [
    "accuracy_score(y_test,Y_pred)"
   ]
  },
  {
   "cell_type": "code",
   "execution_count": 7,
   "metadata": {},
   "outputs": [
    {
     "data": {
      "text/plain": [
       "0.958470608635339"
      ]
     },
     "execution_count": 7,
     "metadata": {},
     "output_type": "execute_result"
    }
   ],
   "source": [
    "Y_pred_train = clf.predict(X_train)\n",
    "accuracy_score(y_train,Y_pred_train)"
   ]
  },
  {
   "cell_type": "code",
   "execution_count": 8,
   "metadata": {},
   "outputs": [
    {
     "data": {
      "text/plain": [
       "array([[15026,   596],\n",
       "       [  234,  1188]], dtype=int64)"
      ]
     },
     "execution_count": 8,
     "metadata": {},
     "output_type": "execute_result"
    }
   ],
   "source": [
    "cfm = confusion_matrix(Y_pred, y_test)\n",
    "cfm"
   ]
  },
  {
   "cell_type": "code",
   "execution_count": 10,
   "metadata": {},
   "outputs": [
    {
     "data": {
      "image/png": "[encoded data removed]",
      "text/plain": [
       "<Figure size 432x288 with 2 Axes>"
      ]
     },
     "metadata": {
      "needs_background": "light"
     },
     "output_type": "display_data"
    }
   ],
   "source": [
    "y_pred = clf.predict(X_test)\n",
    "probs = clf.predict_proba(X_test)\n",
    "#plot_confusion_matrix(model_result,  X_test, y_test) funcion deprecada en futuras versiones\n",
    "cm = confusion_matrix(y_test,y_pred)\n",
    "disp = ConfusionMatrixDisplay(confusion_matrix=cm, display_labels=clf.classes_)\n",
    "disp.plot()\n",
    "plt.show()"
   ]
  },
  {
   "cell_type": "code",
   "execution_count": 12,
   "metadata": {},
   "outputs": [
    {
     "name": "stdout",
     "output_type": "stream",
     "text": [
      "0.9753490323187324\n"
     ]
    }
   ],
   "source": [
    "fpr, tpr, threshold = metrics.roc_curve(y_test, probs[:,1])\n",
    "roc_auc = metrics.auc(fpr, tpr)\n",
    "print(roc_auc)"
   ]
  },
  {
   "cell_type": "code",
   "execution_count": 14,
   "metadata": {},
   "outputs": [
    {
     "data": {
      "image/png": "[encoded data removed]",
      "text/plain": [
       "<Figure size 432x288 with 1 Axes>"
      ]
     },
     "metadata": {
      "needs_background": "light"
     },
     "output_type": "display_data"
    }
   ],
   "source": [
    "plt.title('Receiver Operating Characteristic')\n",
    "plt.plot(fpr, tpr, 'b', label = 'AUC = %0.2f' % roc_auc)\n",
    "plt.legend(loc = 'lower right')\n",
    "plt.plot([0, 1], [0, 1],'r--')\n",
    "plt.xlim([0, 1])\n",
    "plt.ylim([0, 1])\n",
    "plt.ylabel('True Positive Rate')\n",
    "plt.xlabel('False Positive Rate')\n",
    "plt.show()"
   ]
  },
  {
   "cell_type": "code",
   "execution_count": 11,
   "metadata": {},
   "outputs": [
    {
     "name": "stdout",
     "output_type": "stream",
     "text": [
      "              precision    recall  f1-score   support\n",
      "\n",
      "           0       0.96      0.98      0.97     15260\n",
      "           1       0.84      0.67      0.74      1784\n",
      "\n",
      "    accuracy                           0.95     17044\n",
      "   macro avg       0.90      0.83      0.86     17044\n",
      "weighted avg       0.95      0.95      0.95     17044\n",
      "\n"
     ]
    }
   ],
   "source": [
    "print(classification_report(y_test,y_pred,target_names=['0','1']))"
   ]
  }
 ],
 "metadata": {
  "kernelspec": {
   "display_name": "Python 3.10.4 64-bit",
   "language": "python",
   "name": "python3"
  },
  "language_info": {
   "codemirror_mode": {
    "name": "ipython",
    "version": 3
   },
   "file_extension": ".py",
   "mimetype": "text/x-python",
   "name": "python",
   "nbconvert_exporter": "python",
   "pygments_lexer": "ipython3",
   "version": "3.10.4"
  },
  "orig_nbformat": 4,
  "vscode": {
   "interpreter": {
    "hash": "26de051ba29f2982a8de78e945f0abaf191376122a1563185a90213a26c5da77"
   }
  }
 },
 "nbformat": 4,
 "nbformat_minor": 2
}
