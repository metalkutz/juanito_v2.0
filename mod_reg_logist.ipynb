{
 "cells": [
  {
   "cell_type": "code",
   "execution_count": 1,
   "metadata": {},
   "outputs": [],
   "source": [
    "####### os, pickle\n",
    "import os\n",
    "import pickle\n",
    "\n",
    "import matplotlib.pyplot as plt\n",
    "import seaborn as sns\n",
    "\n",
    "from sklearn.model_selection import train_test_split\n",
    "from sklearn.linear_model import LogisticRegression\n",
    "from sklearn.model_selection import GridSearchCV\n",
    "from sklearn.metrics import RocCurveDisplay\n",
    "\n",
    "from funciones import* \n",
    "from collections import Counter\n",
    "from imblearn.over_sampling import SMOTE "
   ]
  },
  {
   "cell_type": "code",
   "execution_count": 2,
   "metadata": {},
   "outputs": [
    {
     "name": "stdout",
     "output_type": "stream",
     "text": [
      "X_cat: (5111, 6383) y_cat: (5111,)\n",
      "X: (51646, 10055) y: (51646,)\n",
      "X_redux: (51646, 65) y_redux: (51646,)\n"
     ]
    }
   ],
   "source": [
    "from main import *"
   ]
  },
  {
   "cell_type": "code",
   "execution_count": 17,
   "metadata": {},
   "outputs": [
    {
     "data": {
      "text/html": [
       "<div>\n",
       "<style scoped>\n",
       "    .dataframe tbody tr th:only-of-type {\n",
       "        vertical-align: middle;\n",
       "    }\n",
       "\n",
       "    .dataframe tbody tr th {\n",
       "        vertical-align: top;\n",
       "    }\n",
       "\n",
       "    .dataframe thead th {\n",
       "        text-align: right;\n",
       "    }\n",
       "</style>\n",
       "<table border=\"1\" class=\"dataframe\">\n",
       "  <thead>\n",
       "    <tr style=\"text-align: right;\">\n",
       "      <th></th>\n",
       "      <th>Rubro1_Artículos de electrónica</th>\n",
       "      <th>Rubro1_Artículos de fabricación y producción</th>\n",
       "      <th>Rubro1_Artículos eléctricos y de iluminación</th>\n",
       "      <th>Rubro1_Artículos para estructuras, obras y construcciones</th>\n",
       "      <th>Rubro1_Artículos para plantas y animales</th>\n",
       "      <th>Rubro1_Combustibles, lubricantes y anticorrosivos</th>\n",
       "      <th>Rubro1_Consultoria</th>\n",
       "      <th>Rubro1_Educación, formación, entrenamiento y capacitación</th>\n",
       "      <th>Rubro1_Equipamiento para el acondicionamiento, distribución y filtrado de fluidos</th>\n",
       "      <th>Rubro1_Equipamiento para laboratorios</th>\n",
       "      <th>...</th>\n",
       "      <th>nombre_producto_Ángulos de plástico</th>\n",
       "      <th>nombre_producto_Árbol de medios</th>\n",
       "      <th>nombre_producto_Árboles</th>\n",
       "      <th>nombre_producto_Árnica</th>\n",
       "      <th>nombre_producto_Émbolo buzo de desagüe o inodoro</th>\n",
       "      <th>nombre_producto_Éter</th>\n",
       "      <th>nombre_producto_Órtesis ortopédicas espinales</th>\n",
       "      <th>nombre_producto_Óxido de calcio</th>\n",
       "      <th>nombre_producto_Útiles de colocación de compuestos</th>\n",
       "      <th>nombre_producto_Útiles de colocación de hidróxido de calcio</th>\n",
       "    </tr>\n",
       "    <tr>\n",
       "      <th>id_producto</th>\n",
       "      <th></th>\n",
       "      <th></th>\n",
       "      <th></th>\n",
       "      <th></th>\n",
       "      <th></th>\n",
       "      <th></th>\n",
       "      <th></th>\n",
       "      <th></th>\n",
       "      <th></th>\n",
       "      <th></th>\n",
       "      <th></th>\n",
       "      <th></th>\n",
       "      <th></th>\n",
       "      <th></th>\n",
       "      <th></th>\n",
       "      <th></th>\n",
       "      <th></th>\n",
       "      <th></th>\n",
       "      <th></th>\n",
       "      <th></th>\n",
       "      <th></th>\n",
       "    </tr>\n",
       "  </thead>\n",
       "  <tbody>\n",
       "    <tr>\n",
       "      <th>2792-88-LE21-1</th>\n",
       "      <td>0</td>\n",
       "      <td>0</td>\n",
       "      <td>0</td>\n",
       "      <td>0</td>\n",
       "      <td>0</td>\n",
       "      <td>0</td>\n",
       "      <td>0</td>\n",
       "      <td>0</td>\n",
       "      <td>0</td>\n",
       "      <td>0</td>\n",
       "      <td>...</td>\n",
       "      <td>0</td>\n",
       "      <td>0</td>\n",
       "      <td>0</td>\n",
       "      <td>0</td>\n",
       "      <td>0</td>\n",
       "      <td>0</td>\n",
       "      <td>0</td>\n",
       "      <td>0</td>\n",
       "      <td>0</td>\n",
       "      <td>0</td>\n",
       "    </tr>\n",
       "    <tr>\n",
       "      <th>1704-52-LP21-1</th>\n",
       "      <td>0</td>\n",
       "      <td>0</td>\n",
       "      <td>0</td>\n",
       "      <td>0</td>\n",
       "      <td>0</td>\n",
       "      <td>0</td>\n",
       "      <td>0</td>\n",
       "      <td>0</td>\n",
       "      <td>0</td>\n",
       "      <td>0</td>\n",
       "      <td>...</td>\n",
       "      <td>0</td>\n",
       "      <td>0</td>\n",
       "      <td>0</td>\n",
       "      <td>0</td>\n",
       "      <td>0</td>\n",
       "      <td>0</td>\n",
       "      <td>0</td>\n",
       "      <td>0</td>\n",
       "      <td>0</td>\n",
       "      <td>0</td>\n",
       "    </tr>\n",
       "    <tr>\n",
       "      <th>1003-20-L121-1</th>\n",
       "      <td>0</td>\n",
       "      <td>0</td>\n",
       "      <td>0</td>\n",
       "      <td>0</td>\n",
       "      <td>0</td>\n",
       "      <td>0</td>\n",
       "      <td>0</td>\n",
       "      <td>0</td>\n",
       "      <td>0</td>\n",
       "      <td>0</td>\n",
       "      <td>...</td>\n",
       "      <td>0</td>\n",
       "      <td>0</td>\n",
       "      <td>0</td>\n",
       "      <td>0</td>\n",
       "      <td>0</td>\n",
       "      <td>0</td>\n",
       "      <td>0</td>\n",
       "      <td>0</td>\n",
       "      <td>0</td>\n",
       "      <td>0</td>\n",
       "    </tr>\n",
       "    <tr>\n",
       "      <th>903556-3-LP21-1</th>\n",
       "      <td>0</td>\n",
       "      <td>0</td>\n",
       "      <td>0</td>\n",
       "      <td>0</td>\n",
       "      <td>0</td>\n",
       "      <td>0</td>\n",
       "      <td>0</td>\n",
       "      <td>0</td>\n",
       "      <td>0</td>\n",
       "      <td>0</td>\n",
       "      <td>...</td>\n",
       "      <td>0</td>\n",
       "      <td>0</td>\n",
       "      <td>0</td>\n",
       "      <td>0</td>\n",
       "      <td>0</td>\n",
       "      <td>0</td>\n",
       "      <td>0</td>\n",
       "      <td>0</td>\n",
       "      <td>0</td>\n",
       "      <td>0</td>\n",
       "    </tr>\n",
       "    <tr>\n",
       "      <th>4236-21-L121-1</th>\n",
       "      <td>0</td>\n",
       "      <td>0</td>\n",
       "      <td>0</td>\n",
       "      <td>0</td>\n",
       "      <td>0</td>\n",
       "      <td>0</td>\n",
       "      <td>0</td>\n",
       "      <td>0</td>\n",
       "      <td>0</td>\n",
       "      <td>0</td>\n",
       "      <td>...</td>\n",
       "      <td>0</td>\n",
       "      <td>0</td>\n",
       "      <td>0</td>\n",
       "      <td>0</td>\n",
       "      <td>0</td>\n",
       "      <td>0</td>\n",
       "      <td>0</td>\n",
       "      <td>0</td>\n",
       "      <td>0</td>\n",
       "      <td>0</td>\n",
       "    </tr>\n",
       "  </tbody>\n",
       "</table>\n",
       "<p>5 rows × 6383 columns</p>\n",
       "</div>"
      ],
      "text/plain": [
       "                 Rubro1_Artículos de electrónica  \\\n",
       "id_producto                                        \n",
       "2792-88-LE21-1                                 0   \n",
       "1704-52-LP21-1                                 0   \n",
       "1003-20-L121-1                                 0   \n",
       "903556-3-LP21-1                                0   \n",
       "4236-21-L121-1                                 0   \n",
       "\n",
       "                 Rubro1_Artículos de fabricación y producción  \\\n",
       "id_producto                                                     \n",
       "2792-88-LE21-1                                              0   \n",
       "1704-52-LP21-1                                              0   \n",
       "1003-20-L121-1                                              0   \n",
       "903556-3-LP21-1                                             0   \n",
       "4236-21-L121-1                                              0   \n",
       "\n",
       "                 Rubro1_Artículos eléctricos y de iluminación  \\\n",
       "id_producto                                                     \n",
       "2792-88-LE21-1                                              0   \n",
       "1704-52-LP21-1                                              0   \n",
       "1003-20-L121-1                                              0   \n",
       "903556-3-LP21-1                                             0   \n",
       "4236-21-L121-1                                              0   \n",
       "\n",
       "                 Rubro1_Artículos para estructuras, obras y construcciones  \\\n",
       "id_producto                                                                  \n",
       "2792-88-LE21-1                                                   0           \n",
       "1704-52-LP21-1                                                   0           \n",
       "1003-20-L121-1                                                   0           \n",
       "903556-3-LP21-1                                                  0           \n",
       "4236-21-L121-1                                                   0           \n",
       "\n",
       "                 Rubro1_Artículos para plantas y animales  \\\n",
       "id_producto                                                 \n",
       "2792-88-LE21-1                                          0   \n",
       "1704-52-LP21-1                                          0   \n",
       "1003-20-L121-1                                          0   \n",
       "903556-3-LP21-1                                         0   \n",
       "4236-21-L121-1                                          0   \n",
       "\n",
       "                 Rubro1_Combustibles, lubricantes y anticorrosivos  \\\n",
       "id_producto                                                          \n",
       "2792-88-LE21-1                                                   0   \n",
       "1704-52-LP21-1                                                   0   \n",
       "1003-20-L121-1                                                   0   \n",
       "903556-3-LP21-1                                                  0   \n",
       "4236-21-L121-1                                                   0   \n",
       "\n",
       "                 Rubro1_Consultoria  \\\n",
       "id_producto                           \n",
       "2792-88-LE21-1                    0   \n",
       "1704-52-LP21-1                    0   \n",
       "1003-20-L121-1                    0   \n",
       "903556-3-LP21-1                   0   \n",
       "4236-21-L121-1                    0   \n",
       "\n",
       "                 Rubro1_Educación, formación, entrenamiento y capacitación  \\\n",
       "id_producto                                                                  \n",
       "2792-88-LE21-1                                                   0           \n",
       "1704-52-LP21-1                                                   0           \n",
       "1003-20-L121-1                                                   0           \n",
       "903556-3-LP21-1                                                  0           \n",
       "4236-21-L121-1                                                   0           \n",
       "\n",
       "                 Rubro1_Equipamiento para el acondicionamiento, distribución y filtrado de fluidos  \\\n",
       "id_producto                                                                                          \n",
       "2792-88-LE21-1                                                   0                                   \n",
       "1704-52-LP21-1                                                   0                                   \n",
       "1003-20-L121-1                                                   0                                   \n",
       "903556-3-LP21-1                                                  0                                   \n",
       "4236-21-L121-1                                                   0                                   \n",
       "\n",
       "                 Rubro1_Equipamiento para laboratorios  ...  \\\n",
       "id_producto                                             ...   \n",
       "2792-88-LE21-1                                       0  ...   \n",
       "1704-52-LP21-1                                       0  ...   \n",
       "1003-20-L121-1                                       0  ...   \n",
       "903556-3-LP21-1                                      0  ...   \n",
       "4236-21-L121-1                                       0  ...   \n",
       "\n",
       "                 nombre_producto_Ángulos de plástico  \\\n",
       "id_producto                                            \n",
       "2792-88-LE21-1                                     0   \n",
       "1704-52-LP21-1                                     0   \n",
       "1003-20-L121-1                                     0   \n",
       "903556-3-LP21-1                                    0   \n",
       "4236-21-L121-1                                     0   \n",
       "\n",
       "                 nombre_producto_Árbol de medios  nombre_producto_Árboles  \\\n",
       "id_producto                                                                 \n",
       "2792-88-LE21-1                                 0                        0   \n",
       "1704-52-LP21-1                                 0                        0   \n",
       "1003-20-L121-1                                 0                        0   \n",
       "903556-3-LP21-1                                0                        0   \n",
       "4236-21-L121-1                                 0                        0   \n",
       "\n",
       "                 nombre_producto_Árnica  \\\n",
       "id_producto                               \n",
       "2792-88-LE21-1                        0   \n",
       "1704-52-LP21-1                        0   \n",
       "1003-20-L121-1                        0   \n",
       "903556-3-LP21-1                       0   \n",
       "4236-21-L121-1                        0   \n",
       "\n",
       "                 nombre_producto_Émbolo buzo de desagüe o inodoro  \\\n",
       "id_producto                                                         \n",
       "2792-88-LE21-1                                                  0   \n",
       "1704-52-LP21-1                                                  0   \n",
       "1003-20-L121-1                                                  0   \n",
       "903556-3-LP21-1                                                 0   \n",
       "4236-21-L121-1                                                  0   \n",
       "\n",
       "                 nombre_producto_Éter  \\\n",
       "id_producto                             \n",
       "2792-88-LE21-1                      0   \n",
       "1704-52-LP21-1                      0   \n",
       "1003-20-L121-1                      0   \n",
       "903556-3-LP21-1                     0   \n",
       "4236-21-L121-1                      0   \n",
       "\n",
       "                 nombre_producto_Órtesis ortopédicas espinales  \\\n",
       "id_producto                                                      \n",
       "2792-88-LE21-1                                               0   \n",
       "1704-52-LP21-1                                               0   \n",
       "1003-20-L121-1                                               0   \n",
       "903556-3-LP21-1                                              0   \n",
       "4236-21-L121-1                                               0   \n",
       "\n",
       "                 nombre_producto_Óxido de calcio  \\\n",
       "id_producto                                        \n",
       "2792-88-LE21-1                                 0   \n",
       "1704-52-LP21-1                                 0   \n",
       "1003-20-L121-1                                 0   \n",
       "903556-3-LP21-1                                0   \n",
       "4236-21-L121-1                                 0   \n",
       "\n",
       "                 nombre_producto_Útiles de colocación de compuestos  \\\n",
       "id_producto                                                           \n",
       "2792-88-LE21-1                                                   0    \n",
       "1704-52-LP21-1                                                   0    \n",
       "1003-20-L121-1                                                   0    \n",
       "903556-3-LP21-1                                                  0    \n",
       "4236-21-L121-1                                                   0    \n",
       "\n",
       "                 nombre_producto_Útiles de colocación de hidróxido de calcio  \n",
       "id_producto                                                                   \n",
       "2792-88-LE21-1                                                   0            \n",
       "1704-52-LP21-1                                                   0            \n",
       "1003-20-L121-1                                                   0            \n",
       "903556-3-LP21-1                                                  0            \n",
       "4236-21-L121-1                                                   0            \n",
       "\n",
       "[5 rows x 6383 columns]"
      ]
     },
     "execution_count": 17,
     "metadata": {},
     "output_type": "execute_result"
    }
   ],
   "source": [
    "#X_balanceado.head()\n",
    "X_cat.head()"
   ]
  },
  {
   "cell_type": "code",
   "execution_count": 18,
   "metadata": {},
   "outputs": [
    {
     "data": {
      "text/plain": [
       "Counter({0: 4525, 1: 586})"
      ]
     },
     "execution_count": 18,
     "metadata": {},
     "output_type": "execute_result"
    }
   ],
   "source": [
    "Counter(y_cat)\n",
    "#Counter(y_balanceado_redux)"
   ]
  },
  {
   "cell_type": "markdown",
   "metadata": {},
   "source": [
    "## Entrenamiento con variables categoricas Mercado Publico (sólo dummies)"
   ]
  },
  {
   "cell_type": "code",
   "execution_count": 19,
   "metadata": {},
   "outputs": [],
   "source": [
    "\n",
    "X_train, X_test, y_train, y_test = train_test_split(\n",
    "    X_cat, y_cat, test_size=0.33, random_state=42)\n",
    "\n",
    "oversampling = SMOTE(sampling_strategy=0.30) # usamos oversampling sintético podemos elegir el nivel de oversampling con  sampling_strategy=0.80\n",
    "X_train_smote, y_train_smote = oversampling.fit_resample(X_train, y_train) #Se obtienen nuevos X e y\n"
   ]
  },
  {
   "cell_type": "code",
   "execution_count": 23,
   "metadata": {},
   "outputs": [
    {
     "name": "stderr",
     "output_type": "stream",
     "text": [
      "[Parallel(n_jobs=-1)]: Using backend LokyBackend with 16 concurrent workers.\n",
      "[Parallel(n_jobs=-1)]: Done   1 out of   1 | elapsed:   31.8s finished\n"
     ]
    }
   ],
   "source": [
    "clf = LogisticRegression(\n",
    "    solver='lbfgs', \n",
    "    penalty='l2',\n",
    "    multi_class='ovr',\n",
    "    max_iter=500,\n",
    "    C= 0.1,\n",
    "    n_jobs=-1,\n",
    "    verbose=1) # la forma del GD\n",
    "clf = clf.fit(X_train_smote, y_train_smote)\n",
    "Y_pred = clf.predict(X_test)\n",
    "probs = clf.predict_proba(X_test)"
   ]
  },
  {
   "cell_type": "code",
   "execution_count": 24,
   "metadata": {},
   "outputs": [
    {
     "data": {
      "image/png": "[encoded data removed]",
      "text/plain": [
       "<Figure size 432x288 with 1 Axes>"
      ]
     },
     "metadata": {
      "needs_background": "light"
     },
     "output_type": "display_data"
    },
    {
     "name": "stdout",
     "output_type": "stream",
     "text": [
      "Train AUC 0.9259745628754164\n",
      "              precision    recall  f1-score   support\n",
      "\n",
      "           0       0.90      1.00      0.94      3046\n",
      "           1       0.87      0.07      0.13       378\n",
      "\n",
      "    accuracy                           0.90      3424\n",
      "   macro avg       0.88      0.54      0.54      3424\n",
      "weighted avg       0.89      0.90      0.86      3424\n",
      "\n"
     ]
    },
    {
     "data": {
      "image/png": "[encoded data removed]",
      "text/plain": [
       "<Figure size 432x288 with 2 Axes>"
      ]
     },
     "metadata": {
      "needs_background": "light"
     },
     "output_type": "display_data"
    },
    {
     "name": "stdout",
     "output_type": "stream",
     "text": [
      "Test AUC 0.8772673193946013\n",
      "              precision    recall  f1-score   support\n",
      "\n",
      "           0       0.89      1.00      0.94      1479\n",
      "           1       0.87      0.10      0.17       208\n",
      "\n",
      "    accuracy                           0.89      1687\n",
      "   macro avg       0.88      0.55      0.56      1687\n",
      "weighted avg       0.88      0.89      0.84      1687\n",
      "\n"
     ]
    },
    {
     "data": {
      "image/png": "[encoded data removed]",
      "text/plain": [
       "<Figure size 432x288 with 2 Axes>"
      ]
     },
     "metadata": {
      "needs_background": "light"
     },
     "output_type": "display_data"
    }
   ],
   "source": [
    "x07 = metrics(clf, X_train, X_test, y_train, y_test, thr=0.5)\n",
    "x07"
   ]
  },
  {
   "cell_type": "code",
   "execution_count": 46,
   "metadata": {},
   "outputs": [],
   "source": [
    "os.chdir(r'Modelos')\n",
    "#os.chdir(r'C:\\Users\\metal\\Trabajos Bootcamp\\Proyecto Final\\juanito_v2.0\\Modelos')"
   ]
  },
  {
   "cell_type": "code",
   "execution_count": 47,
   "metadata": {},
   "outputs": [],
   "source": [
    "fh = open('m_reglog_cat.pkl','wb')\n",
    "#fh = open('df_smote30_train_test(redux).pkl','wb')\n",
    "pickle.dump(clf,fh)\n",
    "fh.close()"
   ]
  },
  {
   "cell_type": "markdown",
   "metadata": {},
   "source": [
    "## Ahora entrenamos el modelo con variables creadas a partir del campo DESCRIPCION y solo variable categorica Rubro 1"
   ]
  },
  {
   "cell_type": "code",
   "execution_count": 3,
   "metadata": {},
   "outputs": [
    {
     "data": {
      "text/plain": [
       "(51646, 10055)"
      ]
     },
     "execution_count": 3,
     "metadata": {},
     "output_type": "execute_result"
    }
   ],
   "source": [
    "X.shape"
   ]
  },
  {
   "cell_type": "code",
   "execution_count": 4,
   "metadata": {},
   "outputs": [
    {
     "data": {
      "text/plain": [
       "(51646,)"
      ]
     },
     "execution_count": 4,
     "metadata": {},
     "output_type": "execute_result"
    }
   ],
   "source": [
    "y.shape"
   ]
  },
  {
   "cell_type": "code",
   "execution_count": 5,
   "metadata": {},
   "outputs": [
    {
     "data": {
      "text/plain": [
       "{'C': 1.0,\n",
       " 'class_weight': None,\n",
       " 'dual': False,\n",
       " 'fit_intercept': True,\n",
       " 'intercept_scaling': 1,\n",
       " 'l1_ratio': None,\n",
       " 'max_iter': 100,\n",
       " 'multi_class': 'auto',\n",
       " 'n_jobs': None,\n",
       " 'penalty': 'l2',\n",
       " 'random_state': None,\n",
       " 'solver': 'lbfgs',\n",
       " 'tol': 0.0001,\n",
       " 'verbose': 0,\n",
       " 'warm_start': False}"
      ]
     },
     "execution_count": 5,
     "metadata": {},
     "output_type": "execute_result"
    }
   ],
   "source": [
    "logreg = LogisticRegression()\n",
    "logreg.get_params()"
   ]
  },
  {
   "cell_type": "code",
   "execution_count": 25,
   "metadata": {},
   "outputs": [],
   "source": [
    "''' parametros definidos anteriormente   \n",
    "    solver='lbfgs', \n",
    "    penalty='l2',\n",
    "    multi_class='ovr',\n",
    "    max_iter=500,\n",
    "    C= 0.1,\n",
    "    n_jobs=-1,\n",
    "    verbose=1'''\n",
    "\n",
    "params = {\n",
    "    'C': [1.00,0.05], #valores que tomará la Inverse of regularization strength [1.00,0.05,0.01]\n",
    "    #'class_weight': None,\n",
    "    #'dual': False,\n",
    "    #'fit_intercept': True,\n",
    "    #'intercept_scaling': 1,\n",
    "    #'l1_ratio': None,\n",
    "    'max_iter': [500], #Maximum number of iterations taken for the solvers to converge.\n",
    "    'multi_class': ['ovr'], #‘ovr’, then a binary problem is fit for each label\n",
    "    #'n_jobs': None,  # lo definiremos en el gridsearch\n",
    "    'penalty': ['l2']\n",
    "    #'random_state': None, # lo aplicaremos en el gridsearch\n",
    "    #'solver': 'lbfgs',  # usamos el que viene por default, ‘liblinear’ is limited to one-versus-rest schemes\n",
    "    #'tol': 0.0001, #dejamos por defecto el criterio de tolerancia para detener la iteracion\n",
    "    #'verbose': 0 #dejamos valor por defecto\n",
    "    #'warm_start': False\n",
    "    }\n"
   ]
  },
  {
   "cell_type": "code",
   "execution_count": 26,
   "metadata": {},
   "outputs": [],
   "source": [
    "scoring = ['roc_auc']\n",
    "grid_solver = GridSearchCV(estimator = logreg, # model to train\n",
    "                   param_grid = params,\n",
    "                   scoring = scoring,\n",
    "                   cv = 3,  #aplica cross validation utilizando un stratified KFold\n",
    "                   n_jobs=-1,\n",
    "                   refit = 'roc_auc',\n",
    "                   verbose = 2)"
   ]
  },
  {
   "cell_type": "code",
   "execution_count": 8,
   "metadata": {},
   "outputs": [],
   "source": [
    "X_train, X_test, y_train, y_test = train_test_split(\n",
    "    X, y, test_size=0.33, random_state=42)\n",
    "\n",
    "oversampling = SMOTE(sampling_strategy=0.30) # usamos oversampling sintético podemos elegir el nivel de oversampling con  sampling_strategy=0.80\n",
    "X_train_smote, y_train_smote = oversampling.fit_resample(X_train, y_train) #Se obtienen nuevos X e y\n"
   ]
  },
  {
   "cell_type": "code",
   "execution_count": 27,
   "metadata": {},
   "outputs": [
    {
     "name": "stdout",
     "output_type": "stream",
     "text": [
      "Fitting 3 folds for each of 2 candidates, totalling 6 fits\n"
     ]
    }
   ],
   "source": [
    "model_result_logreg = grid_solver.fit(X_train_smote,y_train_smote)"
   ]
  },
  {
   "cell_type": "code",
   "execution_count": 28,
   "metadata": {},
   "outputs": [
    {
     "data": {
      "text/plain": [
       "{'C': 1.0, 'max_iter': 500, 'multi_class': 'ovr', 'penalty': 'l2'}"
      ]
     },
     "execution_count": 28,
     "metadata": {},
     "output_type": "execute_result"
    }
   ],
   "source": [
    "model_result_logreg.best_params_"
   ]
  },
  {
   "cell_type": "code",
   "execution_count": 29,
   "metadata": {},
   "outputs": [
    {
     "data": {
      "text/plain": [
       "{'mean_fit_time': array([144.08115506, 164.2935257 ]),\n",
       " 'std_fit_time': array([31.58270605,  6.53674108]),\n",
       " 'mean_score_time': array([7.5431246 , 8.76940028]),\n",
       " 'std_score_time': array([1.62943634, 1.18339523]),\n",
       " 'param_C': masked_array(data=[1.0, 0.05],\n",
       "              mask=[False, False],\n",
       "        fill_value='?',\n",
       "             dtype=object),\n",
       " 'param_max_iter': masked_array(data=[500, 500],\n",
       "              mask=[False, False],\n",
       "        fill_value='?',\n",
       "             dtype=object),\n",
       " 'param_multi_class': masked_array(data=['ovr', 'ovr'],\n",
       "              mask=[False, False],\n",
       "        fill_value='?',\n",
       "             dtype=object),\n",
       " 'param_penalty': masked_array(data=['l2', 'l2'],\n",
       "              mask=[False, False],\n",
       "        fill_value='?',\n",
       "             dtype=object),\n",
       " 'params': [{'C': 1.0, 'max_iter': 500, 'multi_class': 'ovr', 'penalty': 'l2'},\n",
       "  {'C': 0.05, 'max_iter': 500, 'multi_class': 'ovr', 'penalty': 'l2'}],\n",
       " 'split0_test_roc_auc': array([0.9810059 , 0.96574493]),\n",
       " 'split1_test_roc_auc': array([0.98496751, 0.9655199 ]),\n",
       " 'split2_test_roc_auc': array([0.98570182, 0.968009  ]),\n",
       " 'mean_test_roc_auc': array([0.98389174, 0.96642461]),\n",
       " 'std_test_roc_auc': array([0.0020625 , 0.00112409]),\n",
       " 'rank_test_roc_auc': array([1, 2])}"
      ]
     },
     "execution_count": 29,
     "metadata": {},
     "output_type": "execute_result"
    }
   ],
   "source": [
    "model_result_logreg.cv_results_"
   ]
  },
  {
   "cell_type": "code",
   "execution_count": 32,
   "metadata": {},
   "outputs": [],
   "source": [
    "fh = open('m_reglog_PCA','wb')\n",
    "#fh = open('df_smote30_train_test(redux).pkl','wb')\n",
    "pickle.dump(model_result_logreg,fh)\n",
    "fh.close()"
   ]
  },
  {
   "cell_type": "code",
   "execution_count": 33,
   "metadata": {},
   "outputs": [
    {
     "data": {
      "text/html": [
       "<div>\n",
       "<style scoped>\n",
       "    .dataframe tbody tr th:only-of-type {\n",
       "        vertical-align: middle;\n",
       "    }\n",
       "\n",
       "    .dataframe tbody tr th {\n",
       "        vertical-align: top;\n",
       "    }\n",
       "\n",
       "    .dataframe thead th {\n",
       "        text-align: right;\n",
       "    }\n",
       "</style>\n",
       "<table border=\"1\" class=\"dataframe\">\n",
       "  <thead>\n",
       "    <tr style=\"text-align: right;\">\n",
       "      <th></th>\n",
       "      <th>mean_fit_time</th>\n",
       "      <th>std_fit_time</th>\n",
       "      <th>mean_score_time</th>\n",
       "      <th>std_score_time</th>\n",
       "      <th>param_C</th>\n",
       "      <th>param_max_iter</th>\n",
       "      <th>param_multi_class</th>\n",
       "      <th>param_penalty</th>\n",
       "      <th>params</th>\n",
       "      <th>split0_test_roc_auc</th>\n",
       "      <th>split1_test_roc_auc</th>\n",
       "      <th>split2_test_roc_auc</th>\n",
       "      <th>mean_test_roc_auc</th>\n",
       "      <th>std_test_roc_auc</th>\n",
       "      <th>rank_test_roc_auc</th>\n",
       "    </tr>\n",
       "  </thead>\n",
       "  <tbody>\n",
       "    <tr>\n",
       "      <th>0</th>\n",
       "      <td>144.081155</td>\n",
       "      <td>31.582706</td>\n",
       "      <td>7.543125</td>\n",
       "      <td>1.629436</td>\n",
       "      <td>1.0</td>\n",
       "      <td>500</td>\n",
       "      <td>ovr</td>\n",
       "      <td>l2</td>\n",
       "      <td>{'C': 1.0, 'max_iter': 500, 'multi_class': 'ov...</td>\n",
       "      <td>0.981006</td>\n",
       "      <td>0.984968</td>\n",
       "      <td>0.985702</td>\n",
       "      <td>0.983892</td>\n",
       "      <td>0.002062</td>\n",
       "      <td>1</td>\n",
       "    </tr>\n",
       "    <tr>\n",
       "      <th>1</th>\n",
       "      <td>164.293526</td>\n",
       "      <td>6.536741</td>\n",
       "      <td>8.769400</td>\n",
       "      <td>1.183395</td>\n",
       "      <td>0.05</td>\n",
       "      <td>500</td>\n",
       "      <td>ovr</td>\n",
       "      <td>l2</td>\n",
       "      <td>{'C': 0.05, 'max_iter': 500, 'multi_class': 'o...</td>\n",
       "      <td>0.965745</td>\n",
       "      <td>0.965520</td>\n",
       "      <td>0.968009</td>\n",
       "      <td>0.966425</td>\n",
       "      <td>0.001124</td>\n",
       "      <td>2</td>\n",
       "    </tr>\n",
       "  </tbody>\n",
       "</table>\n",
       "</div>"
      ],
      "text/plain": [
       "   mean_fit_time  std_fit_time  mean_score_time  std_score_time param_C  \\\n",
       "0     144.081155     31.582706         7.543125        1.629436     1.0   \n",
       "1     164.293526      6.536741         8.769400        1.183395    0.05   \n",
       "\n",
       "  param_max_iter param_multi_class param_penalty  \\\n",
       "0            500               ovr            l2   \n",
       "1            500               ovr            l2   \n",
       "\n",
       "                                              params  split0_test_roc_auc  \\\n",
       "0  {'C': 1.0, 'max_iter': 500, 'multi_class': 'ov...             0.981006   \n",
       "1  {'C': 0.05, 'max_iter': 500, 'multi_class': 'o...             0.965745   \n",
       "\n",
       "   split1_test_roc_auc  split2_test_roc_auc  mean_test_roc_auc  \\\n",
       "0             0.984968             0.985702           0.983892   \n",
       "1             0.965520             0.968009           0.966425   \n",
       "\n",
       "   std_test_roc_auc  rank_test_roc_auc  \n",
       "0          0.002062                  1  \n",
       "1          0.001124                  2  "
      ]
     },
     "execution_count": 33,
     "metadata": {},
     "output_type": "execute_result"
    }
   ],
   "source": [
    "results_cv=model_result_logreg.cv_results_\n",
    "results=pd.DataFrame(results_cv)\n",
    "results.head()"
   ]
  },
  {
   "cell_type": "code",
   "execution_count": 34,
   "metadata": {},
   "outputs": [
    {
     "data": {
      "text/plain": [
       "<seaborn.axisgrid.FacetGrid at 0x1ae874a1750>"
      ]
     },
     "execution_count": 34,
     "metadata": {},
     "output_type": "execute_result"
    },
    {
     "data": {
      "image/png": "[encoded data removed]",
      "text/plain": [
       "<Figure size 216x216 with 1 Axes>"
      ]
     },
     "metadata": {
      "needs_background": "light"
     },
     "output_type": "display_data"
    }
   ],
   "source": [
    "sns.relplot(x=\"param_C\",\n",
    "            y=\"mean_test_roc_auc\",\n",
    "            #style=\"param_max_features\",\n",
    "            #hue=\"param_min_impurity_decrease\",\n",
    "            kind = \"line\",\n",
    "            palette=[\"r\", \"b\"],\n",
    "            height=3, linewidth=3, data=results)\n"
   ]
  },
  {
   "cell_type": "code",
   "execution_count": 38,
   "metadata": {},
   "outputs": [
    {
     "data": {
      "text/plain": [
       "sklearn.linear_model._logistic.LogisticRegression"
      ]
     },
     "execution_count": 38,
     "metadata": {},
     "output_type": "execute_result"
    }
   ],
   "source": [
    "type(model_result_logreg.best_estimator_)"
   ]
  },
  {
   "cell_type": "code",
   "execution_count": 39,
   "metadata": {},
   "outputs": [
    {
     "data": {
      "image/png": "[encoded data removed]",
      "text/plain": [
       "<Figure size 432x288 with 1 Axes>"
      ]
     },
     "metadata": {
      "needs_background": "light"
     },
     "output_type": "display_data"
    },
    {
     "name": "stdout",
     "output_type": "stream",
     "text": [
      "Train AUC 0.9892381270593935\n",
      "              precision    recall  f1-score   support\n",
      "\n",
      "           0       0.97      0.97      0.97     31010\n",
      "           1       0.91      0.90      0.91      9303\n",
      "\n",
      "    accuracy                           0.96     40313\n",
      "   macro avg       0.94      0.94      0.94     40313\n",
      "weighted avg       0.96      0.96      0.96     40313\n",
      "\n"
     ]
    },
    {
     "data": {
      "image/png": "[encoded data removed]",
      "text/plain": [
       "<Figure size 432x288 with 2 Axes>"
      ]
     },
     "metadata": {
      "needs_background": "light"
     },
     "output_type": "display_data"
    },
    {
     "name": "stdout",
     "output_type": "stream",
     "text": [
      "Test AUC 0.9773810380901445\n",
      "              precision    recall  f1-score   support\n",
      "\n",
      "           0       0.98      0.97      0.97     15260\n",
      "           1       0.76      0.80      0.78      1784\n",
      "\n",
      "    accuracy                           0.95     17044\n",
      "   macro avg       0.87      0.88      0.88     17044\n",
      "weighted avg       0.95      0.95      0.95     17044\n",
      "\n"
     ]
    },
    {
     "data": {
      "image/png": "[encoded data removed]",
      "text/plain": [
       "<Figure size 432x288 with 2 Axes>"
      ]
     },
     "metadata": {
      "needs_background": "light"
     },
     "output_type": "display_data"
    }
   ],
   "source": [
    "metrics(model_result_logreg.best_estimator_, X_train_smote, X_test, y_train_smote, y_test, thr=0.5)"
   ]
  }
 ],
 "metadata": {
  "kernelspec": {
   "display_name": "Python 3.10.4 64-bit",
   "language": "python",
   "name": "python3"
  },
  "language_info": {
   "codemirror_mode": {
    "name": "ipython",
    "version": 3
   },
   "file_extension": ".py",
   "mimetype": "text/x-python",
   "name": "python",
   "nbconvert_exporter": "python",
   "pygments_lexer": "ipython3",
   "version": "3.10.4"
  },
  "orig_nbformat": 4,
  "vscode": {
   "interpreter": {
    "hash": "26de051ba29f2982a8de78e945f0abaf191376122a1563185a90213a26c5da77"
   }
  }
 },
 "nbformat": 4,
 "nbformat_minor": 2
}
