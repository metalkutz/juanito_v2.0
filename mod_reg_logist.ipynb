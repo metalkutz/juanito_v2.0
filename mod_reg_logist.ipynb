{
 "cells": [
  {
   "cell_type": "code",
   "execution_count": 1,
   "metadata": {},
   "outputs": [],
   "source": [
    "import matplotlib.pyplot as plt\n",
    "import seaborn as sns\n",
    "\n",
    "from sklearn import linear_model\n",
    "from sklearn.model_selection import train_test_split\n",
    "from sklearn.linear_model import LogisticRegression\n",
    "from sklearn.metrics import accuracy_score, confusion_matrix\n",
    "from sklearn import metrics\n",
    "from sklearn.metrics import plot_confusion_matrix, confusion_matrix, classification_report, ConfusionMatrixDisplay\n",
    "from sklearn.metrics import roc_curve, auc #roc_auc_curve.\n",
    "\n",
    "from funciones import* \n",
    "from collections import Counter\n",
    "from imblearn.over_sampling import SMOTE "
   ]
  },
  {
   "cell_type": "code",
   "execution_count": 2,
   "metadata": {},
   "outputs": [],
   "source": [
    "from main import *"
   ]
  },
  {
   "cell_type": "code",
   "execution_count": 3,
   "metadata": {},
   "outputs": [
    {
     "data": {
      "text/html": [
       "<div>\n",
       "<style scoped>\n",
       "    .dataframe tbody tr th:only-of-type {\n",
       "        vertical-align: middle;\n",
       "    }\n",
       "\n",
       "    .dataframe tbody tr th {\n",
       "        vertical-align: top;\n",
       "    }\n",
       "\n",
       "    .dataframe thead th {\n",
       "        text-align: right;\n",
       "    }\n",
       "</style>\n",
       "<table border=\"1\" class=\"dataframe\">\n",
       "  <thead>\n",
       "    <tr style=\"text-align: right;\">\n",
       "      <th></th>\n",
       "      <th>id_producto</th>\n",
       "      <th>label</th>\n",
       "      <th>Rubro1_Artículos de electrónica</th>\n",
       "      <th>Rubro1_Artículos de fabricación y producción</th>\n",
       "      <th>Rubro1_Artículos eléctricos y de iluminación</th>\n",
       "      <th>Rubro1_Artículos para estructuras, obras y construcciones</th>\n",
       "      <th>Rubro1_Artículos para plantas y animales</th>\n",
       "      <th>Rubro1_Combustibles, lubricantes y anticorrosivos</th>\n",
       "      <th>Rubro1_Consultoria</th>\n",
       "      <th>Rubro1_Educación, formación, entrenamiento y capacitación</th>\n",
       "      <th>...</th>\n",
       "      <th>PC990</th>\n",
       "      <th>PC991</th>\n",
       "      <th>PC992</th>\n",
       "      <th>PC993</th>\n",
       "      <th>PC994</th>\n",
       "      <th>PC995</th>\n",
       "      <th>PC996</th>\n",
       "      <th>PC997</th>\n",
       "      <th>PC998</th>\n",
       "      <th>PC999</th>\n",
       "    </tr>\n",
       "  </thead>\n",
       "  <tbody>\n",
       "    <tr>\n",
       "      <th>0</th>\n",
       "      <td>2792-88-LE21-1</td>\n",
       "      <td>0</td>\n",
       "      <td>0</td>\n",
       "      <td>0</td>\n",
       "      <td>0</td>\n",
       "      <td>0</td>\n",
       "      <td>0</td>\n",
       "      <td>0</td>\n",
       "      <td>0</td>\n",
       "      <td>0</td>\n",
       "      <td>...</td>\n",
       "      <td>-0.002287</td>\n",
       "      <td>0.004163</td>\n",
       "      <td>0.003001</td>\n",
       "      <td>0.002212</td>\n",
       "      <td>-0.002206</td>\n",
       "      <td>0.001485</td>\n",
       "      <td>-0.000141</td>\n",
       "      <td>0.001047</td>\n",
       "      <td>-0.000902</td>\n",
       "      <td>-0.003268</td>\n",
       "    </tr>\n",
       "    <tr>\n",
       "      <th>1</th>\n",
       "      <td>1704-52-LP21-1</td>\n",
       "      <td>0</td>\n",
       "      <td>0</td>\n",
       "      <td>0</td>\n",
       "      <td>0</td>\n",
       "      <td>0</td>\n",
       "      <td>0</td>\n",
       "      <td>0</td>\n",
       "      <td>0</td>\n",
       "      <td>0</td>\n",
       "      <td>...</td>\n",
       "      <td>0.009212</td>\n",
       "      <td>-0.003286</td>\n",
       "      <td>-0.014475</td>\n",
       "      <td>0.004438</td>\n",
       "      <td>-0.008934</td>\n",
       "      <td>0.011362</td>\n",
       "      <td>0.003123</td>\n",
       "      <td>-0.008013</td>\n",
       "      <td>-0.000281</td>\n",
       "      <td>0.003076</td>\n",
       "    </tr>\n",
       "    <tr>\n",
       "      <th>2</th>\n",
       "      <td>1003-20-L121-1</td>\n",
       "      <td>0</td>\n",
       "      <td>0</td>\n",
       "      <td>0</td>\n",
       "      <td>0</td>\n",
       "      <td>0</td>\n",
       "      <td>0</td>\n",
       "      <td>0</td>\n",
       "      <td>0</td>\n",
       "      <td>0</td>\n",
       "      <td>...</td>\n",
       "      <td>0.000666</td>\n",
       "      <td>0.015971</td>\n",
       "      <td>0.021917</td>\n",
       "      <td>0.004963</td>\n",
       "      <td>0.002307</td>\n",
       "      <td>0.003451</td>\n",
       "      <td>-0.008571</td>\n",
       "      <td>0.008464</td>\n",
       "      <td>0.011890</td>\n",
       "      <td>-0.004315</td>\n",
       "    </tr>\n",
       "    <tr>\n",
       "      <th>3</th>\n",
       "      <td>4236-21-L121-1</td>\n",
       "      <td>0</td>\n",
       "      <td>0</td>\n",
       "      <td>0</td>\n",
       "      <td>0</td>\n",
       "      <td>0</td>\n",
       "      <td>0</td>\n",
       "      <td>0</td>\n",
       "      <td>0</td>\n",
       "      <td>0</td>\n",
       "      <td>...</td>\n",
       "      <td>0.004890</td>\n",
       "      <td>-0.006936</td>\n",
       "      <td>0.003516</td>\n",
       "      <td>-0.023541</td>\n",
       "      <td>-0.005665</td>\n",
       "      <td>0.010875</td>\n",
       "      <td>-0.004479</td>\n",
       "      <td>0.003849</td>\n",
       "      <td>0.013609</td>\n",
       "      <td>-0.002497</td>\n",
       "    </tr>\n",
       "    <tr>\n",
       "      <th>4</th>\n",
       "      <td>4236-21-L121-2</td>\n",
       "      <td>0</td>\n",
       "      <td>0</td>\n",
       "      <td>0</td>\n",
       "      <td>0</td>\n",
       "      <td>0</td>\n",
       "      <td>0</td>\n",
       "      <td>0</td>\n",
       "      <td>0</td>\n",
       "      <td>0</td>\n",
       "      <td>...</td>\n",
       "      <td>-0.002836</td>\n",
       "      <td>0.010651</td>\n",
       "      <td>0.014675</td>\n",
       "      <td>-0.005810</td>\n",
       "      <td>-0.000710</td>\n",
       "      <td>-0.006997</td>\n",
       "      <td>-0.009296</td>\n",
       "      <td>0.008137</td>\n",
       "      <td>0.007143</td>\n",
       "      <td>0.006336</td>\n",
       "    </tr>\n",
       "  </tbody>\n",
       "</table>\n",
       "<p>5 rows × 1057 columns</p>\n",
       "</div>"
      ],
      "text/plain": [
       "      id_producto  label  Rubro1_Artículos de electrónica  \\\n",
       "0  2792-88-LE21-1      0                                0   \n",
       "1  1704-52-LP21-1      0                                0   \n",
       "2  1003-20-L121-1      0                                0   \n",
       "3  4236-21-L121-1      0                                0   \n",
       "4  4236-21-L121-2      0                                0   \n",
       "\n",
       "   Rubro1_Artículos de fabricación y producción  \\\n",
       "0                                             0   \n",
       "1                                             0   \n",
       "2                                             0   \n",
       "3                                             0   \n",
       "4                                             0   \n",
       "\n",
       "   Rubro1_Artículos eléctricos y de iluminación  \\\n",
       "0                                             0   \n",
       "1                                             0   \n",
       "2                                             0   \n",
       "3                                             0   \n",
       "4                                             0   \n",
       "\n",
       "   Rubro1_Artículos para estructuras, obras y construcciones  \\\n",
       "0                                                  0           \n",
       "1                                                  0           \n",
       "2                                                  0           \n",
       "3                                                  0           \n",
       "4                                                  0           \n",
       "\n",
       "   Rubro1_Artículos para plantas y animales  \\\n",
       "0                                         0   \n",
       "1                                         0   \n",
       "2                                         0   \n",
       "3                                         0   \n",
       "4                                         0   \n",
       "\n",
       "   Rubro1_Combustibles, lubricantes y anticorrosivos  Rubro1_Consultoria  \\\n",
       "0                                                  0                   0   \n",
       "1                                                  0                   0   \n",
       "2                                                  0                   0   \n",
       "3                                                  0                   0   \n",
       "4                                                  0                   0   \n",
       "\n",
       "   Rubro1_Educación, formación, entrenamiento y capacitación  ...     PC990  \\\n",
       "0                                                  0          ... -0.002287   \n",
       "1                                                  0          ...  0.009212   \n",
       "2                                                  0          ...  0.000666   \n",
       "3                                                  0          ...  0.004890   \n",
       "4                                                  0          ... -0.002836   \n",
       "\n",
       "      PC991     PC992     PC993     PC994     PC995     PC996     PC997  \\\n",
       "0  0.004163  0.003001  0.002212 -0.002206  0.001485 -0.000141  0.001047   \n",
       "1 -0.003286 -0.014475  0.004438 -0.008934  0.011362  0.003123 -0.008013   \n",
       "2  0.015971  0.021917  0.004963  0.002307  0.003451 -0.008571  0.008464   \n",
       "3 -0.006936  0.003516 -0.023541 -0.005665  0.010875 -0.004479  0.003849   \n",
       "4  0.010651  0.014675 -0.005810 -0.000710 -0.006997 -0.009296  0.008137   \n",
       "\n",
       "      PC998     PC999  \n",
       "0 -0.000902 -0.003268  \n",
       "1 -0.000281  0.003076  \n",
       "2  0.011890 -0.004315  \n",
       "3  0.013609 -0.002497  \n",
       "4  0.007143  0.006336  \n",
       "\n",
       "[5 rows x 1057 columns]"
      ]
     },
     "execution_count": 3,
     "metadata": {},
     "output_type": "execute_result"
    }
   ],
   "source": [
    "df3.head()"
   ]
  },
  {
   "cell_type": "code",
   "execution_count": 20,
   "metadata": {},
   "outputs": [
    {
     "data": {
      "text/plain": [
       "Counter({0: 46270, 1: 5376})"
      ]
     },
     "execution_count": 20,
     "metadata": {},
     "output_type": "execute_result"
    }
   ],
   "source": [
    "Counter(df3['label'])"
   ]
  },
  {
   "cell_type": "code",
   "execution_count": 21,
   "metadata": {},
   "outputs": [
    {
     "data": {
      "text/plain": [
       "Counter({0: 46270, 1: 13881})"
      ]
     },
     "execution_count": 21,
     "metadata": {},
     "output_type": "execute_result"
    }
   ],
   "source": [
    "# X_balanceado\n",
    "# y_balanceado\n",
    "\n",
    "\n",
    "X = df3.drop(columns=['id_producto','label'], axis=1) # creamos la variables independientes\n",
    "y = df3['label']  # creamos la variable dependiente\n",
    "\n",
    "oversampling = SMOTE(sampling_strategy=0.30) # usamos oversampling sintético podemos elegir el nivel de oversampling con  sampling_strategy=0.80\n",
    "X_balanceado, y_balanceado = oversampling.fit_resample(X, y) #Se obtienen nuevos X e y\n",
    "\n",
    "\n",
    "X_train, X_test, y_train, y_test = train_test_split(\n",
    "    X_balanceado, y_balanceado, test_size=0.33, random_state=42)\n",
    "\n",
    "Counter(y_balanceado)"
   ]
  },
  {
   "cell_type": "code",
   "execution_count": 22,
   "metadata": {},
   "outputs": [
    {
     "name": "stderr",
     "output_type": "stream",
     "text": [
      "[Parallel(n_jobs=-1)]: Using backend LokyBackend with 16 concurrent workers.\n",
      "[Parallel(n_jobs=-1)]: Done   1 out of   1 | elapsed:  2.7min finished\n"
     ]
    }
   ],
   "source": [
    "clf = LogisticRegression(\n",
    "    solver='lbfgs', \n",
    "    penalty='l2',\n",
    "    multi_class='ovr',\n",
    "    max_iter=500,\n",
    "    n_jobs=-1,\n",
    "    verbose=1) # la forma del GD\n",
    "clf = clf.fit(X_train, y_train)\n",
    "Y_pred = clf.predict(X_test)\n",
    "probs = clf.predict_proba(X_test)"
   ]
  },
  {
   "cell_type": "code",
   "execution_count": 23,
   "metadata": {},
   "outputs": [
    {
     "name": "stderr",
     "output_type": "stream",
     "text": [
      "C:\\Users\\metal\\AppData\\Roaming\\Python\\Python310\\site-packages\\sklearn\\utils\\deprecation.py:87: FutureWarning: Function plot_roc_curve is deprecated; Function :func:`plot_roc_curve` is deprecated in 1.0 and will be removed in 1.2. Use one of the class methods: :meth:`sklearn.metric.RocCurveDisplay.from_predictions` or :meth:`sklearn.metric.RocCurveDisplay.from_estimator`.\n",
      "  warnings.warn(msg, category=FutureWarning)\n"
     ]
    },
    {
     "data": {
      "image/png": "[encoded data removed]",
      "text/plain": [
       "<Figure size 432x288 with 1 Axes>"
      ]
     },
     "metadata": {
      "needs_background": "light"
     },
     "output_type": "display_data"
    },
    {
     "name": "stdout",
     "output_type": "stream",
     "text": [
      "Train AUC 0.9800536234933785\n",
      "              precision    recall  f1-score   support\n",
      "\n",
      "           0       0.94      0.98      0.96     31072\n",
      "           1       0.90      0.78      0.84      9229\n",
      "\n",
      "    accuracy                           0.93     40301\n",
      "   macro avg       0.92      0.88      0.90     40301\n",
      "weighted avg       0.93      0.93      0.93     40301\n",
      "\n"
     ]
    },
    {
     "data": {
      "image/png": "[encoded data removed]",
      "text/plain": [
       "<Figure size 432x288 with 2 Axes>"
      ]
     },
     "metadata": {
      "needs_background": "light"
     },
     "output_type": "display_data"
    },
    {
     "name": "stdout",
     "output_type": "stream",
     "text": [
      "Test AUC 0.9791369075806123\n",
      "              precision    recall  f1-score   support\n",
      "\n",
      "           0       0.94      0.97      0.95     15198\n",
      "           1       0.90      0.78      0.84      4652\n",
      "\n",
      "    accuracy                           0.93     19850\n",
      "   macro avg       0.92      0.88      0.89     19850\n",
      "weighted avg       0.93      0.93      0.93     19850\n",
      "\n"
     ]
    },
    {
     "data": {
      "image/png": "[encoded data removed]",
      "text/plain": [
       "<Figure size 432x288 with 2 Axes>"
      ]
     },
     "metadata": {
      "needs_background": "light"
     },
     "output_type": "display_data"
    }
   ],
   "source": [
    "metrics(clf, X_train, X_test, y_train, y_test, thr=0.6)"
   ]
  },
  {
   "cell_type": "code",
   "execution_count": 9,
   "metadata": {},
   "outputs": [
    {
     "data": {
      "text/plain": [
       "0.936114476570942"
      ]
     },
     "execution_count": 9,
     "metadata": {},
     "output_type": "execute_result"
    }
   ],
   "source": [
    "accuracy_score(y_test,Y_pred)"
   ]
  },
  {
   "cell_type": "code",
   "execution_count": 10,
   "metadata": {},
   "outputs": [
    {
     "data": {
      "text/plain": [
       "0.9348236318769052"
      ]
     },
     "execution_count": 10,
     "metadata": {},
     "output_type": "execute_result"
    }
   ],
   "source": [
    "Y_pred_train = clf.predict(X_train)\n",
    "accuracy_score(y_train,Y_pred_train)"
   ]
  },
  {
   "cell_type": "code",
   "execution_count": 8,
   "metadata": {},
   "outputs": [
    {
     "data": {
      "text/plain": [
       "array([[15038,   598],\n",
       "       [  222,  1186]], dtype=int64)"
      ]
     },
     "execution_count": 8,
     "metadata": {},
     "output_type": "execute_result"
    }
   ],
   "source": [
    "cfm = confusion_matrix(Y_pred, y_test)\n",
    "cfm"
   ]
  },
  {
   "cell_type": "code",
   "execution_count": 12,
   "metadata": {},
   "outputs": [
    {
     "data": {
      "image/png": "[encoded data removed]",
      "text/plain": [
       "<Figure size 432x288 with 2 Axes>"
      ]
     },
     "metadata": {
      "needs_background": "light"
     },
     "output_type": "display_data"
    }
   ],
   "source": [
    "y_pred = clf.predict(X_test)\n",
    "probs = clf.predict_proba(X_test)\n",
    "#plot_confusion_matrix(model_result,  X_test, y_test) funcion deprecada en futuras versiones\n",
    "cm = confusion_matrix(y_test,y_pred)\n",
    "disp = ConfusionMatrixDisplay(confusion_matrix=cm, display_labels=clf.classes_)\n",
    "disp.plot()\n",
    "plt.show()"
   ]
  },
  {
   "cell_type": "code",
   "execution_count": 9,
   "metadata": {},
   "outputs": [
    {
     "name": "stdout",
     "output_type": "stream",
     "text": [
      "0.9763850727891437\n"
     ]
    }
   ],
   "source": [
    "fpr, tpr, threshold = metrics.roc_curve(y_test, probs[:,1])\n",
    "roc_auc = metrics.auc(fpr, tpr)\n",
    "print(roc_auc)"
   ]
  },
  {
   "cell_type": "code",
   "execution_count": 10,
   "metadata": {},
   "outputs": [
    {
     "data": {
      "image/png": "[encoded data removed]",
      "text/plain": [
       "<Figure size 432x288 with 1 Axes>"
      ]
     },
     "metadata": {
      "needs_background": "light"
     },
     "output_type": "display_data"
    }
   ],
   "source": [
    "plt.title('Receiver Operating Characteristic')\n",
    "plt.plot(fpr, tpr, 'b', label = 'AUC = %0.2f' % roc_auc)\n",
    "plt.legend(loc = 'lower right')\n",
    "plt.plot([0, 1], [0, 1],'r--')\n",
    "plt.xlim([0, 1])\n",
    "plt.ylim([0, 1])\n",
    "plt.ylabel('True Positive Rate')\n",
    "plt.xlabel('False Positive Rate')\n",
    "plt.show()"
   ]
  },
  {
   "cell_type": "code",
   "execution_count": 13,
   "metadata": {},
   "outputs": [
    {
     "name": "stdout",
     "output_type": "stream",
     "text": [
      "              precision    recall  f1-score   support\n",
      "\n",
      "           0       0.96      0.99      0.97     15260\n",
      "           1       0.84      0.66      0.74      1784\n",
      "\n",
      "    accuracy                           0.95     17044\n",
      "   macro avg       0.90      0.83      0.86     17044\n",
      "weighted avg       0.95      0.95      0.95     17044\n",
      "\n"
     ]
    }
   ],
   "source": [
    "print(classification_report(y_test,y_pred,target_names=['0','1']))"
   ]
  }
 ],
 "metadata": {
  "kernelspec": {
   "display_name": "Python 3.10.4 64-bit",
   "language": "python",
   "name": "python3"
  },
  "language_info": {
   "codemirror_mode": {
    "name": "ipython",
    "version": 3
   },
   "file_extension": ".py",
   "mimetype": "text/x-python",
   "name": "python",
   "nbconvert_exporter": "python",
   "pygments_lexer": "ipython3",
   "version": "3.10.4"
  },
  "orig_nbformat": 4,
  "vscode": {
   "interpreter": {
    "hash": "26de051ba29f2982a8de78e945f0abaf191376122a1563185a90213a26c5da77"
   }
  }
 },
 "nbformat": 4,
 "nbformat_minor": 2
}
