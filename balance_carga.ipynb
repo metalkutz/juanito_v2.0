{
 "cells": [
  {
   "cell_type": "code",
   "execution_count": 1,
   "metadata": {},
   "outputs": [],
   "source": [
    "from imblearn.over_sampling import SMOTE \n",
    "from collections import Counter\n",
    "import matplotlib.pyplot as plt\n",
    "import numpy as np\n",
    "\n",
    "from main import *"
   ]
  },
  {
   "cell_type": "code",
   "execution_count": 13,
   "metadata": {},
   "outputs": [
    {
     "data": {
      "text/plain": [
       "Counter({0: 46270, 1: 5376})"
      ]
     },
     "execution_count": 13,
     "metadata": {},
     "output_type": "execute_result"
    }
   ],
   "source": [
    "# df3.groupby('label').size()/len(df)  # balance de labels\n",
    "Counter(df3['label'])"
   ]
  },
  {
   "cell_type": "code",
   "execution_count": 6,
   "metadata": {},
   "outputs": [
    {
     "data": {
      "text/html": [
       "<div>\n",
       "<style scoped>\n",
       "    .dataframe tbody tr th:only-of-type {\n",
       "        vertical-align: middle;\n",
       "    }\n",
       "\n",
       "    .dataframe tbody tr th {\n",
       "        vertical-align: top;\n",
       "    }\n",
       "\n",
       "    .dataframe thead th {\n",
       "        text-align: right;\n",
       "    }\n",
       "</style>\n",
       "<table border=\"1\" class=\"dataframe\">\n",
       "  <thead>\n",
       "    <tr style=\"text-align: right;\">\n",
       "      <th></th>\n",
       "      <th>id_producto</th>\n",
       "      <th>label</th>\n",
       "      <th>Rubro1_Artículos de electrónica</th>\n",
       "      <th>Rubro1_Artículos de fabricación y producción</th>\n",
       "      <th>Rubro1_Artículos eléctricos y de iluminación</th>\n",
       "      <th>Rubro1_Artículos para estructuras, obras y construcciones</th>\n",
       "      <th>Rubro1_Artículos para plantas y animales</th>\n",
       "      <th>Rubro1_Combustibles, lubricantes y anticorrosivos</th>\n",
       "      <th>Rubro1_Consultoria</th>\n",
       "      <th>Rubro1_Educación, formación, entrenamiento y capacitación</th>\n",
       "      <th>...</th>\n",
       "      <th>PC990</th>\n",
       "      <th>PC991</th>\n",
       "      <th>PC992</th>\n",
       "      <th>PC993</th>\n",
       "      <th>PC994</th>\n",
       "      <th>PC995</th>\n",
       "      <th>PC996</th>\n",
       "      <th>PC997</th>\n",
       "      <th>PC998</th>\n",
       "      <th>PC999</th>\n",
       "    </tr>\n",
       "  </thead>\n",
       "  <tbody>\n",
       "    <tr>\n",
       "      <th>0</th>\n",
       "      <td>2792-88-LE21-1</td>\n",
       "      <td>0</td>\n",
       "      <td>0</td>\n",
       "      <td>0</td>\n",
       "      <td>0</td>\n",
       "      <td>0</td>\n",
       "      <td>0</td>\n",
       "      <td>0</td>\n",
       "      <td>0</td>\n",
       "      <td>0</td>\n",
       "      <td>...</td>\n",
       "      <td>0.004879</td>\n",
       "      <td>0.007862</td>\n",
       "      <td>0.001199</td>\n",
       "      <td>-0.001358</td>\n",
       "      <td>-0.001054</td>\n",
       "      <td>-0.005583</td>\n",
       "      <td>-0.004766</td>\n",
       "      <td>-0.001172</td>\n",
       "      <td>0.008052</td>\n",
       "      <td>0.000367</td>\n",
       "    </tr>\n",
       "    <tr>\n",
       "      <th>1</th>\n",
       "      <td>1704-52-LP21-1</td>\n",
       "      <td>0</td>\n",
       "      <td>0</td>\n",
       "      <td>0</td>\n",
       "      <td>0</td>\n",
       "      <td>0</td>\n",
       "      <td>0</td>\n",
       "      <td>0</td>\n",
       "      <td>0</td>\n",
       "      <td>0</td>\n",
       "      <td>...</td>\n",
       "      <td>0.008098</td>\n",
       "      <td>-0.002915</td>\n",
       "      <td>-0.004871</td>\n",
       "      <td>-0.006536</td>\n",
       "      <td>0.002519</td>\n",
       "      <td>-0.003322</td>\n",
       "      <td>-0.018185</td>\n",
       "      <td>0.000293</td>\n",
       "      <td>0.009307</td>\n",
       "      <td>0.000621</td>\n",
       "    </tr>\n",
       "    <tr>\n",
       "      <th>2</th>\n",
       "      <td>1003-20-L121-1</td>\n",
       "      <td>0</td>\n",
       "      <td>0</td>\n",
       "      <td>0</td>\n",
       "      <td>0</td>\n",
       "      <td>0</td>\n",
       "      <td>0</td>\n",
       "      <td>0</td>\n",
       "      <td>0</td>\n",
       "      <td>0</td>\n",
       "      <td>...</td>\n",
       "      <td>0.007252</td>\n",
       "      <td>-0.004004</td>\n",
       "      <td>0.012442</td>\n",
       "      <td>0.003369</td>\n",
       "      <td>-0.007303</td>\n",
       "      <td>-0.016063</td>\n",
       "      <td>0.000292</td>\n",
       "      <td>0.000471</td>\n",
       "      <td>-0.000619</td>\n",
       "      <td>-0.001924</td>\n",
       "    </tr>\n",
       "    <tr>\n",
       "      <th>3</th>\n",
       "      <td>4236-21-L121-1</td>\n",
       "      <td>0</td>\n",
       "      <td>0</td>\n",
       "      <td>0</td>\n",
       "      <td>0</td>\n",
       "      <td>0</td>\n",
       "      <td>0</td>\n",
       "      <td>0</td>\n",
       "      <td>0</td>\n",
       "      <td>0</td>\n",
       "      <td>...</td>\n",
       "      <td>-0.014842</td>\n",
       "      <td>-0.019174</td>\n",
       "      <td>0.034127</td>\n",
       "      <td>-0.012244</td>\n",
       "      <td>0.004606</td>\n",
       "      <td>0.010438</td>\n",
       "      <td>-0.009609</td>\n",
       "      <td>0.005497</td>\n",
       "      <td>-0.006998</td>\n",
       "      <td>0.002885</td>\n",
       "    </tr>\n",
       "    <tr>\n",
       "      <th>4</th>\n",
       "      <td>4236-21-L121-2</td>\n",
       "      <td>0</td>\n",
       "      <td>0</td>\n",
       "      <td>0</td>\n",
       "      <td>0</td>\n",
       "      <td>0</td>\n",
       "      <td>0</td>\n",
       "      <td>0</td>\n",
       "      <td>0</td>\n",
       "      <td>0</td>\n",
       "      <td>...</td>\n",
       "      <td>-0.011781</td>\n",
       "      <td>-0.007663</td>\n",
       "      <td>-0.012345</td>\n",
       "      <td>0.010665</td>\n",
       "      <td>0.001450</td>\n",
       "      <td>0.003902</td>\n",
       "      <td>-0.002323</td>\n",
       "      <td>-0.005428</td>\n",
       "      <td>-0.010861</td>\n",
       "      <td>0.004319</td>\n",
       "    </tr>\n",
       "  </tbody>\n",
       "</table>\n",
       "<p>5 rows × 1057 columns</p>\n",
       "</div>"
      ],
      "text/plain": [
       "      id_producto  label  Rubro1_Artículos de electrónica  \\\n",
       "0  2792-88-LE21-1      0                                0   \n",
       "1  1704-52-LP21-1      0                                0   \n",
       "2  1003-20-L121-1      0                                0   \n",
       "3  4236-21-L121-1      0                                0   \n",
       "4  4236-21-L121-2      0                                0   \n",
       "\n",
       "   Rubro1_Artículos de fabricación y producción  \\\n",
       "0                                             0   \n",
       "1                                             0   \n",
       "2                                             0   \n",
       "3                                             0   \n",
       "4                                             0   \n",
       "\n",
       "   Rubro1_Artículos eléctricos y de iluminación  \\\n",
       "0                                             0   \n",
       "1                                             0   \n",
       "2                                             0   \n",
       "3                                             0   \n",
       "4                                             0   \n",
       "\n",
       "   Rubro1_Artículos para estructuras, obras y construcciones  \\\n",
       "0                                                  0           \n",
       "1                                                  0           \n",
       "2                                                  0           \n",
       "3                                                  0           \n",
       "4                                                  0           \n",
       "\n",
       "   Rubro1_Artículos para plantas y animales  \\\n",
       "0                                         0   \n",
       "1                                         0   \n",
       "2                                         0   \n",
       "3                                         0   \n",
       "4                                         0   \n",
       "\n",
       "   Rubro1_Combustibles, lubricantes y anticorrosivos  Rubro1_Consultoria  \\\n",
       "0                                                  0                   0   \n",
       "1                                                  0                   0   \n",
       "2                                                  0                   0   \n",
       "3                                                  0                   0   \n",
       "4                                                  0                   0   \n",
       "\n",
       "   Rubro1_Educación, formación, entrenamiento y capacitación  ...     PC990  \\\n",
       "0                                                  0          ...  0.004879   \n",
       "1                                                  0          ...  0.008098   \n",
       "2                                                  0          ...  0.007252   \n",
       "3                                                  0          ... -0.014842   \n",
       "4                                                  0          ... -0.011781   \n",
       "\n",
       "      PC991     PC992     PC993     PC994     PC995     PC996     PC997  \\\n",
       "0  0.007862  0.001199 -0.001358 -0.001054 -0.005583 -0.004766 -0.001172   \n",
       "1 -0.002915 -0.004871 -0.006536  0.002519 -0.003322 -0.018185  0.000293   \n",
       "2 -0.004004  0.012442  0.003369 -0.007303 -0.016063  0.000292  0.000471   \n",
       "3 -0.019174  0.034127 -0.012244  0.004606  0.010438 -0.009609  0.005497   \n",
       "4 -0.007663 -0.012345  0.010665  0.001450  0.003902 -0.002323 -0.005428   \n",
       "\n",
       "      PC998     PC999  \n",
       "0  0.008052  0.000367  \n",
       "1  0.009307  0.000621  \n",
       "2 -0.000619 -0.001924  \n",
       "3 -0.006998  0.002885  \n",
       "4 -0.010861  0.004319  \n",
       "\n",
       "[5 rows x 1057 columns]"
      ]
     },
     "execution_count": 6,
     "metadata": {},
     "output_type": "execute_result"
    }
   ],
   "source": [
    "df3.head()"
   ]
  },
  {
   "cell_type": "code",
   "execution_count": 12,
   "metadata": {},
   "outputs": [
    {
     "data": {
      "text/plain": [
       "Counter({0: 46270, 1: 5376})"
      ]
     },
     "execution_count": 12,
     "metadata": {},
     "output_type": "execute_result"
    }
   ],
   "source": [
    "X = df3.drop(columns=['id_producto','label'], axis=1)\n",
    "y = df3['label']\n",
    "Counter(y)"
   ]
  },
  {
   "cell_type": "code",
   "execution_count": 25,
   "metadata": {},
   "outputs": [
    {
     "data": {
      "text/plain": [
       "array([[ 0.  ,  0.01],\n",
       "       [ 0.01, -0.  ],\n",
       "       [ 0.01, -0.  ],\n",
       "       ...,\n",
       "       [-0.01, -0.  ],\n",
       "       [-0.  ,  0.01],\n",
       "       [-0.  ,  0.  ]], dtype=float32)"
      ]
     },
     "execution_count": 25,
     "metadata": {},
     "output_type": "execute_result"
    }
   ],
   "source": [
    "X_graf = X[['PC990','PC991']].values\n",
    "X_graf"
   ]
  },
  {
   "cell_type": "code",
   "execution_count": 24,
   "metadata": {},
   "outputs": [
    {
     "data": {
      "text/plain": [
       "array([0, 0, 0, ..., 0, 0, 0], dtype=int64)"
      ]
     },
     "execution_count": 24,
     "metadata": {},
     "output_type": "execute_result"
    }
   ],
   "source": [
    "y_graf = y.values\n",
    "y_graf"
   ]
  },
  {
   "cell_type": "code",
   "execution_count": 26,
   "metadata": {},
   "outputs": [
    {
     "data": {
      "image/png": "[encoded data removed]",
      "text/plain": [
       "<Figure size 432x288 with 1 Axes>"
      ]
     },
     "metadata": {
      "needs_background": "light"
     },
     "output_type": "display_data"
    }
   ],
   "source": [
    "plt.scatter(X_graf[np.where(y_graf == 0)[0], 0], X_graf[np.where(y_graf == 0), 1])\n",
    "plt.scatter(X_graf[np.where(y_graf == 1)[0], 0], X_graf[np.where(y_graf == 1), 1])\n",
    "plt.show()"
   ]
  },
  {
   "cell_type": "code",
   "execution_count": 7,
   "metadata": {},
   "outputs": [],
   "source": [
    "oversampling = SMOTE()  # sampling_strategy=0.80     se puede reducir el oversampling\n",
    "X_balanceado, y_balanceado = oversampling.fit_resample(X, y) #Se obtienen nuevos X e y"
   ]
  },
  {
   "cell_type": "code",
   "execution_count": 11,
   "metadata": {},
   "outputs": [
    {
     "data": {
      "text/plain": [
       "Counter({0: 46270, 1: 46270})"
      ]
     },
     "execution_count": 11,
     "metadata": {},
     "output_type": "execute_result"
    }
   ],
   "source": [
    "Counter(y_balanceado)"
   ]
  },
  {
   "cell_type": "code",
   "execution_count": 27,
   "metadata": {},
   "outputs": [
    {
     "data": {
      "image/png": "[encoded data removed]",
      "text/plain": [
       "<Figure size 432x288 with 1 Axes>"
      ]
     },
     "metadata": {
      "needs_background": "light"
     },
     "output_type": "display_data"
    }
   ],
   "source": [
    "X_graf = X_balanceado[['PC990','PC991']].values\n",
    "y_graf = y_balanceado.values\n",
    "\n",
    "plt.scatter(X_graf[np.where(y_graf == 0)[0], 0], X_graf[np.where(y_graf == 0), 1])\n",
    "plt.scatter(X_graf[np.where(y_graf == 1)[0], 0], X_graf[np.where(y_graf == 1), 1])\n",
    "plt.show()"
   ]
  },
  {
   "cell_type": "code",
   "execution_count": null,
   "metadata": {},
   "outputs": [],
   "source": []
  }
 ],
 "metadata": {
  "kernelspec": {
   "display_name": "Python 3.10.4 64-bit",
   "language": "python",
   "name": "python3"
  },
  "language_info": {
   "codemirror_mode": {
    "name": "ipython",
    "version": 3
   },
   "file_extension": ".py",
   "mimetype": "text/x-python",
   "name": "python",
   "nbconvert_exporter": "python",
   "pygments_lexer": "ipython3",
   "version": "3.10.4"
  },
  "orig_nbformat": 4,
  "vscode": {
   "interpreter": {
    "hash": "26de051ba29f2982a8de78e945f0abaf191376122a1563185a90213a26c5da77"
   }
  }
 },
 "nbformat": 4,
 "nbformat_minor": 2
}
