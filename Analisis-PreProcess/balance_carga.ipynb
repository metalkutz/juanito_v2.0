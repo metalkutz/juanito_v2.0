{
 "cells": [
  {
   "cell_type": "code",
   "execution_count": 18,
   "metadata": {},
   "outputs": [],
   "source": [
    "from imblearn.over_sampling import SMOTE \n",
    "from collections import Counter\n",
    "import matplotlib.pyplot as plt\n",
    "import numpy as np\n",
    "import os\n",
    "os.chdir('../')\n",
    "from main import X, y"
   ]
  },
  {
   "cell_type": "code",
   "execution_count": 2,
   "metadata": {},
   "outputs": [
    {
     "data": {
      "text/plain": [
       "Counter({'label': 1})"
      ]
     },
     "execution_count": 2,
     "metadata": {},
     "output_type": "execute_result"
    }
   ],
   "source": [
    "# df3.groupby('label').size()/len(df)  # balance de labels\n",
    "Counter(y)"
   ]
  },
  {
   "cell_type": "code",
   "execution_count": 12,
   "metadata": {},
   "outputs": [
    {
     "data": {
      "text/html": [
       "<div>\n",
       "<style scoped>\n",
       "    .dataframe tbody tr th:only-of-type {\n",
       "        vertical-align: middle;\n",
       "    }\n",
       "\n",
       "    .dataframe tbody tr th {\n",
       "        vertical-align: top;\n",
       "    }\n",
       "\n",
       "    .dataframe thead th {\n",
       "        text-align: right;\n",
       "    }\n",
       "</style>\n",
       "<table border=\"1\" class=\"dataframe\">\n",
       "  <thead>\n",
       "    <tr style=\"text-align: right;\">\n",
       "      <th></th>\n",
       "      <th>Rubro1_Equipos y suministros de defensa, orden público, protección y seguridad</th>\n",
       "      <th>Rubro2_Materiales estructurales básicos</th>\n",
       "      <th>Rubro1_Artículos de fabricación y producción</th>\n",
       "      <th>Rubro3_Filtros</th>\n",
       "      <th>Rubro1_Ropa, maletas y productos de aseo personal</th>\n",
       "      <th>Rubro2_Vestuario clínico</th>\n",
       "      <th>Rubro1_Maquinaria para fabricación y transformación industrial</th>\n",
       "      <th>Rubro3_Maquinaria para soldadura directa o indirecta</th>\n",
       "      <th>Rubro2_Herramientas manuales</th>\n",
       "      <th>Rubro2_Cintas adhesivas y selladores</th>\n",
       "      <th>...</th>\n",
       "      <th>PC9990</th>\n",
       "      <th>PC9991</th>\n",
       "      <th>PC9992</th>\n",
       "      <th>PC9993</th>\n",
       "      <th>PC9994</th>\n",
       "      <th>PC9995</th>\n",
       "      <th>PC9996</th>\n",
       "      <th>PC9997</th>\n",
       "      <th>PC9998</th>\n",
       "      <th>PC9999</th>\n",
       "    </tr>\n",
       "  </thead>\n",
       "  <tbody>\n",
       "    <tr>\n",
       "      <th>0</th>\n",
       "      <td>0</td>\n",
       "      <td>0</td>\n",
       "      <td>0</td>\n",
       "      <td>0</td>\n",
       "      <td>0</td>\n",
       "      <td>0</td>\n",
       "      <td>0</td>\n",
       "      <td>0</td>\n",
       "      <td>0</td>\n",
       "      <td>0</td>\n",
       "      <td>...</td>\n",
       "      <td>-0.005516</td>\n",
       "      <td>-0.000437</td>\n",
       "      <td>0.002465</td>\n",
       "      <td>-0.006030</td>\n",
       "      <td>0.004354</td>\n",
       "      <td>0.005013</td>\n",
       "      <td>0.007393</td>\n",
       "      <td>0.002471</td>\n",
       "      <td>-0.005525</td>\n",
       "      <td>-0.007172</td>\n",
       "    </tr>\n",
       "    <tr>\n",
       "      <th>1</th>\n",
       "      <td>0</td>\n",
       "      <td>0</td>\n",
       "      <td>0</td>\n",
       "      <td>0</td>\n",
       "      <td>0</td>\n",
       "      <td>0</td>\n",
       "      <td>0</td>\n",
       "      <td>0</td>\n",
       "      <td>0</td>\n",
       "      <td>0</td>\n",
       "      <td>...</td>\n",
       "      <td>0.001534</td>\n",
       "      <td>-0.005963</td>\n",
       "      <td>-0.001420</td>\n",
       "      <td>-0.001846</td>\n",
       "      <td>0.005965</td>\n",
       "      <td>-0.006664</td>\n",
       "      <td>0.000571</td>\n",
       "      <td>0.001245</td>\n",
       "      <td>0.002235</td>\n",
       "      <td>0.002640</td>\n",
       "    </tr>\n",
       "    <tr>\n",
       "      <th>2</th>\n",
       "      <td>0</td>\n",
       "      <td>0</td>\n",
       "      <td>0</td>\n",
       "      <td>0</td>\n",
       "      <td>0</td>\n",
       "      <td>0</td>\n",
       "      <td>0</td>\n",
       "      <td>0</td>\n",
       "      <td>0</td>\n",
       "      <td>0</td>\n",
       "      <td>...</td>\n",
       "      <td>-0.000314</td>\n",
       "      <td>0.000571</td>\n",
       "      <td>-0.000033</td>\n",
       "      <td>0.000877</td>\n",
       "      <td>0.000888</td>\n",
       "      <td>-0.001105</td>\n",
       "      <td>-0.002397</td>\n",
       "      <td>-0.001611</td>\n",
       "      <td>0.001624</td>\n",
       "      <td>0.001275</td>\n",
       "    </tr>\n",
       "    <tr>\n",
       "      <th>3</th>\n",
       "      <td>0</td>\n",
       "      <td>0</td>\n",
       "      <td>0</td>\n",
       "      <td>0</td>\n",
       "      <td>0</td>\n",
       "      <td>0</td>\n",
       "      <td>0</td>\n",
       "      <td>0</td>\n",
       "      <td>0</td>\n",
       "      <td>0</td>\n",
       "      <td>...</td>\n",
       "      <td>-0.000149</td>\n",
       "      <td>-0.001228</td>\n",
       "      <td>-0.000201</td>\n",
       "      <td>-0.000618</td>\n",
       "      <td>-0.000924</td>\n",
       "      <td>0.001515</td>\n",
       "      <td>0.000530</td>\n",
       "      <td>-0.000897</td>\n",
       "      <td>-0.000263</td>\n",
       "      <td>-0.001258</td>\n",
       "    </tr>\n",
       "    <tr>\n",
       "      <th>4</th>\n",
       "      <td>0</td>\n",
       "      <td>0</td>\n",
       "      <td>0</td>\n",
       "      <td>0</td>\n",
       "      <td>0</td>\n",
       "      <td>0</td>\n",
       "      <td>0</td>\n",
       "      <td>0</td>\n",
       "      <td>1</td>\n",
       "      <td>0</td>\n",
       "      <td>...</td>\n",
       "      <td>0.000154</td>\n",
       "      <td>-0.000822</td>\n",
       "      <td>0.000609</td>\n",
       "      <td>0.002275</td>\n",
       "      <td>-0.000442</td>\n",
       "      <td>-0.000430</td>\n",
       "      <td>-0.000798</td>\n",
       "      <td>-0.001101</td>\n",
       "      <td>0.000727</td>\n",
       "      <td>-0.000767</td>\n",
       "    </tr>\n",
       "  </tbody>\n",
       "</table>\n",
       "<p>5 rows × 10113 columns</p>\n",
       "</div>"
      ],
      "text/plain": [
       "   Rubro1_Equipos y suministros de defensa, orden público, protección y seguridad  \\\n",
       "0                                                  0                                \n",
       "1                                                  0                                \n",
       "2                                                  0                                \n",
       "3                                                  0                                \n",
       "4                                                  0                                \n",
       "\n",
       "   Rubro2_Materiales estructurales básicos  \\\n",
       "0                                        0   \n",
       "1                                        0   \n",
       "2                                        0   \n",
       "3                                        0   \n",
       "4                                        0   \n",
       "\n",
       "   Rubro1_Artículos de fabricación y producción  Rubro3_Filtros  \\\n",
       "0                                             0               0   \n",
       "1                                             0               0   \n",
       "2                                             0               0   \n",
       "3                                             0               0   \n",
       "4                                             0               0   \n",
       "\n",
       "   Rubro1_Ropa, maletas y productos de aseo personal  \\\n",
       "0                                                  0   \n",
       "1                                                  0   \n",
       "2                                                  0   \n",
       "3                                                  0   \n",
       "4                                                  0   \n",
       "\n",
       "   Rubro2_Vestuario clínico  \\\n",
       "0                         0   \n",
       "1                         0   \n",
       "2                         0   \n",
       "3                         0   \n",
       "4                         0   \n",
       "\n",
       "   Rubro1_Maquinaria para fabricación y transformación industrial  \\\n",
       "0                                                  0                \n",
       "1                                                  0                \n",
       "2                                                  0                \n",
       "3                                                  0                \n",
       "4                                                  0                \n",
       "\n",
       "   Rubro3_Maquinaria para soldadura directa o indirecta  \\\n",
       "0                                                  0      \n",
       "1                                                  0      \n",
       "2                                                  0      \n",
       "3                                                  0      \n",
       "4                                                  0      \n",
       "\n",
       "   Rubro2_Herramientas manuales  Rubro2_Cintas adhesivas y selladores  ...  \\\n",
       "0                             0                                     0  ...   \n",
       "1                             0                                     0  ...   \n",
       "2                             0                                     0  ...   \n",
       "3                             0                                     0  ...   \n",
       "4                             1                                     0  ...   \n",
       "\n",
       "     PC9990    PC9991    PC9992    PC9993    PC9994    PC9995    PC9996  \\\n",
       "0 -0.005516 -0.000437  0.002465 -0.006030  0.004354  0.005013  0.007393   \n",
       "1  0.001534 -0.005963 -0.001420 -0.001846  0.005965 -0.006664  0.000571   \n",
       "2 -0.000314  0.000571 -0.000033  0.000877  0.000888 -0.001105 -0.002397   \n",
       "3 -0.000149 -0.001228 -0.000201 -0.000618 -0.000924  0.001515  0.000530   \n",
       "4  0.000154 -0.000822  0.000609  0.002275 -0.000442 -0.000430 -0.000798   \n",
       "\n",
       "     PC9997    PC9998    PC9999  \n",
       "0  0.002471 -0.005525 -0.007172  \n",
       "1  0.001245  0.002235  0.002640  \n",
       "2 -0.001611  0.001624  0.001275  \n",
       "3 -0.000897 -0.000263 -0.001258  \n",
       "4 -0.001101  0.000727 -0.000767  \n",
       "\n",
       "[5 rows x 10113 columns]"
      ]
     },
     "execution_count": 12,
     "metadata": {},
     "output_type": "execute_result"
    }
   ],
   "source": [
    "X.drop(columns=['id_producto'], inplace=True)\n",
    "X.head()"
   ]
  },
  {
   "cell_type": "code",
   "execution_count": 4,
   "metadata": {},
   "outputs": [
    {
     "data": {
      "text/plain": [
       "Counter({'label': 1})"
      ]
     },
     "execution_count": 4,
     "metadata": {},
     "output_type": "execute_result"
    }
   ],
   "source": [
    "#X = df3.drop(columns=['id_producto','label'], axis=1)\n",
    "#y = df3['label']\n",
    "Counter(y)"
   ]
  },
  {
   "cell_type": "code",
   "execution_count": 13,
   "metadata": {},
   "outputs": [
    {
     "data": {
      "text/plain": [
       "2"
      ]
     },
     "execution_count": 13,
     "metadata": {},
     "output_type": "execute_result"
    }
   ],
   "source": [
    "X_graf = X[['PC990','PC991']].values\n",
    "len(X_graf)\n",
    "len(X_graf[0])"
   ]
  },
  {
   "cell_type": "code",
   "execution_count": 14,
   "metadata": {},
   "outputs": [
    {
     "data": {
      "text/plain": [
       "54849"
      ]
     },
     "execution_count": 14,
     "metadata": {},
     "output_type": "execute_result"
    }
   ],
   "source": [
    "y_graf = y.values\n",
    "len(y_graf)"
   ]
  },
  {
   "cell_type": "code",
   "execution_count": null,
   "metadata": {},
   "outputs": [],
   "source": [
    "plt.scatter(X_graf[np.where(y_graf == 0)[0], 0], X_graf[np.where(y_graf == 0), 1])\n",
    "plt.scatter(X_graf[np.where(y_graf == 1)[0], 0], X_graf[np.where(y_graf == 1), 1])\n",
    "plt.show()"
   ]
  },
  {
   "cell_type": "code",
   "execution_count": null,
   "metadata": {},
   "outputs": [],
   "source": [
    "oversampling = SMOTE()  # sampling_strategy=0.80     se puede reducir el oversampling\n",
    "X_balanceado, y_balanceado = oversampling.fit_resample(X, y) #Se obtienen nuevos X e y"
   ]
  },
  {
   "cell_type": "code",
   "execution_count": 11,
   "metadata": {},
   "outputs": [
    {
     "data": {
      "text/plain": [
       "Counter({0: 46270, 1: 46270})"
      ]
     },
     "execution_count": 11,
     "metadata": {},
     "output_type": "execute_result"
    }
   ],
   "source": [
    "Counter(y_balanceado)"
   ]
  },
  {
   "cell_type": "code",
   "execution_count": 17,
   "metadata": {},
   "outputs": [],
   "source": [
    "oversampling = SMOTE(sampling_strategy=0.30) # usamos oversampling sintético podemos elegir el nivel de oversampling con  sampling_strategy=0.80\n",
    "X_train_smote, y_train_smote = oversampling.fit_resample(X, y) #Se obtienen nuevos X e y"
   ]
  },
  {
   "cell_type": "code",
   "execution_count": 27,
   "metadata": {},
   "outputs": [
    {
     "data": {
      "image/png": "[encoded data removed]",
      "text/plain": [
       "<Figure size 432x288 with 1 Axes>"
      ]
     },
     "metadata": {
      "needs_background": "light"
     },
     "output_type": "display_data"
    }
   ],
   "source": [
    "X_graf = X_balanceado[['PC990','PC991']].values\n",
    "y_graf = y_balanceado.values\n",
    "\n",
    "plt.scatter(X_graf[np.where(y_graf == 0)[0], 0], X_graf[np.where(y_graf == 0), 1])\n",
    "plt.scatter(X_graf[np.where(y_graf == 1)[0], 0], X_graf[np.where(y_graf == 1), 1])\n",
    "plt.show()"
   ]
  },
  {
   "cell_type": "code",
   "execution_count": null,
   "metadata": {},
   "outputs": [],
   "source": []
  }
 ],
 "metadata": {
  "kernelspec": {
   "display_name": "Python 3.10.4 64-bit",
   "language": "python",
   "name": "python3"
  },
  "language_info": {
   "codemirror_mode": {
    "name": "ipython",
    "version": 3
   },
   "file_extension": ".py",
   "mimetype": "text/x-python",
   "name": "python",
   "nbconvert_exporter": "python",
   "pygments_lexer": "ipython3",
   "version": "3.10.4"
  },
  "orig_nbformat": 4,
  "vscode": {
   "interpreter": {
    "hash": "26de051ba29f2982a8de78e945f0abaf191376122a1563185a90213a26c5da77"
   }
  }
 },
 "nbformat": 4,
 "nbformat_minor": 2
}
