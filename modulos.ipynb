{
 "cells": [
  {
   "cell_type": "code",
   "execution_count": 1,
   "metadata": {},
   "outputs": [
    {
     "name": "stdout",
     "output_type": "stream",
     "text": [
      "['c:\\\\Users\\\\metal\\\\Trabajos Bootcamp\\\\Proyecto Final\\\\juanito_v2.0', 'c:\\\\Program Files\\\\Python310\\\\python310.zip', 'c:\\\\Program Files\\\\Python310\\\\DLLs', 'c:\\\\Program Files\\\\Python310\\\\lib', 'c:\\\\Program Files\\\\Python310', '', 'C:\\\\Users\\\\metal\\\\AppData\\\\Roaming\\\\Python\\\\Python310\\\\site-packages', 'C:\\\\Users\\\\metal\\\\AppData\\\\Roaming\\\\Python\\\\Python310\\\\site-packages\\\\win32', 'C:\\\\Users\\\\metal\\\\AppData\\\\Roaming\\\\Python\\\\Python310\\\\site-packages\\\\win32\\\\lib', 'C:\\\\Users\\\\metal\\\\AppData\\\\Roaming\\\\Python\\\\Python310\\\\site-packages\\\\Pythonwin', 'c:\\\\Program Files\\\\Python310\\\\lib\\\\site-packages']\n"
     ]
    }
   ],
   "source": [
    "import sys\n",
    "print(sys.path)"
   ]
  },
  {
   "cell_type": "code",
   "execution_count": 2,
   "metadata": {},
   "outputs": [],
   "source": [
    "import os, sys, inspect\n",
    "# realpath() will make your script run, even if you symlink it :)\n",
    "cmd_folder = os.path.realpath(os.path.abspath(os.path.split(inspect.getfile( inspect.currentframe() ))[0]))\n",
    "if cmd_folder not in sys.path:\n",
    "    sys.path.insert(0, cmd_folder)\n"
   ]
  },
  {
   "cell_type": "code",
   "execution_count": 3,
   "metadata": {},
   "outputs": [
    {
     "name": "stdout",
     "output_type": "stream",
     "text": [
      "['C:\\\\Users\\\\metal\\\\AppData\\\\Local\\\\Temp\\\\ipykernel_12336', 'c:\\\\Users\\\\metal\\\\Trabajos Bootcamp\\\\Proyecto Final\\\\juanito_v2.0', 'c:\\\\Program Files\\\\Python310\\\\python310.zip', 'c:\\\\Program Files\\\\Python310\\\\DLLs', 'c:\\\\Program Files\\\\Python310\\\\lib', 'c:\\\\Program Files\\\\Python310', '', 'C:\\\\Users\\\\metal\\\\AppData\\\\Roaming\\\\Python\\\\Python310\\\\site-packages', 'C:\\\\Users\\\\metal\\\\AppData\\\\Roaming\\\\Python\\\\Python310\\\\site-packages\\\\win32', 'C:\\\\Users\\\\metal\\\\AppData\\\\Roaming\\\\Python\\\\Python310\\\\site-packages\\\\win32\\\\lib', 'C:\\\\Users\\\\metal\\\\AppData\\\\Roaming\\\\Python\\\\Python310\\\\site-packages\\\\Pythonwin', 'c:\\\\Program Files\\\\Python310\\\\lib\\\\site-packages']\n"
     ]
    }
   ],
   "source": [
    "print(sys.path)"
   ]
  },
  {
   "cell_type": "code",
   "execution_count": 4,
   "metadata": {},
   "outputs": [],
   "source": [
    "# Use this if you want to include modules from a subfolder\n",
    "cmd_subfolder = os.path.realpath(os.path.abspath(os.path.join(os.path.split(inspect.getfile( inspect.currentframe() ))[0],\"subfolder\")))\n",
    "if cmd_subfolder not in sys.path:\n",
    "    sys.path.insert(0, cmd_subfolder)"
   ]
  },
  {
   "cell_type": "code",
   "execution_count": 5,
   "metadata": {},
   "outputs": [
    {
     "name": "stdout",
     "output_type": "stream",
     "text": [
      "['C:\\\\Users\\\\metal\\\\AppData\\\\Local\\\\Temp\\\\ipykernel_12336\\\\subfolder', 'C:\\\\Users\\\\metal\\\\AppData\\\\Local\\\\Temp\\\\ipykernel_12336', 'c:\\\\Users\\\\metal\\\\Trabajos Bootcamp\\\\Proyecto Final\\\\juanito_v2.0', 'c:\\\\Program Files\\\\Python310\\\\python310.zip', 'c:\\\\Program Files\\\\Python310\\\\DLLs', 'c:\\\\Program Files\\\\Python310\\\\lib', 'c:\\\\Program Files\\\\Python310', '', 'C:\\\\Users\\\\metal\\\\AppData\\\\Roaming\\\\Python\\\\Python310\\\\site-packages', 'C:\\\\Users\\\\metal\\\\AppData\\\\Roaming\\\\Python\\\\Python310\\\\site-packages\\\\win32', 'C:\\\\Users\\\\metal\\\\AppData\\\\Roaming\\\\Python\\\\Python310\\\\site-packages\\\\win32\\\\lib', 'C:\\\\Users\\\\metal\\\\AppData\\\\Roaming\\\\Python\\\\Python310\\\\site-packages\\\\Pythonwin', 'c:\\\\Program Files\\\\Python310\\\\lib\\\\site-packages']\n"
     ]
    }
   ],
   "source": [
    "print(sys.path)"
   ]
  },
  {
   "cell_type": "code",
   "execution_count": 15,
   "metadata": {},
   "outputs": [],
   "source": [
    "sys.path.append( '.\\Datos' )\n",
    "sys.path.append( '.\\Funciones' )\n",
    "sys.path.append( '..\\Datos' )\n",
    "sys.path.append( '..\\Funciones' )"
   ]
  },
  {
   "cell_type": "code",
   "execution_count": 16,
   "metadata": {},
   "outputs": [
    {
     "name": "stdout",
     "output_type": "stream",
     "text": [
      "['C:\\\\Users\\\\metal\\\\AppData\\\\Local\\\\Temp\\\\ipykernel_12336\\\\subfolder', 'C:\\\\Users\\\\metal\\\\AppData\\\\Local\\\\Temp\\\\ipykernel_12336', 'c:\\\\Users\\\\metal\\\\Trabajos Bootcamp\\\\Proyecto Final\\\\juanito_v2.0', 'c:\\\\Program Files\\\\Python310\\\\python310.zip', 'c:\\\\Program Files\\\\Python310\\\\DLLs', 'c:\\\\Program Files\\\\Python310\\\\lib', 'c:\\\\Program Files\\\\Python310', '', 'C:\\\\Users\\\\metal\\\\AppData\\\\Roaming\\\\Python\\\\Python310\\\\site-packages', 'C:\\\\Users\\\\metal\\\\AppData\\\\Roaming\\\\Python\\\\Python310\\\\site-packages\\\\win32', 'C:\\\\Users\\\\metal\\\\AppData\\\\Roaming\\\\Python\\\\Python310\\\\site-packages\\\\win32\\\\lib', 'C:\\\\Users\\\\metal\\\\AppData\\\\Roaming\\\\Python\\\\Python310\\\\site-packages\\\\Pythonwin', 'c:\\\\Program Files\\\\Python310\\\\lib\\\\site-packages', './Datos', './Funciones', '../Datos', '../Funciones', '.\\\\Datos', '.\\\\Funciones', '..\\\\Datos', '..\\\\Funciones']\n"
     ]
    }
   ],
   "source": [
    "print(sys.path)"
   ]
  },
  {
   "cell_type": "code",
   "execution_count": 8,
   "metadata": {},
   "outputs": [
    {
     "data": {
      "text/plain": [
       "'c:\\\\Users\\\\metal\\\\Trabajos Bootcamp\\\\Proyecto Final\\\\juanito_v2.0'"
      ]
     },
     "execution_count": 8,
     "metadata": {},
     "output_type": "execute_result"
    }
   ],
   "source": [
    "os.getcwd()"
   ]
  },
  {
   "cell_type": "code",
   "execution_count": 10,
   "metadata": {},
   "outputs": [
    {
     "data": {
      "text/plain": [
       "'c:\\\\Users\\\\metal\\\\Trabajos Bootcamp\\\\Proyecto Final\\\\juanito_v2.0\\\\Modelos'"
      ]
     },
     "execution_count": 10,
     "metadata": {},
     "output_type": "execute_result"
    }
   ],
   "source": [
    "os.chdir('.\\Modelos') # para entrar en una carpeta\n",
    "os.getcwd()"
   ]
  },
  {
   "cell_type": "code",
   "execution_count": 17,
   "metadata": {},
   "outputs": [
    {
     "ename": "FileNotFoundError",
     "evalue": "[Errno 2] No such file or directory: '.\\\\Funciones\\\\lista_columnas.pkl'",
     "output_type": "error",
     "traceback": [
      "\u001b[1;31m---------------------------------------------------------------------------\u001b[0m",
      "\u001b[1;31mFileNotFoundError\u001b[0m                         Traceback (most recent call last)",
      "\u001b[1;32mc:\\Users\\metal\\Trabajos Bootcamp\\Proyecto Final\\juanito_v2.0\\modulos.ipynb Cell 10\u001b[0m in \u001b[0;36m<cell line: 1>\u001b[1;34m()\u001b[0m\n\u001b[1;32m----> <a href='vscode-notebook-cell:/c%3A/Users/metal/Trabajos%20Bootcamp/Proyecto%20Final/juanito_v2.0/modulos.ipynb#ch0000012?line=0'>1</a>\u001b[0m \u001b[39mfrom\u001b[39;00m \u001b[39mFunciones\u001b[39;00m\u001b[39m.\u001b[39;00m\u001b[39mfunciones\u001b[39;00m \u001b[39mimport\u001b[39;00m\u001b[39m*\u001b[39m\n",
      "File \u001b[1;32mc:\\Users\\metal\\Trabajos Bootcamp\\Proyecto Final\\juanito_v2.0\\Funciones\\funciones.py:19\u001b[0m, in \u001b[0;36m<module>\u001b[1;34m\u001b[0m\n\u001b[0;32m     16\u001b[0m \u001b[39mimport\u001b[39;00m \u001b[39mpickle\u001b[39;00m\n\u001b[0;32m     18\u001b[0m \u001b[39m#Contador de Palabras de catálogo de productos\u001b[39;00m\n\u001b[1;32m---> 19\u001b[0m lc\u001b[39m=\u001b[39m\u001b[39mopen\u001b[39;49m(\u001b[39m'\u001b[39;49m\u001b[39m.\u001b[39;49m\u001b[39m\\\u001b[39;49m\u001b[39mFunciones\u001b[39;49m\u001b[39m\\\u001b[39;49m\u001b[39mlista_columnas.pkl\u001b[39;49m\u001b[39m'\u001b[39;49m,\u001b[39m'\u001b[39;49m\u001b[39mrb\u001b[39;49m\u001b[39m'\u001b[39;49m)\n\u001b[0;32m     20\u001b[0m lista_columnas\u001b[39m=\u001b[39mpickle\u001b[39m.\u001b[39mload(lc)\n\u001b[0;32m     21\u001b[0m lc\u001b[39m.\u001b[39mclose()\n",
      "\u001b[1;31mFileNotFoundError\u001b[0m: [Errno 2] No such file or directory: '.\\\\Funciones\\\\lista_columnas.pkl'"
     ]
    }
   ],
   "source": [
    "from Funciones.funciones import* "
   ]
  },
  {
   "cell_type": "code",
   "execution_count": 14,
   "metadata": {},
   "outputs": [
    {
     "data": {
      "text/plain": [
       "'c:\\\\Users\\\\metal\\\\Trabajos Bootcamp\\\\Proyecto Final\\\\juanito_v2.0\\\\Datos'"
      ]
     },
     "execution_count": 14,
     "metadata": {},
     "output_type": "execute_result"
    }
   ],
   "source": [
    "os.chdir('.\\Datos') # para entrar en una carpeta\n",
    "os.getcwd()"
   ]
  },
  {
   "cell_type": "code",
   "execution_count": 15,
   "metadata": {},
   "outputs": [
    {
     "data": {
      "text/plain": [
       "'c:\\\\Users\\\\metal\\\\Trabajos Bootcamp\\\\Proyecto Final\\\\juanito_v2.0\\\\Modelos'"
      ]
     },
     "execution_count": 15,
     "metadata": {},
     "output_type": "execute_result"
    }
   ],
   "source": [
    "os.chdir('../Modelos') # para retroceder y entrar a una carpeta\n",
    "os.getcwd()"
   ]
  },
  {
   "cell_type": "code",
   "execution_count": 16,
   "metadata": {},
   "outputs": [
    {
     "data": {
      "text/plain": [
       "'c:\\\\Users\\\\metal\\\\Trabajos Bootcamp\\\\Proyecto Final\\\\juanito_v2.0'"
      ]
     },
     "execution_count": 16,
     "metadata": {},
     "output_type": "execute_result"
    }
   ],
   "source": [
    "os.chdir('../') # para retroceder una carpeta\n",
    "os.getcwd()"
   ]
  }
 ],
 "metadata": {
  "kernelspec": {
   "display_name": "Python 3.10.4 64-bit",
   "language": "python",
   "name": "python3"
  },
  "language_info": {
   "codemirror_mode": {
    "name": "ipython",
    "version": 3
   },
   "file_extension": ".py",
   "mimetype": "text/x-python",
   "name": "python",
   "nbconvert_exporter": "python",
   "pygments_lexer": "ipython3",
   "version": "3.10.4"
  },
  "orig_nbformat": 4,
  "vscode": {
   "interpreter": {
    "hash": "26de051ba29f2982a8de78e945f0abaf191376122a1563185a90213a26c5da77"
   }
  }
 },
 "nbformat": 4,
 "nbformat_minor": 2
}
