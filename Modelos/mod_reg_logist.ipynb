{
 "cells": [
  {
   "cell_type": "code",
   "execution_count": 3,
   "metadata": {},
   "outputs": [
    {
     "name": "stdout",
     "output_type": "stream",
     "text": [
      "X_cat: (54484, 6365) y_cat: (54484,)\n",
      "X: (54484, 10113) y: (54484, 1)\n"
     ]
    }
   ],
   "source": [
    "####### os, pickle\n",
    "import os\n",
    "import pickle\n",
    "\n",
    "from collections import Counter\n",
    "from imblearn.over_sampling import SMOTE \n",
    "\n",
    "import matplotlib.pyplot as plt\n",
    "import seaborn as sns\n",
    "\n",
    "from sklearn.model_selection import train_test_split\n",
    "from sklearn.linear_model import LogisticRegression\n",
    "from sklearn.model_selection import GridSearchCV\n",
    "from sklearn.metrics import RocCurveDisplay\n",
    "\n",
    "os.chdir('../')\n",
    "from Funciones.funciones import* \n",
    "from main import *\n",
    "os.chdir('./Modelos')"
   ]
  },
  {
   "cell_type": "code",
   "execution_count": 4,
   "metadata": {},
   "outputs": [
    {
     "data": {
      "text/html": [
       "<div>\n",
       "<style scoped>\n",
       "    .dataframe tbody tr th:only-of-type {\n",
       "        vertical-align: middle;\n",
       "    }\n",
       "\n",
       "    .dataframe tbody tr th {\n",
       "        vertical-align: top;\n",
       "    }\n",
       "\n",
       "    .dataframe thead th {\n",
       "        text-align: right;\n",
       "    }\n",
       "</style>\n",
       "<table border=\"1\" class=\"dataframe\">\n",
       "  <thead>\n",
       "    <tr style=\"text-align: right;\">\n",
       "      <th></th>\n",
       "      <th>Rubro1_Artículos de electrónica</th>\n",
       "      <th>Rubro1_Artículos de fabricación y producción</th>\n",
       "      <th>Rubro1_Artículos eléctricos y de iluminación</th>\n",
       "      <th>Rubro1_Artículos para estructuras, obras y construcciones</th>\n",
       "      <th>Rubro1_Artículos para plantas y animales</th>\n",
       "      <th>Rubro1_Combustibles, lubricantes y anticorrosivos</th>\n",
       "      <th>Rubro1_Consultoria</th>\n",
       "      <th>Rubro1_Educación, formación, entrenamiento y capacitación</th>\n",
       "      <th>Rubro1_Equipamiento para el acondicionamiento, distribución y filtrado de fluidos</th>\n",
       "      <th>Rubro1_Equipamiento para laboratorios</th>\n",
       "      <th>...</th>\n",
       "      <th>nombre_producto_Ángulos de plástico</th>\n",
       "      <th>nombre_producto_Árbol de medios</th>\n",
       "      <th>nombre_producto_Árboles</th>\n",
       "      <th>nombre_producto_Árnica</th>\n",
       "      <th>nombre_producto_Émbolo buzo de desagüe o inodoro</th>\n",
       "      <th>nombre_producto_Éter</th>\n",
       "      <th>nombre_producto_Órtesis ortopédicas espinales</th>\n",
       "      <th>nombre_producto_Óxido de calcio</th>\n",
       "      <th>nombre_producto_Útiles de colocación de compuestos</th>\n",
       "      <th>nombre_producto_Útiles de colocación de hidróxido de calcio</th>\n",
       "    </tr>\n",
       "    <tr>\n",
       "      <th>id_producto</th>\n",
       "      <th></th>\n",
       "      <th></th>\n",
       "      <th></th>\n",
       "      <th></th>\n",
       "      <th></th>\n",
       "      <th></th>\n",
       "      <th></th>\n",
       "      <th></th>\n",
       "      <th></th>\n",
       "      <th></th>\n",
       "      <th></th>\n",
       "      <th></th>\n",
       "      <th></th>\n",
       "      <th></th>\n",
       "      <th></th>\n",
       "      <th></th>\n",
       "      <th></th>\n",
       "      <th></th>\n",
       "      <th></th>\n",
       "      <th></th>\n",
       "      <th></th>\n",
       "    </tr>\n",
       "  </thead>\n",
       "  <tbody>\n",
       "    <tr>\n",
       "      <th>2792-88-LE21-1</th>\n",
       "      <td>0</td>\n",
       "      <td>0</td>\n",
       "      <td>0</td>\n",
       "      <td>0</td>\n",
       "      <td>0</td>\n",
       "      <td>0</td>\n",
       "      <td>0</td>\n",
       "      <td>0</td>\n",
       "      <td>0</td>\n",
       "      <td>0</td>\n",
       "      <td>...</td>\n",
       "      <td>0</td>\n",
       "      <td>0</td>\n",
       "      <td>0</td>\n",
       "      <td>0</td>\n",
       "      <td>0</td>\n",
       "      <td>0</td>\n",
       "      <td>0</td>\n",
       "      <td>0</td>\n",
       "      <td>0</td>\n",
       "      <td>0</td>\n",
       "    </tr>\n",
       "    <tr>\n",
       "      <th>1704-52-LP21-1</th>\n",
       "      <td>0</td>\n",
       "      <td>0</td>\n",
       "      <td>0</td>\n",
       "      <td>0</td>\n",
       "      <td>0</td>\n",
       "      <td>0</td>\n",
       "      <td>0</td>\n",
       "      <td>0</td>\n",
       "      <td>0</td>\n",
       "      <td>0</td>\n",
       "      <td>...</td>\n",
       "      <td>0</td>\n",
       "      <td>0</td>\n",
       "      <td>0</td>\n",
       "      <td>0</td>\n",
       "      <td>0</td>\n",
       "      <td>0</td>\n",
       "      <td>0</td>\n",
       "      <td>0</td>\n",
       "      <td>0</td>\n",
       "      <td>0</td>\n",
       "    </tr>\n",
       "    <tr>\n",
       "      <th>1003-20-L121-1</th>\n",
       "      <td>0</td>\n",
       "      <td>0</td>\n",
       "      <td>0</td>\n",
       "      <td>0</td>\n",
       "      <td>0</td>\n",
       "      <td>0</td>\n",
       "      <td>0</td>\n",
       "      <td>0</td>\n",
       "      <td>0</td>\n",
       "      <td>0</td>\n",
       "      <td>...</td>\n",
       "      <td>0</td>\n",
       "      <td>0</td>\n",
       "      <td>0</td>\n",
       "      <td>0</td>\n",
       "      <td>0</td>\n",
       "      <td>0</td>\n",
       "      <td>0</td>\n",
       "      <td>0</td>\n",
       "      <td>0</td>\n",
       "      <td>0</td>\n",
       "    </tr>\n",
       "    <tr>\n",
       "      <th>4236-21-L121-1</th>\n",
       "      <td>0</td>\n",
       "      <td>0</td>\n",
       "      <td>0</td>\n",
       "      <td>0</td>\n",
       "      <td>0</td>\n",
       "      <td>0</td>\n",
       "      <td>0</td>\n",
       "      <td>0</td>\n",
       "      <td>0</td>\n",
       "      <td>0</td>\n",
       "      <td>...</td>\n",
       "      <td>0</td>\n",
       "      <td>0</td>\n",
       "      <td>0</td>\n",
       "      <td>0</td>\n",
       "      <td>0</td>\n",
       "      <td>0</td>\n",
       "      <td>0</td>\n",
       "      <td>0</td>\n",
       "      <td>0</td>\n",
       "      <td>0</td>\n",
       "    </tr>\n",
       "    <tr>\n",
       "      <th>4236-21-L121-2</th>\n",
       "      <td>0</td>\n",
       "      <td>0</td>\n",
       "      <td>0</td>\n",
       "      <td>0</td>\n",
       "      <td>0</td>\n",
       "      <td>0</td>\n",
       "      <td>0</td>\n",
       "      <td>0</td>\n",
       "      <td>0</td>\n",
       "      <td>0</td>\n",
       "      <td>...</td>\n",
       "      <td>0</td>\n",
       "      <td>0</td>\n",
       "      <td>0</td>\n",
       "      <td>0</td>\n",
       "      <td>0</td>\n",
       "      <td>0</td>\n",
       "      <td>0</td>\n",
       "      <td>0</td>\n",
       "      <td>0</td>\n",
       "      <td>0</td>\n",
       "    </tr>\n",
       "  </tbody>\n",
       "</table>\n",
       "<p>5 rows × 6365 columns</p>\n",
       "</div>"
      ],
      "text/plain": [
       "                Rubro1_Artículos de electrónica  \\\n",
       "id_producto                                       \n",
       "2792-88-LE21-1                                0   \n",
       "1704-52-LP21-1                                0   \n",
       "1003-20-L121-1                                0   \n",
       "4236-21-L121-1                                0   \n",
       "4236-21-L121-2                                0   \n",
       "\n",
       "                Rubro1_Artículos de fabricación y producción  \\\n",
       "id_producto                                                    \n",
       "2792-88-LE21-1                                             0   \n",
       "1704-52-LP21-1                                             0   \n",
       "1003-20-L121-1                                             0   \n",
       "4236-21-L121-1                                             0   \n",
       "4236-21-L121-2                                             0   \n",
       "\n",
       "                Rubro1_Artículos eléctricos y de iluminación  \\\n",
       "id_producto                                                    \n",
       "2792-88-LE21-1                                             0   \n",
       "1704-52-LP21-1                                             0   \n",
       "1003-20-L121-1                                             0   \n",
       "4236-21-L121-1                                             0   \n",
       "4236-21-L121-2                                             0   \n",
       "\n",
       "                Rubro1_Artículos para estructuras, obras y construcciones  \\\n",
       "id_producto                                                                 \n",
       "2792-88-LE21-1                                                  0           \n",
       "1704-52-LP21-1                                                  0           \n",
       "1003-20-L121-1                                                  0           \n",
       "4236-21-L121-1                                                  0           \n",
       "4236-21-L121-2                                                  0           \n",
       "\n",
       "                Rubro1_Artículos para plantas y animales  \\\n",
       "id_producto                                                \n",
       "2792-88-LE21-1                                         0   \n",
       "1704-52-LP21-1                                         0   \n",
       "1003-20-L121-1                                         0   \n",
       "4236-21-L121-1                                         0   \n",
       "4236-21-L121-2                                         0   \n",
       "\n",
       "                Rubro1_Combustibles, lubricantes y anticorrosivos  \\\n",
       "id_producto                                                         \n",
       "2792-88-LE21-1                                                  0   \n",
       "1704-52-LP21-1                                                  0   \n",
       "1003-20-L121-1                                                  0   \n",
       "4236-21-L121-1                                                  0   \n",
       "4236-21-L121-2                                                  0   \n",
       "\n",
       "                Rubro1_Consultoria  \\\n",
       "id_producto                          \n",
       "2792-88-LE21-1                   0   \n",
       "1704-52-LP21-1                   0   \n",
       "1003-20-L121-1                   0   \n",
       "4236-21-L121-1                   0   \n",
       "4236-21-L121-2                   0   \n",
       "\n",
       "                Rubro1_Educación, formación, entrenamiento y capacitación  \\\n",
       "id_producto                                                                 \n",
       "2792-88-LE21-1                                                  0           \n",
       "1704-52-LP21-1                                                  0           \n",
       "1003-20-L121-1                                                  0           \n",
       "4236-21-L121-1                                                  0           \n",
       "4236-21-L121-2                                                  0           \n",
       "\n",
       "                Rubro1_Equipamiento para el acondicionamiento, distribución y filtrado de fluidos  \\\n",
       "id_producto                                                                                         \n",
       "2792-88-LE21-1                                                  0                                   \n",
       "1704-52-LP21-1                                                  0                                   \n",
       "1003-20-L121-1                                                  0                                   \n",
       "4236-21-L121-1                                                  0                                   \n",
       "4236-21-L121-2                                                  0                                   \n",
       "\n",
       "                Rubro1_Equipamiento para laboratorios  ...  \\\n",
       "id_producto                                            ...   \n",
       "2792-88-LE21-1                                      0  ...   \n",
       "1704-52-LP21-1                                      0  ...   \n",
       "1003-20-L121-1                                      0  ...   \n",
       "4236-21-L121-1                                      0  ...   \n",
       "4236-21-L121-2                                      0  ...   \n",
       "\n",
       "                nombre_producto_Ángulos de plástico  \\\n",
       "id_producto                                           \n",
       "2792-88-LE21-1                                    0   \n",
       "1704-52-LP21-1                                    0   \n",
       "1003-20-L121-1                                    0   \n",
       "4236-21-L121-1                                    0   \n",
       "4236-21-L121-2                                    0   \n",
       "\n",
       "                nombre_producto_Árbol de medios  nombre_producto_Árboles  \\\n",
       "id_producto                                                                \n",
       "2792-88-LE21-1                                0                        0   \n",
       "1704-52-LP21-1                                0                        0   \n",
       "1003-20-L121-1                                0                        0   \n",
       "4236-21-L121-1                                0                        0   \n",
       "4236-21-L121-2                                0                        0   \n",
       "\n",
       "                nombre_producto_Árnica  \\\n",
       "id_producto                              \n",
       "2792-88-LE21-1                       0   \n",
       "1704-52-LP21-1                       0   \n",
       "1003-20-L121-1                       0   \n",
       "4236-21-L121-1                       0   \n",
       "4236-21-L121-2                       0   \n",
       "\n",
       "                nombre_producto_Émbolo buzo de desagüe o inodoro  \\\n",
       "id_producto                                                        \n",
       "2792-88-LE21-1                                                 0   \n",
       "1704-52-LP21-1                                                 0   \n",
       "1003-20-L121-1                                                 0   \n",
       "4236-21-L121-1                                                 0   \n",
       "4236-21-L121-2                                                 0   \n",
       "\n",
       "                nombre_producto_Éter  \\\n",
       "id_producto                            \n",
       "2792-88-LE21-1                     0   \n",
       "1704-52-LP21-1                     0   \n",
       "1003-20-L121-1                     0   \n",
       "4236-21-L121-1                     0   \n",
       "4236-21-L121-2                     0   \n",
       "\n",
       "                nombre_producto_Órtesis ortopédicas espinales  \\\n",
       "id_producto                                                     \n",
       "2792-88-LE21-1                                              0   \n",
       "1704-52-LP21-1                                              0   \n",
       "1003-20-L121-1                                              0   \n",
       "4236-21-L121-1                                              0   \n",
       "4236-21-L121-2                                              0   \n",
       "\n",
       "                nombre_producto_Óxido de calcio  \\\n",
       "id_producto                                       \n",
       "2792-88-LE21-1                                0   \n",
       "1704-52-LP21-1                                0   \n",
       "1003-20-L121-1                                0   \n",
       "4236-21-L121-1                                0   \n",
       "4236-21-L121-2                                0   \n",
       "\n",
       "                nombre_producto_Útiles de colocación de compuestos  \\\n",
       "id_producto                                                          \n",
       "2792-88-LE21-1                                                  0    \n",
       "1704-52-LP21-1                                                  0    \n",
       "1003-20-L121-1                                                  0    \n",
       "4236-21-L121-1                                                  0    \n",
       "4236-21-L121-2                                                  0    \n",
       "\n",
       "                nombre_producto_Útiles de colocación de hidróxido de calcio  \n",
       "id_producto                                                                  \n",
       "2792-88-LE21-1                                                  0            \n",
       "1704-52-LP21-1                                                  0            \n",
       "1003-20-L121-1                                                  0            \n",
       "4236-21-L121-1                                                  0            \n",
       "4236-21-L121-2                                                  0            \n",
       "\n",
       "[5 rows x 6365 columns]"
      ]
     },
     "execution_count": 4,
     "metadata": {},
     "output_type": "execute_result"
    }
   ],
   "source": [
    "#X_balanceado.head()\n",
    "X_cat.head()"
   ]
  },
  {
   "cell_type": "code",
   "execution_count": 18,
   "metadata": {},
   "outputs": [
    {
     "data": {
      "text/plain": [
       "Counter({0: 4525, 1: 586})"
      ]
     },
     "execution_count": 18,
     "metadata": {},
     "output_type": "execute_result"
    }
   ],
   "source": [
    "Counter(y_cat)\n",
    "#Counter(y_balanceado_redux)"
   ]
  },
  {
   "cell_type": "markdown",
   "metadata": {},
   "source": [
    "## Entrenamiento con variables categoricas Mercado Publico (sólo dummies)"
   ]
  },
  {
   "cell_type": "code",
   "execution_count": 19,
   "metadata": {},
   "outputs": [],
   "source": [
    "\n",
    "X_train, X_test, y_train, y_test = train_test_split(\n",
    "    X_cat, y_cat, test_size=0.33, random_state=42)\n",
    "\n",
    "oversampling = SMOTE(sampling_strategy=0.30) # usamos oversampling sintético podemos elegir el nivel de oversampling con  sampling_strategy=0.80\n",
    "X_train_smote, y_train_smote = oversampling.fit_resample(X_train, y_train) #Se obtienen nuevos X e y\n"
   ]
  },
  {
   "cell_type": "code",
   "execution_count": 23,
   "metadata": {},
   "outputs": [
    {
     "name": "stderr",
     "output_type": "stream",
     "text": [
      "[Parallel(n_jobs=-1)]: Using backend LokyBackend with 16 concurrent workers.\n",
      "[Parallel(n_jobs=-1)]: Done   1 out of   1 | elapsed:   31.8s finished\n"
     ]
    }
   ],
   "source": [
    "clf = LogisticRegression(\n",
    "    solver='lbfgs', \n",
    "    penalty='l2',\n",
    "    multi_class='ovr',\n",
    "    max_iter=500,\n",
    "    C= 0.1,\n",
    "    n_jobs=-1,\n",
    "    verbose=1) # la forma del GD\n",
    "clf = clf.fit(X_train_smote, y_train_smote)\n",
    "Y_pred = clf.predict(X_test)\n",
    "probs = clf.predict_proba(X_test)"
   ]
  },
  {
   "cell_type": "code",
   "execution_count": 24,
   "metadata": {},
   "outputs": [
    {
     "data": {
      "image/png": "[encoded data removed]",
      "text/plain": [
       "<Figure size 432x288 with 1 Axes>"
      ]
     },
     "metadata": {
      "needs_background": "light"
     },
     "output_type": "display_data"
    },
    {
     "name": "stdout",
     "output_type": "stream",
     "text": [
      "Train AUC 0.9259745628754164\n",
      "              precision    recall  f1-score   support\n",
      "\n",
      "           0       0.90      1.00      0.94      3046\n",
      "           1       0.87      0.07      0.13       378\n",
      "\n",
      "    accuracy                           0.90      3424\n",
      "   macro avg       0.88      0.54      0.54      3424\n",
      "weighted avg       0.89      0.90      0.86      3424\n",
      "\n"
     ]
    },
    {
     "data": {
      "image/png": "[encoded data removed]",
      "text/plain": [
       "<Figure size 432x288 with 2 Axes>"
      ]
     },
     "metadata": {
      "needs_background": "light"
     },
     "output_type": "display_data"
    },
    {
     "name": "stdout",
     "output_type": "stream",
     "text": [
      "Test AUC 0.8772673193946013\n",
      "              precision    recall  f1-score   support\n",
      "\n",
      "           0       0.89      1.00      0.94      1479\n",
      "           1       0.87      0.10      0.17       208\n",
      "\n",
      "    accuracy                           0.89      1687\n",
      "   macro avg       0.88      0.55      0.56      1687\n",
      "weighted avg       0.88      0.89      0.84      1687\n",
      "\n"
     ]
    },
    {
     "data": {
      "image/png": "[encoded data removed]",
      "text/plain": [
       "<Figure size 432x288 with 2 Axes>"
      ]
     },
     "metadata": {
      "needs_background": "light"
     },
     "output_type": "display_data"
    }
   ],
   "source": [
    "x07 = metrics(clf, X_train, X_test, y_train, y_test, thr=0.5)\n",
    "x07"
   ]
  },
  {
   "cell_type": "code",
   "execution_count": 46,
   "metadata": {},
   "outputs": [],
   "source": [
    "os.chdir(r'Modelos')\n",
    "#os.chdir(r'C:\\Users\\metal\\Trabajos Bootcamp\\Proyecto Final\\juanito_v2.0\\Modelos')"
   ]
  },
  {
   "cell_type": "code",
   "execution_count": 47,
   "metadata": {},
   "outputs": [],
   "source": [
    "fh = open('m_reglog_cat.pkl','wb')\n",
    "#fh = open('df_smote30_train_test(redux).pkl','wb')\n",
    "pickle.dump(clf,fh)\n",
    "fh.close()"
   ]
  },
  {
   "cell_type": "markdown",
   "metadata": {},
   "source": [
    "## Ahora entrenamos el modelo con variables creadas a partir del campo DESCRIPCION y solo variable categorica Rubro 1"
   ]
  },
  {
   "cell_type": "code",
   "execution_count": 3,
   "metadata": {},
   "outputs": [
    {
     "data": {
      "text/plain": [
       "(51646, 10055)"
      ]
     },
     "execution_count": 3,
     "metadata": {},
     "output_type": "execute_result"
    }
   ],
   "source": [
    "### ojo que cambió la X ahora tiene solo categorías filtras por CatBoosting\n",
    "X.shape"
   ]
  },
  {
   "cell_type": "code",
   "execution_count": 4,
   "metadata": {},
   "outputs": [
    {
     "data": {
      "text/plain": [
       "(51646,)"
      ]
     },
     "execution_count": 4,
     "metadata": {},
     "output_type": "execute_result"
    }
   ],
   "source": [
    "y.shape"
   ]
  },
  {
   "cell_type": "code",
   "execution_count": 13,
   "metadata": {},
   "outputs": [
    {
     "data": {
      "text/plain": [
       "['C',\n",
       " '__class__',\n",
       " '__delattr__',\n",
       " '__dict__',\n",
       " '__dir__',\n",
       " '__doc__',\n",
       " '__eq__',\n",
       " '__format__',\n",
       " '__ge__',\n",
       " '__getattribute__',\n",
       " '__getstate__',\n",
       " '__gt__',\n",
       " '__hash__',\n",
       " '__init__',\n",
       " '__init_subclass__',\n",
       " '__le__',\n",
       " '__lt__',\n",
       " '__module__',\n",
       " '__ne__',\n",
       " '__new__',\n",
       " '__reduce__',\n",
       " '__reduce_ex__',\n",
       " '__repr__',\n",
       " '__setattr__',\n",
       " '__setstate__',\n",
       " '__sizeof__',\n",
       " '__str__',\n",
       " '__subclasshook__',\n",
       " '__weakref__',\n",
       " '_check_feature_names',\n",
       " '_check_n_features',\n",
       " '_estimator_type',\n",
       " '_get_param_names',\n",
       " '_get_tags',\n",
       " '_more_tags',\n",
       " '_predict_proba_lr',\n",
       " '_repr_html_',\n",
       " '_repr_html_inner',\n",
       " '_repr_mimebundle_',\n",
       " '_validate_data',\n",
       " 'class_weight',\n",
       " 'decision_function',\n",
       " 'densify',\n",
       " 'dual',\n",
       " 'fit',\n",
       " 'fit_intercept',\n",
       " 'get_params',\n",
       " 'intercept_scaling',\n",
       " 'l1_ratio',\n",
       " 'max_iter',\n",
       " 'multi_class',\n",
       " 'n_jobs',\n",
       " 'penalty',\n",
       " 'predict',\n",
       " 'predict_log_proba',\n",
       " 'predict_proba',\n",
       " 'random_state',\n",
       " 'score',\n",
       " 'set_params',\n",
       " 'solver',\n",
       " 'sparsify',\n",
       " 'tol',\n",
       " 'verbose',\n",
       " 'warm_start']"
      ]
     },
     "execution_count": 13,
     "metadata": {},
     "output_type": "execute_result"
    }
   ],
   "source": [
    "logreg = LogisticRegression()\n",
    "dir(logreg)"
   ]
  },
  {
   "cell_type": "code",
   "execution_count": 5,
   "metadata": {},
   "outputs": [
    {
     "data": {
      "text/plain": [
       "{'C': 1.0,\n",
       " 'class_weight': None,\n",
       " 'dual': False,\n",
       " 'fit_intercept': True,\n",
       " 'intercept_scaling': 1,\n",
       " 'l1_ratio': None,\n",
       " 'max_iter': 100,\n",
       " 'multi_class': 'auto',\n",
       " 'n_jobs': None,\n",
       " 'penalty': 'l2',\n",
       " 'random_state': None,\n",
       " 'solver': 'lbfgs',\n",
       " 'tol': 0.0001,\n",
       " 'verbose': 0,\n",
       " 'warm_start': False}"
      ]
     },
     "execution_count": 5,
     "metadata": {},
     "output_type": "execute_result"
    }
   ],
   "source": [
    "logreg.get_params()"
   ]
  },
  {
   "cell_type": "code",
   "execution_count": 25,
   "metadata": {},
   "outputs": [],
   "source": [
    "''' parametros definidos anteriormente   \n",
    "    solver='lbfgs', \n",
    "    penalty='l2',\n",
    "    multi_class='ovr',\n",
    "    max_iter=500,\n",
    "    C= 0.1,\n",
    "    n_jobs=-1,\n",
    "    verbose=1'''\n",
    "\n",
    "params = {\n",
    "    'C': [1.00,0.05], #valores que tomará la Inverse of regularization strength [1.00,0.05,0.01]\n",
    "    #'class_weight': None,\n",
    "    #'dual': False,\n",
    "    #'fit_intercept': True,\n",
    "    #'intercept_scaling': 1,\n",
    "    #'l1_ratio': None,\n",
    "    'max_iter': [500], #Maximum number of iterations taken for the solvers to converge.\n",
    "    'multi_class': ['ovr'], #‘ovr’, then a binary problem is fit for each label\n",
    "    #'n_jobs': None,  # lo definiremos en el gridsearch\n",
    "    'penalty': ['l2']\n",
    "    #'random_state': None, # lo aplicaremos en el gridsearch\n",
    "    #'solver': 'lbfgs',  # usamos el que viene por default, ‘liblinear’ is limited to one-versus-rest schemes\n",
    "    #'tol': 0.0001, #dejamos por defecto el criterio de tolerancia para detener la iteracion\n",
    "    #'verbose': 0 #dejamos valor por defecto\n",
    "    #'warm_start': False\n",
    "    }\n"
   ]
  },
  {
   "cell_type": "code",
   "execution_count": 26,
   "metadata": {},
   "outputs": [],
   "source": [
    "scoring = ['roc_auc']\n",
    "grid_solver = GridSearchCV(estimator = logreg, # model to train\n",
    "                   param_grid = params,\n",
    "                   scoring = scoring,\n",
    "                   cv = 3,  #aplica cross validation utilizando un stratified KFold\n",
    "                   n_jobs=-1,\n",
    "                   refit = 'roc_auc',\n",
    "                   verbose = 2)"
   ]
  },
  {
   "cell_type": "code",
   "execution_count": 8,
   "metadata": {},
   "outputs": [],
   "source": [
    "X_train, X_test, y_train, y_test = train_test_split(\n",
    "    X, y, test_size=0.33, random_state=42)\n",
    "\n",
    "oversampling = SMOTE(sampling_strategy=0.30) # usamos oversampling sintético podemos elegir el nivel de oversampling con  sampling_strategy=0.80\n",
    "X_train_smote, y_train_smote = oversampling.fit_resample(X_train, y_train) #Se obtienen nuevos X e y\n"
   ]
  },
  {
   "cell_type": "code",
   "execution_count": 27,
   "metadata": {},
   "outputs": [
    {
     "name": "stdout",
     "output_type": "stream",
     "text": [
      "Fitting 3 folds for each of 2 candidates, totalling 6 fits\n"
     ]
    }
   ],
   "source": [
    "model_result_logreg = grid_solver.fit(X_train_smote,y_train_smote)"
   ]
  },
  {
   "cell_type": "code",
   "execution_count": 28,
   "metadata": {},
   "outputs": [
    {
     "data": {
      "text/plain": [
       "{'C': 1.0, 'max_iter': 500, 'multi_class': 'ovr', 'penalty': 'l2'}"
      ]
     },
     "execution_count": 28,
     "metadata": {},
     "output_type": "execute_result"
    }
   ],
   "source": [
    "model_result_logreg.best_params_"
   ]
  },
  {
   "cell_type": "code",
   "execution_count": 29,
   "metadata": {},
   "outputs": [
    {
     "data": {
      "text/plain": [
       "{'mean_fit_time': array([144.08115506, 164.2935257 ]),\n",
       " 'std_fit_time': array([31.58270605,  6.53674108]),\n",
       " 'mean_score_time': array([7.5431246 , 8.76940028]),\n",
       " 'std_score_time': array([1.62943634, 1.18339523]),\n",
       " 'param_C': masked_array(data=[1.0, 0.05],\n",
       "              mask=[False, False],\n",
       "        fill_value='?',\n",
       "             dtype=object),\n",
       " 'param_max_iter': masked_array(data=[500, 500],\n",
       "              mask=[False, False],\n",
       "        fill_value='?',\n",
       "             dtype=object),\n",
       " 'param_multi_class': masked_array(data=['ovr', 'ovr'],\n",
       "              mask=[False, False],\n",
       "        fill_value='?',\n",
       "             dtype=object),\n",
       " 'param_penalty': masked_array(data=['l2', 'l2'],\n",
       "              mask=[False, False],\n",
       "        fill_value='?',\n",
       "             dtype=object),\n",
       " 'params': [{'C': 1.0, 'max_iter': 500, 'multi_class': 'ovr', 'penalty': 'l2'},\n",
       "  {'C': 0.05, 'max_iter': 500, 'multi_class': 'ovr', 'penalty': 'l2'}],\n",
       " 'split0_test_roc_auc': array([0.9810059 , 0.96574493]),\n",
       " 'split1_test_roc_auc': array([0.98496751, 0.9655199 ]),\n",
       " 'split2_test_roc_auc': array([0.98570182, 0.968009  ]),\n",
       " 'mean_test_roc_auc': array([0.98389174, 0.96642461]),\n",
       " 'std_test_roc_auc': array([0.0020625 , 0.00112409]),\n",
       " 'rank_test_roc_auc': array([1, 2])}"
      ]
     },
     "execution_count": 29,
     "metadata": {},
     "output_type": "execute_result"
    }
   ],
   "source": [
    "model_result_logreg.cv_results_"
   ]
  },
  {
   "cell_type": "code",
   "execution_count": 32,
   "metadata": {},
   "outputs": [],
   "source": [
    "os.chdir(r'Modelos')\n",
    "#os.chdir(r'C:\\Users\\metal\\Trabajos Bootcamp\\Proyecto Final\\juanito_v2.0\\Modelos')\n",
    "fh = open('m_reglog_PCA','wb')\n",
    "#fh = open('df_smote30_train_test(redux).pkl','wb')\n",
    "pickle.dump(model_result_logreg,fh)\n",
    "fh.close()"
   ]
  },
  {
   "cell_type": "code",
   "execution_count": 33,
   "metadata": {},
   "outputs": [
    {
     "data": {
      "text/html": [
       "<div>\n",
       "<style scoped>\n",
       "    .dataframe tbody tr th:only-of-type {\n",
       "        vertical-align: middle;\n",
       "    }\n",
       "\n",
       "    .dataframe tbody tr th {\n",
       "        vertical-align: top;\n",
       "    }\n",
       "\n",
       "    .dataframe thead th {\n",
       "        text-align: right;\n",
       "    }\n",
       "</style>\n",
       "<table border=\"1\" class=\"dataframe\">\n",
       "  <thead>\n",
       "    <tr style=\"text-align: right;\">\n",
       "      <th></th>\n",
       "      <th>mean_fit_time</th>\n",
       "      <th>std_fit_time</th>\n",
       "      <th>mean_score_time</th>\n",
       "      <th>std_score_time</th>\n",
       "      <th>param_C</th>\n",
       "      <th>param_max_iter</th>\n",
       "      <th>param_multi_class</th>\n",
       "      <th>param_penalty</th>\n",
       "      <th>params</th>\n",
       "      <th>split0_test_roc_auc</th>\n",
       "      <th>split1_test_roc_auc</th>\n",
       "      <th>split2_test_roc_auc</th>\n",
       "      <th>mean_test_roc_auc</th>\n",
       "      <th>std_test_roc_auc</th>\n",
       "      <th>rank_test_roc_auc</th>\n",
       "    </tr>\n",
       "  </thead>\n",
       "  <tbody>\n",
       "    <tr>\n",
       "      <th>0</th>\n",
       "      <td>144.081155</td>\n",
       "      <td>31.582706</td>\n",
       "      <td>7.543125</td>\n",
       "      <td>1.629436</td>\n",
       "      <td>1.0</td>\n",
       "      <td>500</td>\n",
       "      <td>ovr</td>\n",
       "      <td>l2</td>\n",
       "      <td>{'C': 1.0, 'max_iter': 500, 'multi_class': 'ov...</td>\n",
       "      <td>0.981006</td>\n",
       "      <td>0.984968</td>\n",
       "      <td>0.985702</td>\n",
       "      <td>0.983892</td>\n",
       "      <td>0.002062</td>\n",
       "      <td>1</td>\n",
       "    </tr>\n",
       "    <tr>\n",
       "      <th>1</th>\n",
       "      <td>164.293526</td>\n",
       "      <td>6.536741</td>\n",
       "      <td>8.769400</td>\n",
       "      <td>1.183395</td>\n",
       "      <td>0.05</td>\n",
       "      <td>500</td>\n",
       "      <td>ovr</td>\n",
       "      <td>l2</td>\n",
       "      <td>{'C': 0.05, 'max_iter': 500, 'multi_class': 'o...</td>\n",
       "      <td>0.965745</td>\n",
       "      <td>0.965520</td>\n",
       "      <td>0.968009</td>\n",
       "      <td>0.966425</td>\n",
       "      <td>0.001124</td>\n",
       "      <td>2</td>\n",
       "    </tr>\n",
       "  </tbody>\n",
       "</table>\n",
       "</div>"
      ],
      "text/plain": [
       "   mean_fit_time  std_fit_time  mean_score_time  std_score_time param_C  \\\n",
       "0     144.081155     31.582706         7.543125        1.629436     1.0   \n",
       "1     164.293526      6.536741         8.769400        1.183395    0.05   \n",
       "\n",
       "  param_max_iter param_multi_class param_penalty  \\\n",
       "0            500               ovr            l2   \n",
       "1            500               ovr            l2   \n",
       "\n",
       "                                              params  split0_test_roc_auc  \\\n",
       "0  {'C': 1.0, 'max_iter': 500, 'multi_class': 'ov...             0.981006   \n",
       "1  {'C': 0.05, 'max_iter': 500, 'multi_class': 'o...             0.965745   \n",
       "\n",
       "   split1_test_roc_auc  split2_test_roc_auc  mean_test_roc_auc  \\\n",
       "0             0.984968             0.985702           0.983892   \n",
       "1             0.965520             0.968009           0.966425   \n",
       "\n",
       "   std_test_roc_auc  rank_test_roc_auc  \n",
       "0          0.002062                  1  \n",
       "1          0.001124                  2  "
      ]
     },
     "execution_count": 33,
     "metadata": {},
     "output_type": "execute_result"
    }
   ],
   "source": [
    "results_cv=model_result_logreg.cv_results_\n",
    "results=pd.DataFrame(results_cv)\n",
    "results.head()"
   ]
  },
  {
   "cell_type": "code",
   "execution_count": 34,
   "metadata": {},
   "outputs": [
    {
     "data": {
      "text/plain": [
       "<seaborn.axisgrid.FacetGrid at 0x1ae874a1750>"
      ]
     },
     "execution_count": 34,
     "metadata": {},
     "output_type": "execute_result"
    },
    {
     "data": {
      "image/png": "[encoded data removed]",
      "text/plain": [
       "<Figure size 216x216 with 1 Axes>"
      ]
     },
     "metadata": {
      "needs_background": "light"
     },
     "output_type": "display_data"
    }
   ],
   "source": [
    "sns.relplot(x=\"param_C\",\n",
    "            y=\"mean_test_roc_auc\",\n",
    "            #style=\"param_max_features\",\n",
    "            #hue=\"param_min_impurity_decrease\",\n",
    "            kind = \"line\",\n",
    "            palette=[\"r\", \"b\"],\n",
    "            height=3, linewidth=3, data=results)\n"
   ]
  },
  {
   "cell_type": "code",
   "execution_count": 38,
   "metadata": {},
   "outputs": [
    {
     "data": {
      "text/plain": [
       "sklearn.linear_model._logistic.LogisticRegression"
      ]
     },
     "execution_count": 38,
     "metadata": {},
     "output_type": "execute_result"
    }
   ],
   "source": [
    "type(model_result_logreg.best_estimator_)"
   ]
  },
  {
   "cell_type": "code",
   "execution_count": 39,
   "metadata": {},
   "outputs": [
    {
     "data": {
      "image/png": "[encoded data removed]",
      "text/plain": [
       "<Figure size 432x288 with 1 Axes>"
      ]
     },
     "metadata": {
      "needs_background": "light"
     },
     "output_type": "display_data"
    },
    {
     "name": "stdout",
     "output_type": "stream",
     "text": [
      "Train AUC 0.9892381270593935\n",
      "              precision    recall  f1-score   support\n",
      "\n",
      "           0       0.97      0.97      0.97     31010\n",
      "           1       0.91      0.90      0.91      9303\n",
      "\n",
      "    accuracy                           0.96     40313\n",
      "   macro avg       0.94      0.94      0.94     40313\n",
      "weighted avg       0.96      0.96      0.96     40313\n",
      "\n"
     ]
    },
    {
     "data": {
      "image/png": "[encoded data removed]",
      "text/plain": [
       "<Figure size 432x288 with 2 Axes>"
      ]
     },
     "metadata": {
      "needs_background": "light"
     },
     "output_type": "display_data"
    },
    {
     "name": "stdout",
     "output_type": "stream",
     "text": [
      "Test AUC 0.9773810380901445\n",
      "              precision    recall  f1-score   support\n",
      "\n",
      "           0       0.98      0.97      0.97     15260\n",
      "           1       0.76      0.80      0.78      1784\n",
      "\n",
      "    accuracy                           0.95     17044\n",
      "   macro avg       0.87      0.88      0.88     17044\n",
      "weighted avg       0.95      0.95      0.95     17044\n",
      "\n"
     ]
    },
    {
     "data": {
      "image/png": "[encoded data removed]",
      "text/plain": [
       "<Figure size 432x288 with 2 Axes>"
      ]
     },
     "metadata": {
      "needs_background": "light"
     },
     "output_type": "display_data"
    }
   ],
   "source": [
    "metrics(model_result_logreg.best_estimator_, X_train_smote, X_test, y_train_smote, y_test, thr=0.5)"
   ]
  },
  {
   "cell_type": "markdown",
   "metadata": {},
   "source": [
    "### Entrenamiento modelo con variables categoricas filtradas por Catboost y con descomposición del campo descripción en PCA del vector de palabras (bag of words)"
   ]
  },
  {
   "cell_type": "code",
   "execution_count": 3,
   "metadata": {},
   "outputs": [],
   "source": [
    "X.index = X['id_producto']\n",
    "X.drop(columns=['id_producto'], inplace=True)\n"
   ]
  },
  {
   "cell_type": "code",
   "execution_count": 4,
   "metadata": {},
   "outputs": [],
   "source": [
    "X_train, X_test, y_train, y_test = train_test_split(\n",
    "    X, y, test_size=0.33, random_state=42)\n",
    "\n",
    "oversampling = SMOTE(sampling_strategy=0.30) # usamos oversampling sintético podemos elegir el nivel de oversampling con  sampling_strategy=0.80\n",
    "X_train_smote, y_train_smote = oversampling.fit_resample(X_train, y_train) #Se obtienen nuevos X e y\n"
   ]
  },
  {
   "cell_type": "code",
   "execution_count": 10,
   "metadata": {},
   "outputs": [
    {
     "data": {
      "text/plain": [
       "array([[0],\n",
       "       [0],\n",
       "       [0],\n",
       "       ...,\n",
       "       [1],\n",
       "       [1],\n",
       "       [1]], dtype=int64)"
      ]
     },
     "execution_count": 10,
     "metadata": {},
     "output_type": "execute_result"
    }
   ],
   "source": [
    "#X_train_smote = np.array(X_train_smote)\n",
    "#y_train_smote = np.array(y_train_smote)\n",
    "y_train_smote"
   ]
  },
  {
   "cell_type": "code",
   "execution_count": 5,
   "metadata": {},
   "outputs": [],
   "source": [
    "logreg = LogisticRegression(\n",
    "    solver='lbfgs',\n",
    "    C=1.00, #valores que tomará la Inverse of regularization strength [1.00,0.05,0.01]\n",
    "    max_iter=500, #Maximum number of iterations taken for the solvers to converge.\n",
    "    multi_class= 'ovr', #‘ovr’, then a binary problem is fit for each label\n",
    "    penalty='l2',\n",
    "    verbose=1)"
   ]
  },
  {
   "cell_type": "code",
   "execution_count": 8,
   "metadata": {},
   "outputs": [
    {
     "name": "stderr",
     "output_type": "stream",
     "text": [
      "C:\\Users\\metal\\AppData\\Roaming\\Python\\Python310\\site-packages\\sklearn\\utils\\validation.py:993: DataConversionWarning: A column-vector y was passed when a 1d array was expected. Please change the shape of y to (n_samples, ), for example using ravel().\n",
      "  y = column_or_1d(y, warn=True)\n",
      "[Parallel(n_jobs=1)]: Using backend SequentialBackend with 1 concurrent workers.\n",
      "[Parallel(n_jobs=1)]: Done   1 out of   1 | elapsed:   44.5s finished\n"
     ]
    }
   ],
   "source": [
    "model = logreg.fit(X_train_smote,y_train_smote)"
   ]
  },
  {
   "cell_type": "code",
   "execution_count": 9,
   "metadata": {},
   "outputs": [
    {
     "name": "stderr",
     "output_type": "stream",
     "text": [
      "C:\\Users\\metal\\AppData\\Roaming\\Python\\Python310\\site-packages\\sklearn\\base.py:443: UserWarning: X has feature names, but LogisticRegression was fitted without feature names\n",
      "  warnings.warn(\n"
     ]
    },
    {
     "data": {
      "image/png": "[encoded data removed]",
      "text/plain": [
       "<Figure size 432x288 with 1 Axes>"
      ]
     },
     "metadata": {
      "needs_background": "light"
     },
     "output_type": "display_data"
    },
    {
     "name": "stdout",
     "output_type": "stream",
     "text": [
      "Train AUC 0.9942894519935022\n",
      "              precision    recall  f1-score   support\n",
      "\n",
      "           0       0.98      0.98      0.98     32751\n",
      "           1       0.94      0.93      0.93      9825\n",
      "\n",
      "    accuracy                           0.97     42576\n",
      "   macro avg       0.96      0.96      0.96     42576\n",
      "weighted avg       0.97      0.97      0.97     42576\n",
      "\n"
     ]
    },
    {
     "data": {
      "image/png": "[encoded data removed]",
      "text/plain": [
       "<Figure size 432x288 with 2 Axes>"
      ]
     },
     "metadata": {
      "needs_background": "light"
     },
     "output_type": "display_data"
    },
    {
     "name": "stderr",
     "output_type": "stream",
     "text": [
      "C:\\Users\\metal\\AppData\\Roaming\\Python\\Python310\\site-packages\\sklearn\\base.py:443: UserWarning: X has feature names, but LogisticRegression was fitted without feature names\n",
      "  warnings.warn(\n"
     ]
    },
    {
     "name": "stdout",
     "output_type": "stream",
     "text": [
      "Test AUC 0.9870316488255384\n",
      "              precision    recall  f1-score   support\n",
      "\n",
      "           0       0.98      0.98      0.98     16123\n",
      "           1       0.82      0.86      0.84      1978\n",
      "\n",
      "    accuracy                           0.96     18101\n",
      "   macro avg       0.90      0.92      0.91     18101\n",
      "weighted avg       0.96      0.96      0.96     18101\n",
      "\n"
     ]
    },
    {
     "data": {
      "image/png": "[encoded data removed]",
      "text/plain": [
       "<Figure size 432x288 with 2 Axes>"
      ]
     },
     "metadata": {
      "needs_background": "light"
     },
     "output_type": "display_data"
    }
   ],
   "source": [
    "metrics(model, X_train_smote, X_test, y_train_smote, y_test, thr=0.5)"
   ]
  },
  {
   "cell_type": "code",
   "execution_count": null,
   "metadata": {},
   "outputs": [],
   "source": [
    "fh = open('m_reglog_PCA_v2','wb')\n",
    "#fh = open('df_smote30_train_test(redux).pkl','wb')\n",
    "pickle.dump(model,fh)\n",
    "fh.close()"
   ]
  },
  {
   "cell_type": "markdown",
   "metadata": {},
   "source": [
    "## Entrenamos modelo con nueva variable contador de palabras en campo descripción que está en catálogo de productos"
   ]
  },
  {
   "cell_type": "code",
   "execution_count": 5,
   "metadata": {},
   "outputs": [
    {
     "data": {
      "text/html": [
       "<div>\n",
       "<style scoped>\n",
       "    .dataframe tbody tr th:only-of-type {\n",
       "        vertical-align: middle;\n",
       "    }\n",
       "\n",
       "    .dataframe tbody tr th {\n",
       "        vertical-align: top;\n",
       "    }\n",
       "\n",
       "    .dataframe thead th {\n",
       "        text-align: right;\n",
       "    }\n",
       "</style>\n",
       "<table border=\"1\" class=\"dataframe\">\n",
       "  <thead>\n",
       "    <tr style=\"text-align: right;\">\n",
       "      <th></th>\n",
       "      <th>descripcion</th>\n",
       "      <th>label</th>\n",
       "      <th>Descripcion limpia</th>\n",
       "      <th>Descripcion raiz limpia</th>\n",
       "    </tr>\n",
       "    <tr>\n",
       "      <th>id_producto</th>\n",
       "      <th></th>\n",
       "      <th></th>\n",
       "      <th></th>\n",
       "      <th></th>\n",
       "    </tr>\n",
       "  </thead>\n",
       "  <tbody>\n",
       "    <tr>\n",
       "      <th>2792-88-LE21-1</th>\n",
       "      <td>CÁMARA RETINAL NO MIDRIÁTICA - ESPECIFICACIONE...</td>\n",
       "      <td>0</td>\n",
       "      <td>camara retinal midriatica especificaciones bas...</td>\n",
       "      <td>cam retinal midriat especif bas tecnic</td>\n",
       "    </tr>\n",
       "    <tr>\n",
       "      <th>1704-52-LP21-1</th>\n",
       "      <td>SERVICIO DE MUDANZA DE ENSERES PROPIOS Y EN US...</td>\n",
       "      <td>0</td>\n",
       "      <td>servicio mudanza enseres propios hospital mart...</td>\n",
       "      <td>servici mudanz enser propi hospital martin qui...</td>\n",
       "    </tr>\n",
       "    <tr>\n",
       "      <th>1003-20-L121-1</th>\n",
       "      <td>LEÑA SECA CERTIFICADA</td>\n",
       "      <td>0</td>\n",
       "      <td>leña seca certificada</td>\n",
       "      <td>leñ sec certific</td>\n",
       "    </tr>\n",
       "    <tr>\n",
       "      <th>4236-21-L121-1</th>\n",
       "      <td>MARCADOR BLANCO PARA METALES</td>\n",
       "      <td>0</td>\n",
       "      <td>marcador blanco metales</td>\n",
       "      <td>marcador blanc metal</td>\n",
       "    </tr>\n",
       "    <tr>\n",
       "      <th>4236-21-L121-2</th>\n",
       "      <td>PLOMADA</td>\n",
       "      <td>0</td>\n",
       "      <td>plomada</td>\n",
       "      <td>plom</td>\n",
       "    </tr>\n",
       "  </tbody>\n",
       "</table>\n",
       "</div>"
      ],
      "text/plain": [
       "                                                      descripcion  label  \\\n",
       "id_producto                                                                \n",
       "2792-88-LE21-1  CÁMARA RETINAL NO MIDRIÁTICA - ESPECIFICACIONE...      0   \n",
       "1704-52-LP21-1  SERVICIO DE MUDANZA DE ENSERES PROPIOS Y EN US...      0   \n",
       "1003-20-L121-1                              LEÑA SECA CERTIFICADA      0   \n",
       "4236-21-L121-1                       MARCADOR BLANCO PARA METALES      0   \n",
       "4236-21-L121-2                                            PLOMADA      0   \n",
       "\n",
       "                                               Descripcion limpia  \\\n",
       "id_producto                                                         \n",
       "2792-88-LE21-1  camara retinal midriatica especificaciones bas...   \n",
       "1704-52-LP21-1  servicio mudanza enseres propios hospital mart...   \n",
       "1003-20-L121-1                              leña seca certificada   \n",
       "4236-21-L121-1                            marcador blanco metales   \n",
       "4236-21-L121-2                                            plomada   \n",
       "\n",
       "                                          Descripcion raiz limpia  \n",
       "id_producto                                                        \n",
       "2792-88-LE21-1             cam retinal midriat especif bas tecnic  \n",
       "1704-52-LP21-1  servici mudanz enser propi hospital martin qui...  \n",
       "1003-20-L121-1                                   leñ sec certific  \n",
       "4236-21-L121-1                               marcador blanc metal  \n",
       "4236-21-L121-2                                               plom  "
      ]
     },
     "execution_count": 5,
     "metadata": {},
     "output_type": "execute_result"
    }
   ],
   "source": [
    "df.head()"
   ]
  },
  {
   "cell_type": "code",
   "execution_count": 7,
   "metadata": {},
   "outputs": [
    {
     "data": {
      "text/html": [
       "<div>\n",
       "<style scoped>\n",
       "    .dataframe tbody tr th:only-of-type {\n",
       "        vertical-align: middle;\n",
       "    }\n",
       "\n",
       "    .dataframe tbody tr th {\n",
       "        vertical-align: top;\n",
       "    }\n",
       "\n",
       "    .dataframe thead th {\n",
       "        text-align: right;\n",
       "    }\n",
       "</style>\n",
       "<table border=\"1\" class=\"dataframe\">\n",
       "  <thead>\n",
       "    <tr style=\"text-align: right;\">\n",
       "      <th></th>\n",
       "      <th>descripcion</th>\n",
       "      <th>label</th>\n",
       "      <th>Descripcion limpia</th>\n",
       "      <th>Descripcion raiz limpia</th>\n",
       "      <th>num palabras catalogo</th>\n",
       "    </tr>\n",
       "    <tr>\n",
       "      <th>id_producto</th>\n",
       "      <th></th>\n",
       "      <th></th>\n",
       "      <th></th>\n",
       "      <th></th>\n",
       "      <th></th>\n",
       "    </tr>\n",
       "  </thead>\n",
       "  <tbody>\n",
       "    <tr>\n",
       "      <th>2792-88-LE21-1</th>\n",
       "      <td>CÁMARA RETINAL NO MIDRIÁTICA - ESPECIFICACIONE...</td>\n",
       "      <td>0</td>\n",
       "      <td>camara retinal midriatica especificaciones bas...</td>\n",
       "      <td>cam retinal midriat especif bas tecnic</td>\n",
       "      <td>1</td>\n",
       "    </tr>\n",
       "    <tr>\n",
       "      <th>1704-52-LP21-1</th>\n",
       "      <td>SERVICIO DE MUDANZA DE ENSERES PROPIOS Y EN US...</td>\n",
       "      <td>0</td>\n",
       "      <td>servicio mudanza enseres propios hospital mart...</td>\n",
       "      <td>servici mudanz enser propi hospital martin qui...</td>\n",
       "      <td>1</td>\n",
       "    </tr>\n",
       "    <tr>\n",
       "      <th>1003-20-L121-1</th>\n",
       "      <td>LEÑA SECA CERTIFICADA</td>\n",
       "      <td>0</td>\n",
       "      <td>leña seca certificada</td>\n",
       "      <td>leñ sec certific</td>\n",
       "      <td>2</td>\n",
       "    </tr>\n",
       "    <tr>\n",
       "      <th>4236-21-L121-1</th>\n",
       "      <td>MARCADOR BLANCO PARA METALES</td>\n",
       "      <td>0</td>\n",
       "      <td>marcador blanco metales</td>\n",
       "      <td>marcador blanc metal</td>\n",
       "      <td>2</td>\n",
       "    </tr>\n",
       "    <tr>\n",
       "      <th>4236-21-L121-2</th>\n",
       "      <td>PLOMADA</td>\n",
       "      <td>0</td>\n",
       "      <td>plomada</td>\n",
       "      <td>plom</td>\n",
       "      <td>1</td>\n",
       "    </tr>\n",
       "  </tbody>\n",
       "</table>\n",
       "</div>"
      ],
      "text/plain": [
       "                                                      descripcion  label  \\\n",
       "id_producto                                                                \n",
       "2792-88-LE21-1  CÁMARA RETINAL NO MIDRIÁTICA - ESPECIFICACIONE...      0   \n",
       "1704-52-LP21-1  SERVICIO DE MUDANZA DE ENSERES PROPIOS Y EN US...      0   \n",
       "1003-20-L121-1                              LEÑA SECA CERTIFICADA      0   \n",
       "4236-21-L121-1                       MARCADOR BLANCO PARA METALES      0   \n",
       "4236-21-L121-2                                            PLOMADA      0   \n",
       "\n",
       "                                               Descripcion limpia  \\\n",
       "id_producto                                                         \n",
       "2792-88-LE21-1  camara retinal midriatica especificaciones bas...   \n",
       "1704-52-LP21-1  servicio mudanza enseres propios hospital mart...   \n",
       "1003-20-L121-1                              leña seca certificada   \n",
       "4236-21-L121-1                            marcador blanco metales   \n",
       "4236-21-L121-2                                            plomada   \n",
       "\n",
       "                                          Descripcion raiz limpia  \\\n",
       "id_producto                                                         \n",
       "2792-88-LE21-1             cam retinal midriat especif bas tecnic   \n",
       "1704-52-LP21-1  servici mudanz enser propi hospital martin qui...   \n",
       "1003-20-L121-1                                   leñ sec certific   \n",
       "4236-21-L121-1                               marcador blanc metal   \n",
       "4236-21-L121-2                                               plom   \n",
       "\n",
       "                num palabras catalogo  \n",
       "id_producto                            \n",
       "2792-88-LE21-1                      1  \n",
       "1704-52-LP21-1                      1  \n",
       "1003-20-L121-1                      2  \n",
       "4236-21-L121-1                      2  \n",
       "4236-21-L121-2                      1  "
      ]
     },
     "execution_count": 7,
     "metadata": {},
     "output_type": "execute_result"
    }
   ],
   "source": [
    "df['num palabras catalogo']= df['Descripcion raiz limpia'].apply(lambda texto: count_palabras(texto))\n",
    "df.head()"
   ]
  },
  {
   "cell_type": "code",
   "execution_count": 8,
   "metadata": {},
   "outputs": [
    {
     "name": "stdout",
     "output_type": "stream",
     "text": [
      "(54484, 10113)\n",
      "(54484, 10114)\n"
     ]
    },
    {
     "data": {
      "text/html": [
       "<div>\n",
       "<style scoped>\n",
       "    .dataframe tbody tr th:only-of-type {\n",
       "        vertical-align: middle;\n",
       "    }\n",
       "\n",
       "    .dataframe tbody tr th {\n",
       "        vertical-align: top;\n",
       "    }\n",
       "\n",
       "    .dataframe thead th {\n",
       "        text-align: right;\n",
       "    }\n",
       "</style>\n",
       "<table border=\"1\" class=\"dataframe\">\n",
       "  <thead>\n",
       "    <tr style=\"text-align: right;\">\n",
       "      <th></th>\n",
       "      <th>Rubro1_Equipos y suministros de defensa, orden público, protección y seguridad</th>\n",
       "      <th>Rubro2_Materiales estructurales básicos</th>\n",
       "      <th>Rubro1_Artículos de fabricación y producción</th>\n",
       "      <th>Rubro3_Filtros</th>\n",
       "      <th>Rubro1_Ropa, maletas y productos de aseo personal</th>\n",
       "      <th>Rubro2_Vestuario clínico</th>\n",
       "      <th>Rubro1_Maquinaria para fabricación y transformación industrial</th>\n",
       "      <th>Rubro3_Maquinaria para soldadura directa o indirecta</th>\n",
       "      <th>Rubro2_Herramientas manuales</th>\n",
       "      <th>Rubro2_Cintas adhesivas y selladores</th>\n",
       "      <th>...</th>\n",
       "      <th>PC9991</th>\n",
       "      <th>PC9992</th>\n",
       "      <th>PC9993</th>\n",
       "      <th>PC9994</th>\n",
       "      <th>PC9995</th>\n",
       "      <th>PC9996</th>\n",
       "      <th>PC9997</th>\n",
       "      <th>PC9998</th>\n",
       "      <th>PC9999</th>\n",
       "      <th>num palabras catalogo</th>\n",
       "    </tr>\n",
       "    <tr>\n",
       "      <th>id_producto</th>\n",
       "      <th></th>\n",
       "      <th></th>\n",
       "      <th></th>\n",
       "      <th></th>\n",
       "      <th></th>\n",
       "      <th></th>\n",
       "      <th></th>\n",
       "      <th></th>\n",
       "      <th></th>\n",
       "      <th></th>\n",
       "      <th></th>\n",
       "      <th></th>\n",
       "      <th></th>\n",
       "      <th></th>\n",
       "      <th></th>\n",
       "      <th></th>\n",
       "      <th></th>\n",
       "      <th></th>\n",
       "      <th></th>\n",
       "      <th></th>\n",
       "      <th></th>\n",
       "    </tr>\n",
       "  </thead>\n",
       "  <tbody>\n",
       "    <tr>\n",
       "      <th>2792-88-LE21-1</th>\n",
       "      <td>0</td>\n",
       "      <td>0</td>\n",
       "      <td>0</td>\n",
       "      <td>0</td>\n",
       "      <td>0</td>\n",
       "      <td>0</td>\n",
       "      <td>0</td>\n",
       "      <td>0</td>\n",
       "      <td>0</td>\n",
       "      <td>0</td>\n",
       "      <td>...</td>\n",
       "      <td>-0.005960</td>\n",
       "      <td>-0.000004</td>\n",
       "      <td>0.002084</td>\n",
       "      <td>-0.002368</td>\n",
       "      <td>-0.003831</td>\n",
       "      <td>0.002406</td>\n",
       "      <td>0.002055</td>\n",
       "      <td>-0.004249</td>\n",
       "      <td>-0.004732</td>\n",
       "      <td>1</td>\n",
       "    </tr>\n",
       "    <tr>\n",
       "      <th>1704-52-LP21-1</th>\n",
       "      <td>0</td>\n",
       "      <td>0</td>\n",
       "      <td>0</td>\n",
       "      <td>0</td>\n",
       "      <td>0</td>\n",
       "      <td>0</td>\n",
       "      <td>0</td>\n",
       "      <td>0</td>\n",
       "      <td>0</td>\n",
       "      <td>0</td>\n",
       "      <td>...</td>\n",
       "      <td>0.004874</td>\n",
       "      <td>0.002983</td>\n",
       "      <td>0.001966</td>\n",
       "      <td>0.001088</td>\n",
       "      <td>-0.002159</td>\n",
       "      <td>0.000009</td>\n",
       "      <td>-0.001705</td>\n",
       "      <td>0.003828</td>\n",
       "      <td>0.000403</td>\n",
       "      <td>1</td>\n",
       "    </tr>\n",
       "    <tr>\n",
       "      <th>1003-20-L121-1</th>\n",
       "      <td>0</td>\n",
       "      <td>0</td>\n",
       "      <td>0</td>\n",
       "      <td>0</td>\n",
       "      <td>0</td>\n",
       "      <td>0</td>\n",
       "      <td>0</td>\n",
       "      <td>0</td>\n",
       "      <td>0</td>\n",
       "      <td>0</td>\n",
       "      <td>...</td>\n",
       "      <td>0.000270</td>\n",
       "      <td>-0.000937</td>\n",
       "      <td>-0.000178</td>\n",
       "      <td>-0.001585</td>\n",
       "      <td>-0.002441</td>\n",
       "      <td>0.001634</td>\n",
       "      <td>-0.003052</td>\n",
       "      <td>-0.000228</td>\n",
       "      <td>0.000565</td>\n",
       "      <td>2</td>\n",
       "    </tr>\n",
       "    <tr>\n",
       "      <th>4236-21-L121-1</th>\n",
       "      <td>0</td>\n",
       "      <td>0</td>\n",
       "      <td>0</td>\n",
       "      <td>0</td>\n",
       "      <td>0</td>\n",
       "      <td>0</td>\n",
       "      <td>0</td>\n",
       "      <td>0</td>\n",
       "      <td>0</td>\n",
       "      <td>0</td>\n",
       "      <td>...</td>\n",
       "      <td>0.001026</td>\n",
       "      <td>0.000218</td>\n",
       "      <td>-0.000694</td>\n",
       "      <td>-0.000705</td>\n",
       "      <td>0.000407</td>\n",
       "      <td>-0.000309</td>\n",
       "      <td>0.000486</td>\n",
       "      <td>-0.000813</td>\n",
       "      <td>0.000418</td>\n",
       "      <td>2</td>\n",
       "    </tr>\n",
       "    <tr>\n",
       "      <th>4236-21-L121-2</th>\n",
       "      <td>0</td>\n",
       "      <td>0</td>\n",
       "      <td>0</td>\n",
       "      <td>0</td>\n",
       "      <td>0</td>\n",
       "      <td>0</td>\n",
       "      <td>0</td>\n",
       "      <td>0</td>\n",
       "      <td>1</td>\n",
       "      <td>0</td>\n",
       "      <td>...</td>\n",
       "      <td>0.001141</td>\n",
       "      <td>0.001002</td>\n",
       "      <td>0.000199</td>\n",
       "      <td>-0.000006</td>\n",
       "      <td>-0.000991</td>\n",
       "      <td>0.000081</td>\n",
       "      <td>-0.000758</td>\n",
       "      <td>-0.000220</td>\n",
       "      <td>-0.001355</td>\n",
       "      <td>1</td>\n",
       "    </tr>\n",
       "  </tbody>\n",
       "</table>\n",
       "<p>5 rows × 10114 columns</p>\n",
       "</div>"
      ],
      "text/plain": [
       "                Rubro1_Equipos y suministros de defensa, orden público, protección y seguridad  \\\n",
       "id_producto                                                                                      \n",
       "2792-88-LE21-1                                                  0                                \n",
       "1704-52-LP21-1                                                  0                                \n",
       "1003-20-L121-1                                                  0                                \n",
       "4236-21-L121-1                                                  0                                \n",
       "4236-21-L121-2                                                  0                                \n",
       "\n",
       "                Rubro2_Materiales estructurales básicos  \\\n",
       "id_producto                                               \n",
       "2792-88-LE21-1                                        0   \n",
       "1704-52-LP21-1                                        0   \n",
       "1003-20-L121-1                                        0   \n",
       "4236-21-L121-1                                        0   \n",
       "4236-21-L121-2                                        0   \n",
       "\n",
       "                Rubro1_Artículos de fabricación y producción  Rubro3_Filtros  \\\n",
       "id_producto                                                                    \n",
       "2792-88-LE21-1                                             0               0   \n",
       "1704-52-LP21-1                                             0               0   \n",
       "1003-20-L121-1                                             0               0   \n",
       "4236-21-L121-1                                             0               0   \n",
       "4236-21-L121-2                                             0               0   \n",
       "\n",
       "                Rubro1_Ropa, maletas y productos de aseo personal  \\\n",
       "id_producto                                                         \n",
       "2792-88-LE21-1                                                  0   \n",
       "1704-52-LP21-1                                                  0   \n",
       "1003-20-L121-1                                                  0   \n",
       "4236-21-L121-1                                                  0   \n",
       "4236-21-L121-2                                                  0   \n",
       "\n",
       "                Rubro2_Vestuario clínico  \\\n",
       "id_producto                                \n",
       "2792-88-LE21-1                         0   \n",
       "1704-52-LP21-1                         0   \n",
       "1003-20-L121-1                         0   \n",
       "4236-21-L121-1                         0   \n",
       "4236-21-L121-2                         0   \n",
       "\n",
       "                Rubro1_Maquinaria para fabricación y transformación industrial  \\\n",
       "id_producto                                                                      \n",
       "2792-88-LE21-1                                                  0                \n",
       "1704-52-LP21-1                                                  0                \n",
       "1003-20-L121-1                                                  0                \n",
       "4236-21-L121-1                                                  0                \n",
       "4236-21-L121-2                                                  0                \n",
       "\n",
       "                Rubro3_Maquinaria para soldadura directa o indirecta  \\\n",
       "id_producto                                                            \n",
       "2792-88-LE21-1                                                  0      \n",
       "1704-52-LP21-1                                                  0      \n",
       "1003-20-L121-1                                                  0      \n",
       "4236-21-L121-1                                                  0      \n",
       "4236-21-L121-2                                                  0      \n",
       "\n",
       "                Rubro2_Herramientas manuales  \\\n",
       "id_producto                                    \n",
       "2792-88-LE21-1                             0   \n",
       "1704-52-LP21-1                             0   \n",
       "1003-20-L121-1                             0   \n",
       "4236-21-L121-1                             0   \n",
       "4236-21-L121-2                             1   \n",
       "\n",
       "                Rubro2_Cintas adhesivas y selladores  ...    PC9991    PC9992  \\\n",
       "id_producto                                           ...                       \n",
       "2792-88-LE21-1                                     0  ... -0.005960 -0.000004   \n",
       "1704-52-LP21-1                                     0  ...  0.004874  0.002983   \n",
       "1003-20-L121-1                                     0  ...  0.000270 -0.000937   \n",
       "4236-21-L121-1                                     0  ...  0.001026  0.000218   \n",
       "4236-21-L121-2                                     0  ...  0.001141  0.001002   \n",
       "\n",
       "                  PC9993    PC9994    PC9995    PC9996    PC9997    PC9998  \\\n",
       "id_producto                                                                  \n",
       "2792-88-LE21-1  0.002084 -0.002368 -0.003831  0.002406  0.002055 -0.004249   \n",
       "1704-52-LP21-1  0.001966  0.001088 -0.002159  0.000009 -0.001705  0.003828   \n",
       "1003-20-L121-1 -0.000178 -0.001585 -0.002441  0.001634 -0.003052 -0.000228   \n",
       "4236-21-L121-1 -0.000694 -0.000705  0.000407 -0.000309  0.000486 -0.000813   \n",
       "4236-21-L121-2  0.000199 -0.000006 -0.000991  0.000081 -0.000758 -0.000220   \n",
       "\n",
       "                  PC9999  num palabras catalogo  \n",
       "id_producto                                      \n",
       "2792-88-LE21-1 -0.004732                      1  \n",
       "1704-52-LP21-1  0.000403                      1  \n",
       "1003-20-L121-1  0.000565                      2  \n",
       "4236-21-L121-1  0.000418                      2  \n",
       "4236-21-L121-2 -0.001355                      1  \n",
       "\n",
       "[5 rows x 10114 columns]"
      ]
     },
     "execution_count": 8,
     "metadata": {},
     "output_type": "execute_result"
    }
   ],
   "source": [
    "print(X.shape)\n",
    "X = pd.concat([X,df['num palabras catalogo']], axis=1)\n",
    "print(X.shape)\n",
    "X.head()"
   ]
  },
  {
   "cell_type": "code",
   "execution_count": 9,
   "metadata": {},
   "outputs": [],
   "source": [
    "X_train, X_test, y_train, y_test = train_test_split(\n",
    "    X, y, test_size=0.33, random_state=42)\n",
    "\n",
    "oversampling = SMOTE(sampling_strategy=0.30) # usamos oversampling sintético podemos elegir el nivel de oversampling con  sampling_strategy=0.80\n",
    "X_train_smote, y_train_smote = oversampling.fit_resample(X_train, y_train) #Se obtienen nuevos X e y\n"
   ]
  },
  {
   "cell_type": "code",
   "execution_count": 25,
   "metadata": {},
   "outputs": [],
   "source": [
    "logreg = LogisticRegression(\n",
    "    solver='lbfgs',\n",
    "    C=1.00, #valores que tomará la Inverse of regularization strength [1.00,0.05,0.01]\n",
    "    max_iter=500, #Maximum number of iterations taken for the solvers to converge.\n",
    "    multi_class= 'ovr', #‘ovr’, then a binary problem is fit for each label\n",
    "    penalty='l2',\n",
    "    verbose=1)"
   ]
  },
  {
   "cell_type": "code",
   "execution_count": 26,
   "metadata": {},
   "outputs": [
    {
     "name": "stderr",
     "output_type": "stream",
     "text": [
      "C:\\Users\\metal\\AppData\\Roaming\\Python\\Python310\\site-packages\\sklearn\\utils\\validation.py:993: DataConversionWarning: A column-vector y was passed when a 1d array was expected. Please change the shape of y to (n_samples, ), for example using ravel().\n",
      "  y = column_or_1d(y, warn=True)\n",
      "[Parallel(n_jobs=1)]: Using backend SequentialBackend with 1 concurrent workers.\n",
      "[Parallel(n_jobs=1)]: Done   1 out of   1 | elapsed:  2.0min finished\n"
     ]
    }
   ],
   "source": [
    "logreg_model = logreg.fit(X_train_smote,y_train_smote)"
   ]
  },
  {
   "cell_type": "code",
   "execution_count": 27,
   "metadata": {},
   "outputs": [
    {
     "data": {
      "image/png": "[encoded data removed]",
      "text/plain": [
       "<Figure size 432x288 with 1 Axes>"
      ]
     },
     "metadata": {
      "needs_background": "light"
     },
     "output_type": "display_data"
    },
    {
     "name": "stdout",
     "output_type": "stream",
     "text": [
      "Train AUC 0.9942019684622725\n",
      "              precision    recall  f1-score   support\n",
      "\n",
      "           0       0.98      0.98      0.98     32518\n",
      "           1       0.93      0.93      0.93      9755\n",
      "\n",
      "    accuracy                           0.97     42273\n",
      "   macro avg       0.96      0.95      0.95     42273\n",
      "weighted avg       0.97      0.97      0.97     42273\n",
      "\n"
     ]
    },
    {
     "data": {
      "image/png": "[encoded data removed]",
      "text/plain": [
       "<Figure size 432x288 with 2 Axes>"
      ]
     },
     "metadata": {
      "needs_background": "light"
     },
     "output_type": "display_data"
    },
    {
     "name": "stdout",
     "output_type": "stream",
     "text": [
      "Test AUC 0.9855478183985057\n",
      "              precision    recall  f1-score   support\n",
      "\n",
      "           0       0.98      0.98      0.98     16016\n",
      "           1       0.81      0.86      0.83      1964\n",
      "\n",
      "    accuracy                           0.96     17980\n",
      "   macro avg       0.90      0.92      0.91     17980\n",
      "weighted avg       0.96      0.96      0.96     17980\n",
      "\n"
     ]
    },
    {
     "data": {
      "image/png": "[encoded data removed]",
      "text/plain": [
       "<Figure size 432x288 with 2 Axes>"
      ]
     },
     "metadata": {
      "needs_background": "light"
     },
     "output_type": "display_data"
    }
   ],
   "source": [
    "metrics(logreg_model, X_train_smote, X_test, y_train_smote, y_test, thr=0.5)"
   ]
  },
  {
   "cell_type": "code",
   "execution_count": 36,
   "metadata": {},
   "outputs": [
    {
     "data": {
      "text/plain": [
       "array([[ 6.71404229,  3.32508127,  3.69123901, ..., -0.02425822,\n",
       "         0.25532188,  0.09819848]])"
      ]
     },
     "execution_count": 36,
     "metadata": {},
     "output_type": "execute_result"
    }
   ],
   "source": [
    "logreg_model.coef_"
   ]
  },
  {
   "cell_type": "code",
   "execution_count": 35,
   "metadata": {},
   "outputs": [
    {
     "data": {
      "text/plain": [
       "NoneType"
      ]
     },
     "execution_count": 35,
     "metadata": {},
     "output_type": "execute_result"
    }
   ],
   "source": [
    "pesos = logreg_model.class_weight\n",
    "type(pesos)"
   ]
  },
  {
   "cell_type": "markdown",
   "metadata": {},
   "source": [
    "## Analizamos los errores"
   ]
  },
  {
   "cell_type": "code",
   "execution_count": 2,
   "metadata": {},
   "outputs": [
    {
     "name": "stderr",
     "output_type": "stream",
     "text": [
      "c:\\Users\\diana\\anaconda3\\lib\\site-packages\\sklearn\\base.py:310: UserWarning: Trying to unpickle estimator LogisticRegression from version 1.0.2 when using version 0.24.2. This might lead to breaking code or invalid results. Use at your own risk.\n",
      "  warnings.warn(\n"
     ]
    }
   ],
   "source": [
    "os.chdir('Modelos')\n",
    "fh2=open('m_reglog_PCA_v2.pkl','rb')\n",
    "model=pickle.load(fh2)\n",
    "fh2.close()\n"
   ]
  },
  {
   "cell_type": "code",
   "execution_count": 3,
   "metadata": {},
   "outputs": [],
   "source": [
    "X_train, X_test, y_train, y_test = train_test_split(\n",
    "    X, y, test_size=0.33, random_state=42)\n",
    "\n",
    "oversampling = SMOTE(sampling_strategy=0.30) # usamos oversampling sintético podemos elegir el nivel de oversampling con  sampling_strategy=0.80\n",
    "X_train_smote, y_train_smote = oversampling.fit_resample(X_train, y_train) #Se obtienen nuevos X e y"
   ]
  },
  {
   "cell_type": "code",
   "execution_count": 5,
   "metadata": {},
   "outputs": [
    {
     "data": {
      "text/html": [
       "<div>\n",
       "<style scoped>\n",
       "    .dataframe tbody tr th:only-of-type {\n",
       "        vertical-align: middle;\n",
       "    }\n",
       "\n",
       "    .dataframe tbody tr th {\n",
       "        vertical-align: top;\n",
       "    }\n",
       "\n",
       "    .dataframe thead th {\n",
       "        text-align: right;\n",
       "    }\n",
       "</style>\n",
       "<table border=\"1\" class=\"dataframe\">\n",
       "  <thead>\n",
       "    <tr style=\"text-align: right;\">\n",
       "      <th></th>\n",
       "      <th>y_pred</th>\n",
       "    </tr>\n",
       "    <tr>\n",
       "      <th>id_producto</th>\n",
       "      <th></th>\n",
       "    </tr>\n",
       "  </thead>\n",
       "  <tbody>\n",
       "    <tr>\n",
       "      <th>3568-84-L121-1</th>\n",
       "      <td>0</td>\n",
       "    </tr>\n",
       "    <tr>\n",
       "      <th>1058012-53-LR21-2</th>\n",
       "      <td>0</td>\n",
       "    </tr>\n",
       "    <tr>\n",
       "      <th>3540-118-LE21-4</th>\n",
       "      <td>0</td>\n",
       "    </tr>\n",
       "    <tr>\n",
       "      <th>3017-186-L121-4</th>\n",
       "      <td>0</td>\n",
       "    </tr>\n",
       "    <tr>\n",
       "      <th>3349-54-L121-1</th>\n",
       "      <td>0</td>\n",
       "    </tr>\n",
       "    <tr>\n",
       "      <th>...</th>\n",
       "      <td>...</td>\n",
       "    </tr>\n",
       "    <tr>\n",
       "      <th>1078779-19-L121-10</th>\n",
       "      <td>0</td>\n",
       "    </tr>\n",
       "    <tr>\n",
       "      <th>1057432-68-L121-1</th>\n",
       "      <td>0</td>\n",
       "    </tr>\n",
       "    <tr>\n",
       "      <th>855-17-LP21-3</th>\n",
       "      <td>0</td>\n",
       "    </tr>\n",
       "    <tr>\n",
       "      <th>2111-278-LE21-2</th>\n",
       "      <td>0</td>\n",
       "    </tr>\n",
       "    <tr>\n",
       "      <th>4469-75-L121-24</th>\n",
       "      <td>0</td>\n",
       "    </tr>\n",
       "  </tbody>\n",
       "</table>\n",
       "<p>17980 rows × 1 columns</p>\n",
       "</div>"
      ],
      "text/plain": [
       "                    y_pred\n",
       "id_producto               \n",
       "3568-84-L121-1           0\n",
       "1058012-53-LR21-2        0\n",
       "3540-118-LE21-4          0\n",
       "3017-186-L121-4          0\n",
       "3349-54-L121-1           0\n",
       "...                    ...\n",
       "1078779-19-L121-10       0\n",
       "1057432-68-L121-1        0\n",
       "855-17-LP21-3            0\n",
       "2111-278-LE21-2          0\n",
       "4469-75-L121-24          0\n",
       "\n",
       "[17980 rows x 1 columns]"
      ]
     },
     "execution_count": 5,
     "metadata": {},
     "output_type": "execute_result"
    }
   ],
   "source": [
    "y_pred= pd.DataFrame(model.predict(X_test))\n",
    "y_pred.rename(columns={0:'y_pred'},inplace=True)\n",
    "y_pred.index = y_test.index\n",
    "y_pred"
   ]
  },
  {
   "cell_type": "code",
   "execution_count": 6,
   "metadata": {},
   "outputs": [],
   "source": [
    "dferror=pd.merge(df, y_test, left_index=True, right_index=True)"
   ]
  },
  {
   "cell_type": "code",
   "execution_count": 7,
   "metadata": {},
   "outputs": [
    {
     "data": {
      "text/html": [
       "<div>\n",
       "<style scoped>\n",
       "    .dataframe tbody tr th:only-of-type {\n",
       "        vertical-align: middle;\n",
       "    }\n",
       "\n",
       "    .dataframe tbody tr th {\n",
       "        vertical-align: top;\n",
       "    }\n",
       "\n",
       "    .dataframe thead th {\n",
       "        text-align: right;\n",
       "    }\n",
       "</style>\n",
       "<table border=\"1\" class=\"dataframe\">\n",
       "  <thead>\n",
       "    <tr style=\"text-align: right;\">\n",
       "      <th></th>\n",
       "      <th>label_x</th>\n",
       "      <th>Descripcion raiz limpia</th>\n",
       "      <th>label_y</th>\n",
       "      <th>y_pred</th>\n",
       "    </tr>\n",
       "    <tr>\n",
       "      <th>id_producto</th>\n",
       "      <th></th>\n",
       "      <th></th>\n",
       "      <th></th>\n",
       "      <th></th>\n",
       "    </tr>\n",
       "  </thead>\n",
       "  <tbody>\n",
       "    <tr>\n",
       "      <th>1704-52-LP21-1</th>\n",
       "      <td>0</td>\n",
       "      <td>servici mudanz enser propi hospital martin qui...</td>\n",
       "      <td>0</td>\n",
       "      <td>0</td>\n",
       "    </tr>\n",
       "    <tr>\n",
       "      <th>4236-21-L121-2</th>\n",
       "      <td>0</td>\n",
       "      <td>plom</td>\n",
       "      <td>0</td>\n",
       "      <td>0</td>\n",
       "    </tr>\n",
       "    <tr>\n",
       "      <th>4236-21-L121-4</th>\n",
       "      <td>0</td>\n",
       "      <td>escobillon ase municipal</td>\n",
       "      <td>0</td>\n",
       "      <td>0</td>\n",
       "    </tr>\n",
       "    <tr>\n",
       "      <th>4236-21-L121-9</th>\n",
       "      <td>0</td>\n",
       "      <td>caj lapiz carpinter</td>\n",
       "      <td>0</td>\n",
       "      <td>0</td>\n",
       "    </tr>\n",
       "    <tr>\n",
       "      <th>3021-77-L121-22</th>\n",
       "      <td>0</td>\n",
       "      <td>carpet plastific accoclip archiv ofici</td>\n",
       "      <td>0</td>\n",
       "      <td>0</td>\n",
       "    </tr>\n",
       "    <tr>\n",
       "      <th>...</th>\n",
       "      <td>...</td>\n",
       "      <td>...</td>\n",
       "      <td>...</td>\n",
       "      <td>...</td>\n",
       "    </tr>\n",
       "    <tr>\n",
       "      <th>3383-11-LE21-27</th>\n",
       "      <td>0</td>\n",
       "      <td>suer fisiolog clorur sodi matraz</td>\n",
       "      <td>0</td>\n",
       "      <td>0</td>\n",
       "    </tr>\n",
       "    <tr>\n",
       "      <th>1058090-26-LQ21-3</th>\n",
       "      <td>0</td>\n",
       "      <td>clindamicin</td>\n",
       "      <td>0</td>\n",
       "      <td>0</td>\n",
       "    </tr>\n",
       "    <tr>\n",
       "      <th>1058090-26-LQ21-5</th>\n",
       "      <td>0</td>\n",
       "      <td>dexmedetomidin</td>\n",
       "      <td>0</td>\n",
       "      <td>0</td>\n",
       "    </tr>\n",
       "    <tr>\n",
       "      <th>1336-30-LE21-2</th>\n",
       "      <td>0</td>\n",
       "      <td>piez coig metr</td>\n",
       "      <td>0</td>\n",
       "      <td>0</td>\n",
       "    </tr>\n",
       "    <tr>\n",
       "      <th>1058141-35-LQ21-1</th>\n",
       "      <td>0</td>\n",
       "      <td>alteplas caj</td>\n",
       "      <td>0</td>\n",
       "      <td>0</td>\n",
       "    </tr>\n",
       "  </tbody>\n",
       "</table>\n",
       "<p>17980 rows × 4 columns</p>\n",
       "</div>"
      ],
      "text/plain": [
       "                   label_x                            Descripcion raiz limpia  \\\n",
       "id_producto                                                                     \n",
       "1704-52-LP21-1           0  servici mudanz enser propi hospital martin qui...   \n",
       "4236-21-L121-2           0                                               plom   \n",
       "4236-21-L121-4           0                           escobillon ase municipal   \n",
       "4236-21-L121-9           0                                caj lapiz carpinter   \n",
       "3021-77-L121-22          0             carpet plastific accoclip archiv ofici   \n",
       "...                    ...                                                ...   \n",
       "3383-11-LE21-27          0                   suer fisiolog clorur sodi matraz   \n",
       "1058090-26-LQ21-3        0                                        clindamicin   \n",
       "1058090-26-LQ21-5        0                                     dexmedetomidin   \n",
       "1336-30-LE21-2           0                                     piez coig metr   \n",
       "1058141-35-LQ21-1        0                                       alteplas caj   \n",
       "\n",
       "                   label_y  y_pred  \n",
       "id_producto                         \n",
       "1704-52-LP21-1           0       0  \n",
       "4236-21-L121-2           0       0  \n",
       "4236-21-L121-4           0       0  \n",
       "4236-21-L121-9           0       0  \n",
       "3021-77-L121-22          0       0  \n",
       "...                    ...     ...  \n",
       "3383-11-LE21-27          0       0  \n",
       "1058090-26-LQ21-3        0       0  \n",
       "1058090-26-LQ21-5        0       0  \n",
       "1336-30-LE21-2           0       0  \n",
       "1058141-35-LQ21-1        0       0  \n",
       "\n",
       "[17980 rows x 4 columns]"
      ]
     },
     "execution_count": 7,
     "metadata": {},
     "output_type": "execute_result"
    }
   ],
   "source": [
    "dferror=pd.merge(dferror, y_pred, left_index=True, right_index=True)\n",
    "dferror"
   ]
  },
  {
   "cell_type": "code",
   "execution_count": 8,
   "metadata": {},
   "outputs": [],
   "source": [
    "dferror.drop(['label_x'], axis=1, inplace=True)"
   ]
  },
  {
   "cell_type": "code",
   "execution_count": 9,
   "metadata": {},
   "outputs": [
    {
     "data": {
      "text/html": [
       "<div>\n",
       "<style scoped>\n",
       "    .dataframe tbody tr th:only-of-type {\n",
       "        vertical-align: middle;\n",
       "    }\n",
       "\n",
       "    .dataframe tbody tr th {\n",
       "        vertical-align: top;\n",
       "    }\n",
       "\n",
       "    .dataframe thead th {\n",
       "        text-align: right;\n",
       "    }\n",
       "</style>\n",
       "<table border=\"1\" class=\"dataframe\">\n",
       "  <thead>\n",
       "    <tr style=\"text-align: right;\">\n",
       "      <th></th>\n",
       "      <th>Descripcion raiz limpia</th>\n",
       "      <th>label_y</th>\n",
       "      <th>y_pred</th>\n",
       "    </tr>\n",
       "    <tr>\n",
       "      <th>id_producto</th>\n",
       "      <th></th>\n",
       "      <th></th>\n",
       "      <th></th>\n",
       "    </tr>\n",
       "  </thead>\n",
       "  <tbody>\n",
       "    <tr>\n",
       "      <th>1704-52-LP21-1</th>\n",
       "      <td>servici mudanz enser propi hospital martin qui...</td>\n",
       "      <td>0</td>\n",
       "      <td>0</td>\n",
       "    </tr>\n",
       "    <tr>\n",
       "      <th>4236-21-L121-2</th>\n",
       "      <td>plom</td>\n",
       "      <td>0</td>\n",
       "      <td>0</td>\n",
       "    </tr>\n",
       "    <tr>\n",
       "      <th>4236-21-L121-4</th>\n",
       "      <td>escobillon ase municipal</td>\n",
       "      <td>0</td>\n",
       "      <td>0</td>\n",
       "    </tr>\n",
       "    <tr>\n",
       "      <th>4236-21-L121-9</th>\n",
       "      <td>caj lapiz carpinter</td>\n",
       "      <td>0</td>\n",
       "      <td>0</td>\n",
       "    </tr>\n",
       "    <tr>\n",
       "      <th>3021-77-L121-22</th>\n",
       "      <td>carpet plastific accoclip archiv ofici</td>\n",
       "      <td>0</td>\n",
       "      <td>0</td>\n",
       "    </tr>\n",
       "    <tr>\n",
       "      <th>...</th>\n",
       "      <td>...</td>\n",
       "      <td>...</td>\n",
       "      <td>...</td>\n",
       "    </tr>\n",
       "    <tr>\n",
       "      <th>3383-11-LE21-27</th>\n",
       "      <td>suer fisiolog clorur sodi matraz</td>\n",
       "      <td>0</td>\n",
       "      <td>0</td>\n",
       "    </tr>\n",
       "    <tr>\n",
       "      <th>1058090-26-LQ21-3</th>\n",
       "      <td>clindamicin</td>\n",
       "      <td>0</td>\n",
       "      <td>0</td>\n",
       "    </tr>\n",
       "    <tr>\n",
       "      <th>1058090-26-LQ21-5</th>\n",
       "      <td>dexmedetomidin</td>\n",
       "      <td>0</td>\n",
       "      <td>0</td>\n",
       "    </tr>\n",
       "    <tr>\n",
       "      <th>1336-30-LE21-2</th>\n",
       "      <td>piez coig metr</td>\n",
       "      <td>0</td>\n",
       "      <td>0</td>\n",
       "    </tr>\n",
       "    <tr>\n",
       "      <th>1058141-35-LQ21-1</th>\n",
       "      <td>alteplas caj</td>\n",
       "      <td>0</td>\n",
       "      <td>0</td>\n",
       "    </tr>\n",
       "  </tbody>\n",
       "</table>\n",
       "<p>17980 rows × 3 columns</p>\n",
       "</div>"
      ],
      "text/plain": [
       "                                             Descripcion raiz limpia  label_y  \\\n",
       "id_producto                                                                     \n",
       "1704-52-LP21-1     servici mudanz enser propi hospital martin qui...        0   \n",
       "4236-21-L121-2                                                  plom        0   \n",
       "4236-21-L121-4                              escobillon ase municipal        0   \n",
       "4236-21-L121-9                                   caj lapiz carpinter        0   \n",
       "3021-77-L121-22               carpet plastific accoclip archiv ofici        0   \n",
       "...                                                              ...      ...   \n",
       "3383-11-LE21-27                     suer fisiolog clorur sodi matraz        0   \n",
       "1058090-26-LQ21-3                                        clindamicin        0   \n",
       "1058090-26-LQ21-5                                     dexmedetomidin        0   \n",
       "1336-30-LE21-2                                        piez coig metr        0   \n",
       "1058141-35-LQ21-1                                       alteplas caj        0   \n",
       "\n",
       "                   y_pred  \n",
       "id_producto                \n",
       "1704-52-LP21-1          0  \n",
       "4236-21-L121-2          0  \n",
       "4236-21-L121-4          0  \n",
       "4236-21-L121-9          0  \n",
       "3021-77-L121-22         0  \n",
       "...                   ...  \n",
       "3383-11-LE21-27         0  \n",
       "1058090-26-LQ21-3       0  \n",
       "1058090-26-LQ21-5       0  \n",
       "1336-30-LE21-2          0  \n",
       "1058141-35-LQ21-1       0  \n",
       "\n",
       "[17980 rows x 3 columns]"
      ]
     },
     "execution_count": 9,
     "metadata": {},
     "output_type": "execute_result"
    }
   ],
   "source": [
    "dferror"
   ]
  },
  {
   "cell_type": "code",
   "execution_count": 10,
   "metadata": {},
   "outputs": [],
   "source": [
    "dfe=pd.merge(dferror, data, left_index=True, right_index=True)\n",
    "dfe.drop(['label','id_producto'], axis=1, inplace=True)"
   ]
  },
  {
   "cell_type": "markdown",
   "metadata": {},
   "source": [
    "## Ejemplos de Falsos positivos"
   ]
  },
  {
   "cell_type": "markdown",
   "metadata": {},
   "source": [
    "Está arrojando positivos a productos de una CLASE ESPECÍFICA aún cuando la empresa no cuenta con ellos"
   ]
  },
  {
   "cell_type": "code",
   "execution_count": 34,
   "metadata": {},
   "outputs": [
    {
     "data": {
      "text/html": [
       "<div>\n",
       "<style scoped>\n",
       "    .dataframe tbody tr th:only-of-type {\n",
       "        vertical-align: middle;\n",
       "    }\n",
       "\n",
       "    .dataframe tbody tr th {\n",
       "        vertical-align: top;\n",
       "    }\n",
       "\n",
       "    .dataframe thead th {\n",
       "        text-align: right;\n",
       "    }\n",
       "</style>\n",
       "<table border=\"1\" class=\"dataframe\">\n",
       "  <thead>\n",
       "    <tr style=\"text-align: right;\">\n",
       "      <th></th>\n",
       "      <th>Descripcion raiz limpia</th>\n",
       "      <th>label_y</th>\n",
       "      <th>y_pred</th>\n",
       "      <th>id_licitacion</th>\n",
       "      <th>Rubro1</th>\n",
       "      <th>Rubro2</th>\n",
       "      <th>Rubro3</th>\n",
       "      <th>nombre_producto</th>\n",
       "      <th>descripcion</th>\n",
       "    </tr>\n",
       "    <tr>\n",
       "      <th>id_producto</th>\n",
       "      <th></th>\n",
       "      <th></th>\n",
       "      <th></th>\n",
       "      <th></th>\n",
       "      <th></th>\n",
       "      <th></th>\n",
       "      <th></th>\n",
       "      <th></th>\n",
       "      <th></th>\n",
       "    </tr>\n",
       "  </thead>\n",
       "  <tbody>\n",
       "    <tr>\n",
       "      <th>4236-25-L121-1</th>\n",
       "      <td>pintur acril alto trafic amarill</td>\n",
       "      <td>0</td>\n",
       "      <td>1</td>\n",
       "      <td>4236-25-L121</td>\n",
       "      <td>Artículos de fabricación y producción</td>\n",
       "      <td>Pinturas, diluyentes y accesorios para pintado</td>\n",
       "      <td>Pinturas</td>\n",
       "      <td>Pinturas acrílicas</td>\n",
       "      <td>PINTURA ACRILICA ALTO TRAFICO AMARILLA</td>\n",
       "    </tr>\n",
       "    <tr>\n",
       "      <th>4236-26-L121-1</th>\n",
       "      <td>pintur acril alto trafic amarill</td>\n",
       "      <td>0</td>\n",
       "      <td>1</td>\n",
       "      <td>4236-26-L121</td>\n",
       "      <td>Artículos de fabricación y producción</td>\n",
       "      <td>Pinturas, diluyentes y accesorios para pintado</td>\n",
       "      <td>Pinturas</td>\n",
       "      <td>Pinturas acrílicas</td>\n",
       "      <td>PINTURA ACRILICA ALTO TRAFICO AMARILLA</td>\n",
       "    </tr>\n",
       "    <tr>\n",
       "      <th>1937-24-LE21-1</th>\n",
       "      <td>pintur</td>\n",
       "      <td>0</td>\n",
       "      <td>1</td>\n",
       "      <td>1937-24-LE21</td>\n",
       "      <td>Artículos de fabricación y producción</td>\n",
       "      <td>Pinturas, diluyentes y accesorios para pintado</td>\n",
       "      <td>Pinturas</td>\n",
       "      <td>Pinturas al esmalte</td>\n",
       "      <td>PINTURAS.</td>\n",
       "    </tr>\n",
       "    <tr>\n",
       "      <th>2377-245-L121-1</th>\n",
       "      <td>repuest equip pintur segun list adjunt</td>\n",
       "      <td>0</td>\n",
       "      <td>1</td>\n",
       "      <td>2377-245-L121</td>\n",
       "      <td>Artículos de fabricación y producción</td>\n",
       "      <td>Artículos de ferretería</td>\n",
       "      <td>Accesorios de Ferretería</td>\n",
       "      <td>Kits de montaje</td>\n",
       "      <td>REPUESTOS PARA EQUIPOS DE PINTURA, SEGÚN LISTA...</td>\n",
       "    </tr>\n",
       "  </tbody>\n",
       "</table>\n",
       "</div>"
      ],
      "text/plain": [
       "                                Descripcion raiz limpia  label_y  y_pred  \\\n",
       "id_producto                                                                \n",
       "4236-25-L121-1         pintur acril alto trafic amarill        0       1   \n",
       "4236-26-L121-1         pintur acril alto trafic amarill        0       1   \n",
       "1937-24-LE21-1                                   pintur        0       1   \n",
       "2377-245-L121-1  repuest equip pintur segun list adjunt        0       1   \n",
       "\n",
       "                 id_licitacion                                 Rubro1  \\\n",
       "id_producto                                                             \n",
       "4236-25-L121-1    4236-25-L121  Artículos de fabricación y producción   \n",
       "4236-26-L121-1    4236-26-L121  Artículos de fabricación y producción   \n",
       "1937-24-LE21-1    1937-24-LE21  Artículos de fabricación y producción   \n",
       "2377-245-L121-1  2377-245-L121  Artículos de fabricación y producción   \n",
       "\n",
       "                                                         Rubro2  \\\n",
       "id_producto                                                       \n",
       "4236-25-L121-1   Pinturas, diluyentes y accesorios para pintado   \n",
       "4236-26-L121-1   Pinturas, diluyentes y accesorios para pintado   \n",
       "1937-24-LE21-1   Pinturas, diluyentes y accesorios para pintado   \n",
       "2377-245-L121-1                         Artículos de ferretería   \n",
       "\n",
       "                                   Rubro3      nombre_producto  \\\n",
       "id_producto                                                      \n",
       "4236-25-L121-1                   Pinturas   Pinturas acrílicas   \n",
       "4236-26-L121-1                   Pinturas   Pinturas acrílicas   \n",
       "1937-24-LE21-1                   Pinturas  Pinturas al esmalte   \n",
       "2377-245-L121-1  Accesorios de Ferretería      Kits de montaje   \n",
       "\n",
       "                                                       descripcion  \n",
       "id_producto                                                         \n",
       "4236-25-L121-1              PINTURA ACRILICA ALTO TRAFICO AMARILLA  \n",
       "4236-26-L121-1              PINTURA ACRILICA ALTO TRAFICO AMARILLA  \n",
       "1937-24-LE21-1                                           PINTURAS.  \n",
       "2377-245-L121-1  REPUESTOS PARA EQUIPOS DE PINTURA, SEGÚN LISTA...  "
      ]
     },
     "execution_count": 34,
     "metadata": {},
     "output_type": "execute_result"
    }
   ],
   "source": [
    "#Cuando La licitación es positiva pero la predicción es negativa\n",
    "dfe[(dfe['label_y']==0)&(dfe['y_pred']==1) & (dfe.descripcion.str.contains('PINTUR'))]"
   ]
  },
  {
   "cell_type": "code",
   "execution_count": 56,
   "metadata": {},
   "outputs": [
    {
     "data": {
      "text/html": [
       "<div>\n",
       "<style scoped>\n",
       "    .dataframe tbody tr th:only-of-type {\n",
       "        vertical-align: middle;\n",
       "    }\n",
       "\n",
       "    .dataframe tbody tr th {\n",
       "        vertical-align: top;\n",
       "    }\n",
       "\n",
       "    .dataframe thead th {\n",
       "        text-align: right;\n",
       "    }\n",
       "</style>\n",
       "<table border=\"1\" class=\"dataframe\">\n",
       "  <thead>\n",
       "    <tr style=\"text-align: right;\">\n",
       "      <th></th>\n",
       "      <th>Descripcion raiz limpia</th>\n",
       "      <th>label_y</th>\n",
       "      <th>y_pred</th>\n",
       "      <th>id_licitacion</th>\n",
       "      <th>Rubro1</th>\n",
       "      <th>Rubro2</th>\n",
       "      <th>Rubro3</th>\n",
       "      <th>nombre_producto</th>\n",
       "      <th>descripcion</th>\n",
       "    </tr>\n",
       "    <tr>\n",
       "      <th>id_producto</th>\n",
       "      <th></th>\n",
       "      <th></th>\n",
       "      <th></th>\n",
       "      <th></th>\n",
       "      <th></th>\n",
       "      <th></th>\n",
       "      <th></th>\n",
       "      <th></th>\n",
       "      <th></th>\n",
       "    </tr>\n",
       "  </thead>\n",
       "  <tbody>\n",
       "    <tr>\n",
       "      <th>1013609-24-LE21-7</th>\n",
       "      <td>delantal blanc tall</td>\n",
       "      <td>1</td>\n",
       "      <td>0</td>\n",
       "      <td>1013609-24-LE21</td>\n",
       "      <td>Ropa, maletas y productos de aseo personal</td>\n",
       "      <td>Ropa</td>\n",
       "      <td>Uniformes</td>\n",
       "      <td>Delantal de doctor</td>\n",
       "      <td>delantal blanco talla M</td>\n",
       "    </tr>\n",
       "  </tbody>\n",
       "</table>\n",
       "</div>"
      ],
      "text/plain": [
       "                  Descripcion raiz limpia  label_y  y_pred    id_licitacion  \\\n",
       "id_producto                                                                   \n",
       "1013609-24-LE21-7     delantal blanc tall        1       0  1013609-24-LE21   \n",
       "\n",
       "                                                       Rubro1 Rubro2  \\\n",
       "id_producto                                                            \n",
       "1013609-24-LE21-7  Ropa, maletas y productos de aseo personal   Ropa   \n",
       "\n",
       "                      Rubro3     nombre_producto              descripcion  \n",
       "id_producto                                                                \n",
       "1013609-24-LE21-7  Uniformes  Delantal de doctor  delantal blanco talla M  "
      ]
     },
     "execution_count": 56,
     "metadata": {},
     "output_type": "execute_result"
    }
   ],
   "source": [
    "dfe[(dfe['label_y']==1)&(dfe['y_pred']==0)&(dfe['nombre_producto']=='Delantal de doctor')]"
   ]
  },
  {
   "cell_type": "markdown",
   "metadata": {},
   "source": [
    "Falsos positivos al seleccionar productos SIMILARES\n",
    "a los que se han vendido pero la empresa realmente nunca ha contado con ellos en el stock."
   ]
  },
  {
   "cell_type": "code",
   "execution_count": 48,
   "metadata": {},
   "outputs": [
    {
     "data": {
      "text/html": [
       "<div>\n",
       "<style scoped>\n",
       "    .dataframe tbody tr th:only-of-type {\n",
       "        vertical-align: middle;\n",
       "    }\n",
       "\n",
       "    .dataframe tbody tr th {\n",
       "        vertical-align: top;\n",
       "    }\n",
       "\n",
       "    .dataframe thead th {\n",
       "        text-align: right;\n",
       "    }\n",
       "</style>\n",
       "<table border=\"1\" class=\"dataframe\">\n",
       "  <thead>\n",
       "    <tr style=\"text-align: right;\">\n",
       "      <th></th>\n",
       "      <th>Descripcion raiz limpia</th>\n",
       "      <th>label_y</th>\n",
       "      <th>y_pred</th>\n",
       "      <th>id_licitacion</th>\n",
       "      <th>Rubro1</th>\n",
       "      <th>Rubro2</th>\n",
       "      <th>Rubro3</th>\n",
       "      <th>nombre_producto</th>\n",
       "      <th>descripcion</th>\n",
       "    </tr>\n",
       "    <tr>\n",
       "      <th>id_producto</th>\n",
       "      <th></th>\n",
       "      <th></th>\n",
       "      <th></th>\n",
       "      <th></th>\n",
       "      <th></th>\n",
       "      <th></th>\n",
       "      <th></th>\n",
       "      <th></th>\n",
       "      <th></th>\n",
       "    </tr>\n",
       "  </thead>\n",
       "  <tbody>\n",
       "    <tr>\n",
       "      <th>1001048-3-LE21-32</th>\n",
       "      <td>pintur blanc alto trafic renn simil</td>\n",
       "      <td>1</td>\n",
       "      <td>1</td>\n",
       "      <td>1001048-3-LE21</td>\n",
       "      <td>Artículos de fabricación y producción</td>\n",
       "      <td>Pinturas, diluyentes y accesorios para pintado</td>\n",
       "      <td>Pinturas</td>\n",
       "      <td>Pinturas aceitosas</td>\n",
       "      <td>Pintura blanca alto trafico (lt) Renner o similar</td>\n",
       "    </tr>\n",
       "    <tr>\n",
       "      <th>2345-104-L121-24</th>\n",
       "      <td>pintur spray brillant color blanc</td>\n",
       "      <td>1</td>\n",
       "      <td>1</td>\n",
       "      <td>2345-104-L121</td>\n",
       "      <td>Artículos de fabricación y producción</td>\n",
       "      <td>Pinturas, diluyentes y accesorios para pintado</td>\n",
       "      <td>Pinturas</td>\n",
       "      <td>Pinturas en aerosol</td>\n",
       "      <td>PINTURA EN SPRAY BRILLANTE 340 GR COLOR BLANCO.</td>\n",
       "    </tr>\n",
       "    <tr>\n",
       "      <th>2799-26-CO21-13</th>\n",
       "      <td>line pintur product quimic acuerd detall señal...</td>\n",
       "      <td>1</td>\n",
       "      <td>1</td>\n",
       "      <td>2799-26-CO21</td>\n",
       "      <td>Artículos de fabricación y producción</td>\n",
       "      <td>Pinturas, diluyentes y accesorios para pintado</td>\n",
       "      <td>Pinturas</td>\n",
       "      <td>Pinturas aceitosas</td>\n",
       "      <td>LINEA 13: Pintura y productos químicos, de acu...</td>\n",
       "    </tr>\n",
       "    <tr>\n",
       "      <th>3166-29-L121-5</th>\n",
       "      <td>pintur esmalt spray onzas gram color naranj</td>\n",
       "      <td>1</td>\n",
       "      <td>1</td>\n",
       "      <td>3166-29-L121</td>\n",
       "      <td>Artículos de fabricación y producción</td>\n",
       "      <td>Pinturas, diluyentes y accesorios para pintado</td>\n",
       "      <td>Pinturas</td>\n",
       "      <td>Pinturas en aerosol</td>\n",
       "      <td>5.PINTURA ESMALTE  SPRAY 16 ONZAS (453.5 GRAMO...</td>\n",
       "    </tr>\n",
       "    <tr>\n",
       "      <th>3540-88-L121-16</th>\n",
       "      <td>galon pintur sintet amarill agu</td>\n",
       "      <td>1</td>\n",
       "      <td>1</td>\n",
       "      <td>3540-88-L121</td>\n",
       "      <td>Artículos de fabricación y producción</td>\n",
       "      <td>Pinturas, diluyentes y accesorios para pintado</td>\n",
       "      <td>Pinturas</td>\n",
       "      <td>Pinturas al esmalte</td>\n",
       "      <td>Galón de pintura sintética amarilla contra agua\\n</td>\n",
       "    </tr>\n",
       "  </tbody>\n",
       "</table>\n",
       "</div>"
      ],
      "text/plain": [
       "                                             Descripcion raiz limpia  label_y  \\\n",
       "id_producto                                                                     \n",
       "1001048-3-LE21-32                pintur blanc alto trafic renn simil        1   \n",
       "2345-104-L121-24                   pintur spray brillant color blanc        1   \n",
       "2799-26-CO21-13    line pintur product quimic acuerd detall señal...        1   \n",
       "3166-29-L121-5           pintur esmalt spray onzas gram color naranj        1   \n",
       "3540-88-L121-16                      galon pintur sintet amarill agu        1   \n",
       "\n",
       "                   y_pred   id_licitacion  \\\n",
       "id_producto                                 \n",
       "1001048-3-LE21-32       1  1001048-3-LE21   \n",
       "2345-104-L121-24        1   2345-104-L121   \n",
       "2799-26-CO21-13         1    2799-26-CO21   \n",
       "3166-29-L121-5          1    3166-29-L121   \n",
       "3540-88-L121-16         1    3540-88-L121   \n",
       "\n",
       "                                                  Rubro1  \\\n",
       "id_producto                                                \n",
       "1001048-3-LE21-32  Artículos de fabricación y producción   \n",
       "2345-104-L121-24   Artículos de fabricación y producción   \n",
       "2799-26-CO21-13    Artículos de fabricación y producción   \n",
       "3166-29-L121-5     Artículos de fabricación y producción   \n",
       "3540-88-L121-16    Artículos de fabricación y producción   \n",
       "\n",
       "                                                           Rubro2    Rubro3  \\\n",
       "id_producto                                                                   \n",
       "1001048-3-LE21-32  Pinturas, diluyentes y accesorios para pintado  Pinturas   \n",
       "2345-104-L121-24   Pinturas, diluyentes y accesorios para pintado  Pinturas   \n",
       "2799-26-CO21-13    Pinturas, diluyentes y accesorios para pintado  Pinturas   \n",
       "3166-29-L121-5     Pinturas, diluyentes y accesorios para pintado  Pinturas   \n",
       "3540-88-L121-16    Pinturas, diluyentes y accesorios para pintado  Pinturas   \n",
       "\n",
       "                       nombre_producto  \\\n",
       "id_producto                              \n",
       "1001048-3-LE21-32   Pinturas aceitosas   \n",
       "2345-104-L121-24   Pinturas en aerosol   \n",
       "2799-26-CO21-13     Pinturas aceitosas   \n",
       "3166-29-L121-5     Pinturas en aerosol   \n",
       "3540-88-L121-16    Pinturas al esmalte   \n",
       "\n",
       "                                                         descripcion  \n",
       "id_producto                                                           \n",
       "1001048-3-LE21-32  Pintura blanca alto trafico (lt) Renner o similar  \n",
       "2345-104-L121-24     PINTURA EN SPRAY BRILLANTE 340 GR COLOR BLANCO.  \n",
       "2799-26-CO21-13    LINEA 13: Pintura y productos químicos, de acu...  \n",
       "3166-29-L121-5     5.PINTURA ESMALTE  SPRAY 16 ONZAS (453.5 GRAMO...  \n",
       "3540-88-L121-16    Galón de pintura sintética amarilla contra agua\\n  "
      ]
     },
     "execution_count": 48,
     "metadata": {},
     "output_type": "execute_result"
    }
   ],
   "source": [
    "#Productos que se han vendido y que si existen en el inventario\n",
    "dfe[(dfe['label_y']==1)&(dfe['y_pred']==1)&(dfe['Rubro3']=='Pinturas')]"
   ]
  },
  {
   "cell_type": "code",
   "execution_count": 24,
   "metadata": {},
   "outputs": [
    {
     "data": {
      "text/html": [
       "<div>\n",
       "<style scoped>\n",
       "    .dataframe tbody tr th:only-of-type {\n",
       "        vertical-align: middle;\n",
       "    }\n",
       "\n",
       "    .dataframe tbody tr th {\n",
       "        vertical-align: top;\n",
       "    }\n",
       "\n",
       "    .dataframe thead th {\n",
       "        text-align: right;\n",
       "    }\n",
       "</style>\n",
       "<table border=\"1\" class=\"dataframe\">\n",
       "  <thead>\n",
       "    <tr style=\"text-align: right;\">\n",
       "      <th></th>\n",
       "      <th>Descripcion raiz limpia</th>\n",
       "      <th>label_y</th>\n",
       "      <th>y_pred</th>\n",
       "      <th>id_licitacion</th>\n",
       "      <th>Rubro1</th>\n",
       "      <th>Rubro2</th>\n",
       "      <th>Rubro3</th>\n",
       "      <th>nombre_producto</th>\n",
       "      <th>descripcion</th>\n",
       "    </tr>\n",
       "    <tr>\n",
       "      <th>id_producto</th>\n",
       "      <th></th>\n",
       "      <th></th>\n",
       "      <th></th>\n",
       "      <th></th>\n",
       "      <th></th>\n",
       "      <th></th>\n",
       "      <th></th>\n",
       "      <th></th>\n",
       "      <th></th>\n",
       "    </tr>\n",
       "  </thead>\n",
       "  <tbody>\n",
       "    <tr>\n",
       "      <th>4236-25-L121-1</th>\n",
       "      <td>pintur acril alto trafic amarill</td>\n",
       "      <td>0</td>\n",
       "      <td>1</td>\n",
       "      <td>4236-25-L121</td>\n",
       "      <td>Artículos de fabricación y producción</td>\n",
       "      <td>Pinturas, diluyentes y accesorios para pintado</td>\n",
       "      <td>Pinturas</td>\n",
       "      <td>Pinturas acrílicas</td>\n",
       "      <td>PINTURA ACRILICA ALTO TRAFICO AMARILLA</td>\n",
       "    </tr>\n",
       "    <tr>\n",
       "      <th>4236-26-L121-1</th>\n",
       "      <td>pintur acril alto trafic amarill</td>\n",
       "      <td>0</td>\n",
       "      <td>1</td>\n",
       "      <td>4236-26-L121</td>\n",
       "      <td>Artículos de fabricación y producción</td>\n",
       "      <td>Pinturas, diluyentes y accesorios para pintado</td>\n",
       "      <td>Pinturas</td>\n",
       "      <td>Pinturas acrílicas</td>\n",
       "      <td>PINTURA ACRILICA ALTO TRAFICO AMARILLA</td>\n",
       "    </tr>\n",
       "  </tbody>\n",
       "</table>\n",
       "</div>"
      ],
      "text/plain": [
       "                         Descripcion raiz limpia  label_y  y_pred  \\\n",
       "id_producto                                                         \n",
       "4236-25-L121-1  pintur acril alto trafic amarill        0       1   \n",
       "4236-26-L121-1  pintur acril alto trafic amarill        0       1   \n",
       "\n",
       "               id_licitacion                                 Rubro1  \\\n",
       "id_producto                                                           \n",
       "4236-25-L121-1  4236-25-L121  Artículos de fabricación y producción   \n",
       "4236-26-L121-1  4236-26-L121  Artículos de fabricación y producción   \n",
       "\n",
       "                                                        Rubro2    Rubro3  \\\n",
       "id_producto                                                                \n",
       "4236-25-L121-1  Pinturas, diluyentes y accesorios para pintado  Pinturas   \n",
       "4236-26-L121-1  Pinturas, diluyentes y accesorios para pintado  Pinturas   \n",
       "\n",
       "                   nombre_producto                             descripcion  \n",
       "id_producto                                                                 \n",
       "4236-25-L121-1  Pinturas acrílicas  PINTURA ACRILICA ALTO TRAFICO AMARILLA  \n",
       "4236-26-L121-1  Pinturas acrílicas  PINTURA ACRILICA ALTO TRAFICO AMARILLA  "
      ]
     },
     "execution_count": 24,
     "metadata": {},
     "output_type": "execute_result"
    }
   ],
   "source": [
    "#Hace predicciones según productos que no existen en el inventario\n",
    "dfe[(dfe['label_y']==0)&(dfe['y_pred']==1)&(dfe['nombre_producto']=='Pinturas acrílicas')]"
   ]
  },
  {
   "cell_type": "markdown",
   "metadata": {},
   "source": [
    "## Análisis"
   ]
  },
  {
   "cell_type": "markdown",
   "metadata": {},
   "source": [
    "En muchos casos, la descripción cuenta con muy poca información y tampoco concuerda con el nombre del producto."
   ]
  },
  {
   "cell_type": "code",
   "execution_count": 67,
   "metadata": {},
   "outputs": [
    {
     "data": {
      "text/html": [
       "<div>\n",
       "<style scoped>\n",
       "    .dataframe tbody tr th:only-of-type {\n",
       "        vertical-align: middle;\n",
       "    }\n",
       "\n",
       "    .dataframe tbody tr th {\n",
       "        vertical-align: top;\n",
       "    }\n",
       "\n",
       "    .dataframe thead th {\n",
       "        text-align: right;\n",
       "    }\n",
       "</style>\n",
       "<table border=\"1\" class=\"dataframe\">\n",
       "  <thead>\n",
       "    <tr style=\"text-align: right;\">\n",
       "      <th></th>\n",
       "      <th>Descripcion raiz limpia</th>\n",
       "      <th>label_y</th>\n",
       "      <th>y_pred</th>\n",
       "      <th>id_licitacion</th>\n",
       "      <th>Rubro1</th>\n",
       "      <th>Rubro2</th>\n",
       "      <th>Rubro3</th>\n",
       "      <th>nombre_producto</th>\n",
       "      <th>descripcion</th>\n",
       "    </tr>\n",
       "    <tr>\n",
       "      <th>id_producto</th>\n",
       "      <th></th>\n",
       "      <th></th>\n",
       "      <th></th>\n",
       "      <th></th>\n",
       "      <th></th>\n",
       "      <th></th>\n",
       "      <th></th>\n",
       "      <th></th>\n",
       "      <th></th>\n",
       "    </tr>\n",
       "  </thead>\n",
       "  <tbody>\n",
       "    <tr>\n",
       "      <th>4236-25-L121-3</th>\n",
       "      <td>imprim</td>\n",
       "      <td>0</td>\n",
       "      <td>0</td>\n",
       "      <td>4236-25-L121</td>\n",
       "      <td>Artículos de fabricación y producción</td>\n",
       "      <td>Pinturas, diluyentes y accesorios para pintado</td>\n",
       "      <td>Pinturas</td>\n",
       "      <td>Pinturas de imprimación al esmalte</td>\n",
       "      <td>IMPRIMANTE</td>\n",
       "    </tr>\n",
       "  </tbody>\n",
       "</table>\n",
       "</div>"
      ],
      "text/plain": [
       "               Descripcion raiz limpia  label_y  y_pred id_licitacion  \\\n",
       "id_producto                                                             \n",
       "4236-25-L121-3                  imprim        0       0  4236-25-L121   \n",
       "\n",
       "                                               Rubro1  \\\n",
       "id_producto                                             \n",
       "4236-25-L121-3  Artículos de fabricación y producción   \n",
       "\n",
       "                                                        Rubro2    Rubro3  \\\n",
       "id_producto                                                                \n",
       "4236-25-L121-3  Pinturas, diluyentes y accesorios para pintado  Pinturas   \n",
       "\n",
       "                                   nombre_producto descripcion  \n",
       "id_producto                                                     \n",
       "4236-25-L121-3  Pinturas de imprimación al esmalte  IMPRIMANTE  "
      ]
     },
     "execution_count": 67,
     "metadata": {},
     "output_type": "execute_result"
    }
   ],
   "source": [
    "dfe[(dfe['label_y']==0)&(dfe['y_pred']==0)&(dfe['Rubro3']=='Pinturas')].head(1)"
   ]
  }
 ],
 "metadata": {
  "kernelspec": {
   "display_name": "Python 3.10.4 64-bit",
   "language": "python",
   "name": "python3"
  },
  "language_info": {
   "codemirror_mode": {
    "name": "ipython",
    "version": 3
   },
   "file_extension": ".py",
   "mimetype": "text/x-python",
   "name": "python",
   "nbconvert_exporter": "python",
   "pygments_lexer": "ipython3",
   "version": "3.10.4"
  },
  "orig_nbformat": 4,
  "vscode": {
   "interpreter": {
    "hash": "26de051ba29f2982a8de78e945f0abaf191376122a1563185a90213a26c5da77"
   }
  }
 },
 "nbformat": 4,
 "nbformat_minor": 2
}
