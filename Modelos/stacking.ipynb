{
 "cells": [
  {
   "cell_type": "code",
   "execution_count": 25,
   "metadata": {},
   "outputs": [],
   "source": [
    "import os\n",
    "import pickle\n",
    "\n",
    "import pandas as pd\n",
    "import numpy as np\n",
    "import matplotlib.pyplot as plt\n",
    "\n",
    "from sklearn.linear_model import LogisticRegression\n",
    "from imblearn.over_sampling import SMOTE \n",
    "from sklearn.model_selection import train_test_split\n",
    "from sklearn.ensemble import StackingClassifier\n",
    "\n",
    "os.chdir('../')\n",
    "from Funciones.funciones import metrics\n",
    "os.chdir('./Modelos')"
   ]
  },
  {
   "cell_type": "code",
   "execution_count": 4,
   "metadata": {},
   "outputs": [
    {
     "name": "stdout",
     "output_type": "stream",
     "text": [
      "X: (54484, 10113) y: (54484, 1)\n"
     ]
    }
   ],
   "source": [
    "fh5=open('..\\Datos\\df_PCA10k_train_test.pkl','rb')\n",
    "train_test=pickle.load(fh5)\n",
    "fh5.close()\n",
    "\n",
    "\n",
    "X = train_test['X']\n",
    "y = train_test['y']\n",
    "\n",
    "print('X:',X.shape,'y:',y.shape)"
   ]
  },
  {
   "cell_type": "code",
   "execution_count": 5,
   "metadata": {},
   "outputs": [
    {
     "name": "stdout",
     "output_type": "stream",
     "text": [
      "X_train_smote: (42273, 10113) y_train_smote: (42273, 1)\n",
      "X_test: (17980, 10113) y_test: (17980, 1)\n"
     ]
    }
   ],
   "source": [
    "X_train, X_test, y_train, y_test = train_test_split(\n",
    "    X, y, test_size=0.33, random_state=42)\n",
    "\n",
    "oversampling = SMOTE(sampling_strategy=0.30) # usamos oversampling sintético podemos elegir el nivel de oversampling con  sampling_strategy=0.80\n",
    "X_train_smote, y_train_smote = oversampling.fit_resample(X_train, y_train) #Se obtienen nuevos X e y\n",
    "print('X_train_smote:',X_train_smote.shape,'y_train_smote:',y_train_smote.shape)\n",
    "print('X_test:',X_test.shape,'y_test:',y_test.shape)"
   ]
  },
  {
   "cell_type": "code",
   "execution_count": 19,
   "metadata": {},
   "outputs": [],
   "source": [
    "fh4 = open('m_reglog_PCA_final.pkl','rb')\n",
    "logreg_model = pickle.load(fh4)\n",
    "fh4.close()"
   ]
  },
  {
   "cell_type": "code",
   "execution_count": 20,
   "metadata": {},
   "outputs": [],
   "source": [
    "fh5 = open('m_XGBoost_PCA_vfinal.pkl','rb')\n",
    "xgb_model = pickle.load(fh5)\n",
    "fh5.close()"
   ]
  },
  {
   "cell_type": "code",
   "execution_count": 21,
   "metadata": {},
   "outputs": [],
   "source": [
    "estimators = [ # ddos modelos distintos, un random forest y un SVC con escalado previo\n",
    "        ('reglog', logreg_model),\n",
    "    ('xgb', xgb_model)\n",
    "     # aqui mete como modelo un pipeline con un standard scaler y un SVC\n",
    "]"
   ]
  },
  {
   "cell_type": "code",
   "execution_count": 22,
   "metadata": {},
   "outputs": [],
   "source": [
    "stack = StackingClassifier(\n",
    "    estimators=estimators, final_estimator=LogisticRegression()\n",
    ") "
   ]
  },
  {
   "cell_type": "code",
   "execution_count": 23,
   "metadata": {},
   "outputs": [
    {
     "name": "stderr",
     "output_type": "stream",
     "text": [
      "C:\\Users\\metal\\AppData\\Roaming\\Python\\Python310\\site-packages\\sklearn\\preprocessing\\_label.py:98: DataConversionWarning: A column-vector y was passed when a 1d array was expected. Please change the shape of y to (n_samples, ), for example using ravel().\n",
      "  y = column_or_1d(y, warn=True)\n",
      "C:\\Users\\metal\\AppData\\Roaming\\Python\\Python310\\site-packages\\sklearn\\preprocessing\\_label.py:133: DataConversionWarning: A column-vector y was passed when a 1d array was expected. Please change the shape of y to (n_samples, ), for example using ravel().\n",
      "  y = column_or_1d(y, warn=True)\n",
      "[Parallel(n_jobs=1)]: Using backend SequentialBackend with 1 concurrent workers.\n",
      "[Parallel(n_jobs=1)]: Done   1 out of   1 | elapsed:   45.6s finished\n",
      "[Parallel(n_jobs=1)]: Using backend SequentialBackend with 1 concurrent workers.\n",
      "[Parallel(n_jobs=1)]: Done   1 out of   1 | elapsed:   34.2s finished\n",
      "[Parallel(n_jobs=1)]: Using backend SequentialBackend with 1 concurrent workers.\n",
      "[Parallel(n_jobs=1)]: Done   1 out of   1 | elapsed:   34.4s finished\n",
      "[Parallel(n_jobs=1)]: Using backend SequentialBackend with 1 concurrent workers.\n",
      "[Parallel(n_jobs=1)]: Done   1 out of   1 | elapsed:   34.4s finished\n",
      "[Parallel(n_jobs=1)]: Using backend SequentialBackend with 1 concurrent workers.\n",
      "[Parallel(n_jobs=1)]: Done   1 out of   1 | elapsed:   35.2s finished\n",
      "[Parallel(n_jobs=1)]: Using backend SequentialBackend with 1 concurrent workers.\n",
      "[Parallel(n_jobs=1)]: Done   1 out of   1 | elapsed:   33.5s finished\n"
     ]
    },
    {
     "data": {
      "text/plain": [
       "StackingClassifier(estimators=[('reglog',\n",
       "                                LogisticRegression(max_iter=500,\n",
       "                                                   multi_class='ovr',\n",
       "                                                   verbose=1)),\n",
       "                               ('xgb',\n",
       "                                XGBClassifier(base_score=0.5, booster='gbtree',\n",
       "                                              callbacks=None,\n",
       "                                              colsample_bylevel=1,\n",
       "                                              colsample_bynode=1,\n",
       "                                              colsample_bytree=0.8,\n",
       "                                              early_stopping_rounds=None,\n",
       "                                              enable_categorical=False,\n",
       "                                              eval_metric=None, gamma=0,\n",
       "                                              gpu_id=-1,\n",
       "                                              grow_policy='depthwise',\n",
       "                                              importance_type=None,\n",
       "                                              interaction_constraints='',\n",
       "                                              learning_rate=0.05, max_bin=256,\n",
       "                                              max_cat_to_onehot=4,\n",
       "                                              max_delta_step=0, max_depth=6,\n",
       "                                              max_leaves=0, min_child_weight=1,\n",
       "                                              missing=nan,\n",
       "                                              monotone_constraints='()',\n",
       "                                              n_estimators=500, n_jobs=-1,\n",
       "                                              num_parallel_tree=1,\n",
       "                                              predictor='auto', random_state=0,\n",
       "                                              reg_alpha=0.01, reg_lambda=0.01, ...))],\n",
       "                   final_estimator=LogisticRegression())"
      ]
     },
     "execution_count": 23,
     "metadata": {},
     "output_type": "execute_result"
    }
   ],
   "source": [
    "stack.fit(X_train_smote, y_train_smote)"
   ]
  },
  {
   "cell_type": "code",
   "execution_count": 28,
   "metadata": {},
   "outputs": [],
   "source": [
    "fh = open('m_stacking_PCA.pkl','wb') #guardamos modelo en archivo pickle\n",
    "pickle.dump(stack,fh)\n",
    "fh.close()"
   ]
  },
  {
   "cell_type": "code",
   "execution_count": 26,
   "metadata": {},
   "outputs": [
    {
     "data": {
      "image/png": "[encoded data removed]",
      "text/plain": [
       "<Figure size 432x288 with 1 Axes>"
      ]
     },
     "metadata": {
      "needs_background": "light"
     },
     "output_type": "display_data"
    },
    {
     "name": "stdout",
     "output_type": "stream",
     "text": [
      "Train AUC 0.9995939622163764\n",
      "              precision    recall  f1-score   support\n",
      "\n",
      "           0       1.00      1.00      1.00     32518\n",
      "           1       0.99      0.99      0.99      9755\n",
      "\n",
      "    accuracy                           0.99     42273\n",
      "   macro avg       0.99      0.99      0.99     42273\n",
      "weighted avg       0.99      0.99      0.99     42273\n",
      "\n"
     ]
    },
    {
     "data": {
      "image/png": "[encoded data removed]",
      "text/plain": [
       "<Figure size 432x288 with 2 Axes>"
      ]
     },
     "metadata": {
      "needs_background": "light"
     },
     "output_type": "display_data"
    },
    {
     "name": "stdout",
     "output_type": "stream",
     "text": [
      "Test AUC 0.987027881105656\n",
      "              precision    recall  f1-score   support\n",
      "\n",
      "           0       0.98      0.99      0.98     16016\n",
      "           1       0.88      0.81      0.84      1964\n",
      "\n",
      "    accuracy                           0.97     17980\n",
      "   macro avg       0.93      0.90      0.91     17980\n",
      "weighted avg       0.97      0.97      0.97     17980\n",
      "\n"
     ]
    },
    {
     "data": {
      "image/png": "[encoded data removed]",
      "text/plain": [
       "<Figure size 432x288 with 2 Axes>"
      ]
     },
     "metadata": {
      "needs_background": "light"
     },
     "output_type": "display_data"
    }
   ],
   "source": [
    "metrics(stack, X_train_smote, X_test, y_train_smote, y_test, thr=0.5)"
   ]
  }
 ],
 "metadata": {
  "kernelspec": {
   "display_name": "Python 3.10.4 64-bit",
   "language": "python",
   "name": "python3"
  },
  "language_info": {
   "codemirror_mode": {
    "name": "ipython",
    "version": 3
   },
   "file_extension": ".py",
   "mimetype": "text/x-python",
   "name": "python",
   "nbconvert_exporter": "python",
   "pygments_lexer": "ipython3",
   "version": "3.10.4"
  },
  "orig_nbformat": 4,
  "vscode": {
   "interpreter": {
    "hash": "26de051ba29f2982a8de78e945f0abaf191376122a1563185a90213a26c5da77"
   }
  }
 },
 "nbformat": 4,
 "nbformat_minor": 2
}
