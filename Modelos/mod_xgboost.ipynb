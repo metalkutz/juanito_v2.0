{
 "cells": [
  {
   "cell_type": "code",
   "execution_count": 1,
   "metadata": {},
   "outputs": [],
   "source": [
    "####### os, pickle\n",
    "import os\n",
    "import pickle\n",
    "\n",
    "import pandas as pd\n",
    "import numpy as np\n",
    "import matplotlib.pyplot as plt\n",
    "#from matplotlib import pyplot as plt\n",
    "#import seaborn as sns\n",
    "\n",
    "from sklearn.model_selection import train_test_split\n",
    "from sklearn.model_selection import GridSearchCV\n",
    "#from sklearn import metrics\n",
    "from sklearn.metrics import accuracy_score, roc_auc_score, average_precision_score\n",
    "from sklearn.metrics import confusion_matrix, ConfusionMatrixDisplay, classification_report\n",
    "\n",
    "\n",
    "#from funciones import* \n",
    "os.chdir('../')\n",
    "from funciones import metrics\n",
    "\n",
    "from imblearn.over_sampling import SMOTE \n",
    "from collections import Counter\n",
    "\n",
    "import xgboost as xgb\n",
    "from xgboost import XGBClassifier"
   ]
  },
  {
   "cell_type": "code",
   "execution_count": 2,
   "metadata": {},
   "outputs": [
    {
     "name": "stdout",
     "output_type": "stream",
     "text": [
      "X_cat: (5111, 6383) y_cat: (5111,)\n",
      "X: (51646, 10055) y: (51646,)\n",
      "X_redux: (51646, 65) y_redux: (51646,)\n"
     ]
    }
   ],
   "source": [
    "# from main import *"
   ]
  },
  {
   "cell_type": "code",
   "execution_count": 2,
   "metadata": {},
   "outputs": [
    {
     "name": "stdout",
     "output_type": "stream",
     "text": [
      "X: (54849, 10113) y: (54849, 1)\n"
     ]
    }
   ],
   "source": [
    "os.chdir(r'Datos')\n",
    "fh5=open('df_PCA10k_train_test.pkl','rb')\n",
    "train_test=pickle.load(fh5)\n",
    "fh5.close()\n",
    "\n",
    "\n",
    "X = train_test['X']\n",
    "X.index = X['id_producto']\n",
    "X.drop(columns=['id_producto'], inplace=True)\n",
    "y = train_test['y']\n",
    "\n",
    "print('X:',X.shape,'y:',y.shape)"
   ]
  },
  {
   "cell_type": "code",
   "execution_count": 4,
   "metadata": {},
   "outputs": [],
   "source": [
    "X_train, X_test, y_train, y_test = train_test_split(\n",
    "    X, y, test_size=0.33, random_state=42)\n",
    "\n",
    "oversampling = SMOTE(sampling_strategy=0.30) # usamos oversampling sintético podemos elegir el nivel de oversampling con  sampling_strategy=0.80\n",
    "X_train_smote, y_train_smote = oversampling.fit_resample(X_train, y_train) #Se obtienen nuevos X e y"
   ]
  },
  {
   "cell_type": "code",
   "execution_count": 4,
   "metadata": {},
   "outputs": [
    {
     "data": {
      "text/plain": [
       "Counter({0: 31010, 1: 9303})"
      ]
     },
     "execution_count": 4,
     "metadata": {},
     "output_type": "execute_result"
    }
   ],
   "source": [
    "Counter(y_train_smote)"
   ]
  },
  {
   "cell_type": "code",
   "execution_count": 11,
   "metadata": {},
   "outputs": [
    {
     "data": {
      "text/html": [
       "<div>\n",
       "<style scoped>\n",
       "    .dataframe tbody tr th:only-of-type {\n",
       "        vertical-align: middle;\n",
       "    }\n",
       "\n",
       "    .dataframe tbody tr th {\n",
       "        vertical-align: top;\n",
       "    }\n",
       "\n",
       "    .dataframe thead th {\n",
       "        text-align: right;\n",
       "    }\n",
       "</style>\n",
       "<table border=\"1\" class=\"dataframe\">\n",
       "  <thead>\n",
       "    <tr style=\"text-align: right;\">\n",
       "      <th></th>\n",
       "      <th>Rubro1_Equipos y suministros de defensa, orden público, protección y seguridad</th>\n",
       "      <th>Rubro2_Materiales estructurales básicos</th>\n",
       "      <th>Rubro1_Artículos de fabricación y producción</th>\n",
       "      <th>Rubro3_Filtros</th>\n",
       "      <th>Rubro1_Ropa, maletas y productos de aseo personal</th>\n",
       "      <th>Rubro2_Vestuario clínico</th>\n",
       "      <th>Rubro1_Maquinaria para fabricación y transformación industrial</th>\n",
       "      <th>Rubro3_Maquinaria para soldadura directa o indirecta</th>\n",
       "      <th>Rubro2_Herramientas manuales</th>\n",
       "      <th>Rubro2_Cintas adhesivas y selladores</th>\n",
       "      <th>...</th>\n",
       "      <th>PC9990</th>\n",
       "      <th>PC9991</th>\n",
       "      <th>PC9992</th>\n",
       "      <th>PC9993</th>\n",
       "      <th>PC9994</th>\n",
       "      <th>PC9995</th>\n",
       "      <th>PC9996</th>\n",
       "      <th>PC9997</th>\n",
       "      <th>PC9998</th>\n",
       "      <th>PC9999</th>\n",
       "    </tr>\n",
       "    <tr>\n",
       "      <th>id_producto</th>\n",
       "      <th></th>\n",
       "      <th></th>\n",
       "      <th></th>\n",
       "      <th></th>\n",
       "      <th></th>\n",
       "      <th></th>\n",
       "      <th></th>\n",
       "      <th></th>\n",
       "      <th></th>\n",
       "      <th></th>\n",
       "      <th></th>\n",
       "      <th></th>\n",
       "      <th></th>\n",
       "      <th></th>\n",
       "      <th></th>\n",
       "      <th></th>\n",
       "      <th></th>\n",
       "      <th></th>\n",
       "      <th></th>\n",
       "      <th></th>\n",
       "      <th></th>\n",
       "    </tr>\n",
       "  </thead>\n",
       "  <tbody>\n",
       "    <tr>\n",
       "      <th>2792-88-LE21-1</th>\n",
       "      <td>0</td>\n",
       "      <td>0</td>\n",
       "      <td>0</td>\n",
       "      <td>0</td>\n",
       "      <td>0</td>\n",
       "      <td>0</td>\n",
       "      <td>0</td>\n",
       "      <td>0</td>\n",
       "      <td>0</td>\n",
       "      <td>0</td>\n",
       "      <td>...</td>\n",
       "      <td>-0.005516</td>\n",
       "      <td>-0.000437</td>\n",
       "      <td>0.002465</td>\n",
       "      <td>-0.006030</td>\n",
       "      <td>0.004354</td>\n",
       "      <td>0.005013</td>\n",
       "      <td>0.007393</td>\n",
       "      <td>0.002471</td>\n",
       "      <td>-0.005525</td>\n",
       "      <td>-0.007172</td>\n",
       "    </tr>\n",
       "    <tr>\n",
       "      <th>1704-52-LP21-1</th>\n",
       "      <td>0</td>\n",
       "      <td>0</td>\n",
       "      <td>0</td>\n",
       "      <td>0</td>\n",
       "      <td>0</td>\n",
       "      <td>0</td>\n",
       "      <td>0</td>\n",
       "      <td>0</td>\n",
       "      <td>0</td>\n",
       "      <td>0</td>\n",
       "      <td>...</td>\n",
       "      <td>0.001534</td>\n",
       "      <td>-0.005963</td>\n",
       "      <td>-0.001420</td>\n",
       "      <td>-0.001846</td>\n",
       "      <td>0.005965</td>\n",
       "      <td>-0.006664</td>\n",
       "      <td>0.000571</td>\n",
       "      <td>0.001245</td>\n",
       "      <td>0.002235</td>\n",
       "      <td>0.002640</td>\n",
       "    </tr>\n",
       "    <tr>\n",
       "      <th>1003-20-L121-1</th>\n",
       "      <td>0</td>\n",
       "      <td>0</td>\n",
       "      <td>0</td>\n",
       "      <td>0</td>\n",
       "      <td>0</td>\n",
       "      <td>0</td>\n",
       "      <td>0</td>\n",
       "      <td>0</td>\n",
       "      <td>0</td>\n",
       "      <td>0</td>\n",
       "      <td>...</td>\n",
       "      <td>-0.000314</td>\n",
       "      <td>0.000571</td>\n",
       "      <td>-0.000033</td>\n",
       "      <td>0.000877</td>\n",
       "      <td>0.000888</td>\n",
       "      <td>-0.001105</td>\n",
       "      <td>-0.002397</td>\n",
       "      <td>-0.001611</td>\n",
       "      <td>0.001624</td>\n",
       "      <td>0.001275</td>\n",
       "    </tr>\n",
       "    <tr>\n",
       "      <th>4236-21-L121-1</th>\n",
       "      <td>0</td>\n",
       "      <td>0</td>\n",
       "      <td>0</td>\n",
       "      <td>0</td>\n",
       "      <td>0</td>\n",
       "      <td>0</td>\n",
       "      <td>0</td>\n",
       "      <td>0</td>\n",
       "      <td>0</td>\n",
       "      <td>0</td>\n",
       "      <td>...</td>\n",
       "      <td>-0.000149</td>\n",
       "      <td>-0.001228</td>\n",
       "      <td>-0.000201</td>\n",
       "      <td>-0.000618</td>\n",
       "      <td>-0.000924</td>\n",
       "      <td>0.001515</td>\n",
       "      <td>0.000530</td>\n",
       "      <td>-0.000897</td>\n",
       "      <td>-0.000263</td>\n",
       "      <td>-0.001258</td>\n",
       "    </tr>\n",
       "    <tr>\n",
       "      <th>4236-21-L121-2</th>\n",
       "      <td>0</td>\n",
       "      <td>0</td>\n",
       "      <td>0</td>\n",
       "      <td>0</td>\n",
       "      <td>0</td>\n",
       "      <td>0</td>\n",
       "      <td>0</td>\n",
       "      <td>0</td>\n",
       "      <td>1</td>\n",
       "      <td>0</td>\n",
       "      <td>...</td>\n",
       "      <td>0.000154</td>\n",
       "      <td>-0.000822</td>\n",
       "      <td>0.000609</td>\n",
       "      <td>0.002275</td>\n",
       "      <td>-0.000442</td>\n",
       "      <td>-0.000430</td>\n",
       "      <td>-0.000798</td>\n",
       "      <td>-0.001101</td>\n",
       "      <td>0.000727</td>\n",
       "      <td>-0.000767</td>\n",
       "    </tr>\n",
       "    <tr>\n",
       "      <th>...</th>\n",
       "      <td>...</td>\n",
       "      <td>...</td>\n",
       "      <td>...</td>\n",
       "      <td>...</td>\n",
       "      <td>...</td>\n",
       "      <td>...</td>\n",
       "      <td>...</td>\n",
       "      <td>...</td>\n",
       "      <td>...</td>\n",
       "      <td>...</td>\n",
       "      <td>...</td>\n",
       "      <td>...</td>\n",
       "      <td>...</td>\n",
       "      <td>...</td>\n",
       "      <td>...</td>\n",
       "      <td>...</td>\n",
       "      <td>...</td>\n",
       "      <td>...</td>\n",
       "      <td>...</td>\n",
       "      <td>...</td>\n",
       "      <td>...</td>\n",
       "    </tr>\n",
       "    <tr>\n",
       "      <th>1058141-35-LQ21-1</th>\n",
       "      <td>0</td>\n",
       "      <td>0</td>\n",
       "      <td>0</td>\n",
       "      <td>0</td>\n",
       "      <td>0</td>\n",
       "      <td>0</td>\n",
       "      <td>0</td>\n",
       "      <td>0</td>\n",
       "      <td>0</td>\n",
       "      <td>0</td>\n",
       "      <td>...</td>\n",
       "      <td>0.000989</td>\n",
       "      <td>-0.002816</td>\n",
       "      <td>-0.000033</td>\n",
       "      <td>-0.001079</td>\n",
       "      <td>-0.002719</td>\n",
       "      <td>-0.000547</td>\n",
       "      <td>-0.000694</td>\n",
       "      <td>-0.000421</td>\n",
       "      <td>0.001323</td>\n",
       "      <td>-0.000003</td>\n",
       "    </tr>\n",
       "    <tr>\n",
       "      <th>1058141-35-LQ21-4</th>\n",
       "      <td>0</td>\n",
       "      <td>0</td>\n",
       "      <td>0</td>\n",
       "      <td>0</td>\n",
       "      <td>0</td>\n",
       "      <td>0</td>\n",
       "      <td>0</td>\n",
       "      <td>0</td>\n",
       "      <td>0</td>\n",
       "      <td>0</td>\n",
       "      <td>...</td>\n",
       "      <td>-0.000261</td>\n",
       "      <td>-0.000426</td>\n",
       "      <td>0.000050</td>\n",
       "      <td>0.000146</td>\n",
       "      <td>-0.000456</td>\n",
       "      <td>-0.000055</td>\n",
       "      <td>0.000175</td>\n",
       "      <td>-0.000633</td>\n",
       "      <td>0.000123</td>\n",
       "      <td>-0.000068</td>\n",
       "    </tr>\n",
       "    <tr>\n",
       "      <th>1173455-12-LE21-41</th>\n",
       "      <td>0</td>\n",
       "      <td>0</td>\n",
       "      <td>1</td>\n",
       "      <td>0</td>\n",
       "      <td>0</td>\n",
       "      <td>0</td>\n",
       "      <td>0</td>\n",
       "      <td>0</td>\n",
       "      <td>0</td>\n",
       "      <td>0</td>\n",
       "      <td>...</td>\n",
       "      <td>-0.000022</td>\n",
       "      <td>-0.000035</td>\n",
       "      <td>0.000199</td>\n",
       "      <td>0.000201</td>\n",
       "      <td>0.000600</td>\n",
       "      <td>0.000022</td>\n",
       "      <td>0.000350</td>\n",
       "      <td>-0.000107</td>\n",
       "      <td>0.000264</td>\n",
       "      <td>0.000827</td>\n",
       "    </tr>\n",
       "    <tr>\n",
       "      <th>1057461-64-LE21-17</th>\n",
       "      <td>0</td>\n",
       "      <td>0</td>\n",
       "      <td>1</td>\n",
       "      <td>0</td>\n",
       "      <td>0</td>\n",
       "      <td>0</td>\n",
       "      <td>0</td>\n",
       "      <td>0</td>\n",
       "      <td>0</td>\n",
       "      <td>1</td>\n",
       "      <td>...</td>\n",
       "      <td>0.000037</td>\n",
       "      <td>-0.000535</td>\n",
       "      <td>0.000142</td>\n",
       "      <td>-0.000327</td>\n",
       "      <td>0.000184</td>\n",
       "      <td>-0.000548</td>\n",
       "      <td>-0.000263</td>\n",
       "      <td>-0.000999</td>\n",
       "      <td>0.000172</td>\n",
       "      <td>-0.000017</td>\n",
       "    </tr>\n",
       "    <tr>\n",
       "      <th>4309-381-LQ21-1</th>\n",
       "      <td>0</td>\n",
       "      <td>0</td>\n",
       "      <td>0</td>\n",
       "      <td>0</td>\n",
       "      <td>0</td>\n",
       "      <td>0</td>\n",
       "      <td>0</td>\n",
       "      <td>0</td>\n",
       "      <td>0</td>\n",
       "      <td>0</td>\n",
       "      <td>...</td>\n",
       "      <td>0.000423</td>\n",
       "      <td>0.003278</td>\n",
       "      <td>-0.001014</td>\n",
       "      <td>-0.002087</td>\n",
       "      <td>-0.002051</td>\n",
       "      <td>-0.001757</td>\n",
       "      <td>0.003888</td>\n",
       "      <td>0.001618</td>\n",
       "      <td>0.000704</td>\n",
       "      <td>-0.002396</td>\n",
       "    </tr>\n",
       "  </tbody>\n",
       "</table>\n",
       "<p>54849 rows × 10113 columns</p>\n",
       "</div>"
      ],
      "text/plain": [
       "                    Rubro1_Equipos y suministros de defensa, orden público, protección y seguridad  \\\n",
       "id_producto                                                                                          \n",
       "2792-88-LE21-1                                                      0                                \n",
       "1704-52-LP21-1                                                      0                                \n",
       "1003-20-L121-1                                                      0                                \n",
       "4236-21-L121-1                                                      0                                \n",
       "4236-21-L121-2                                                      0                                \n",
       "...                                                               ...                                \n",
       "1058141-35-LQ21-1                                                   0                                \n",
       "1058141-35-LQ21-4                                                   0                                \n",
       "1173455-12-LE21-41                                                  0                                \n",
       "1057461-64-LE21-17                                                  0                                \n",
       "4309-381-LQ21-1                                                     0                                \n",
       "\n",
       "                    Rubro2_Materiales estructurales básicos  \\\n",
       "id_producto                                                   \n",
       "2792-88-LE21-1                                            0   \n",
       "1704-52-LP21-1                                            0   \n",
       "1003-20-L121-1                                            0   \n",
       "4236-21-L121-1                                            0   \n",
       "4236-21-L121-2                                            0   \n",
       "...                                                     ...   \n",
       "1058141-35-LQ21-1                                         0   \n",
       "1058141-35-LQ21-4                                         0   \n",
       "1173455-12-LE21-41                                        0   \n",
       "1057461-64-LE21-17                                        0   \n",
       "4309-381-LQ21-1                                           0   \n",
       "\n",
       "                    Rubro1_Artículos de fabricación y producción  \\\n",
       "id_producto                                                        \n",
       "2792-88-LE21-1                                                 0   \n",
       "1704-52-LP21-1                                                 0   \n",
       "1003-20-L121-1                                                 0   \n",
       "4236-21-L121-1                                                 0   \n",
       "4236-21-L121-2                                                 0   \n",
       "...                                                          ...   \n",
       "1058141-35-LQ21-1                                              0   \n",
       "1058141-35-LQ21-4                                              0   \n",
       "1173455-12-LE21-41                                             1   \n",
       "1057461-64-LE21-17                                             1   \n",
       "4309-381-LQ21-1                                                0   \n",
       "\n",
       "                    Rubro3_Filtros  \\\n",
       "id_producto                          \n",
       "2792-88-LE21-1                   0   \n",
       "1704-52-LP21-1                   0   \n",
       "1003-20-L121-1                   0   \n",
       "4236-21-L121-1                   0   \n",
       "4236-21-L121-2                   0   \n",
       "...                            ...   \n",
       "1058141-35-LQ21-1                0   \n",
       "1058141-35-LQ21-4                0   \n",
       "1173455-12-LE21-41               0   \n",
       "1057461-64-LE21-17               0   \n",
       "4309-381-LQ21-1                  0   \n",
       "\n",
       "                    Rubro1_Ropa, maletas y productos de aseo personal  \\\n",
       "id_producto                                                             \n",
       "2792-88-LE21-1                                                      0   \n",
       "1704-52-LP21-1                                                      0   \n",
       "1003-20-L121-1                                                      0   \n",
       "4236-21-L121-1                                                      0   \n",
       "4236-21-L121-2                                                      0   \n",
       "...                                                               ...   \n",
       "1058141-35-LQ21-1                                                   0   \n",
       "1058141-35-LQ21-4                                                   0   \n",
       "1173455-12-LE21-41                                                  0   \n",
       "1057461-64-LE21-17                                                  0   \n",
       "4309-381-LQ21-1                                                     0   \n",
       "\n",
       "                    Rubro2_Vestuario clínico  \\\n",
       "id_producto                                    \n",
       "2792-88-LE21-1                             0   \n",
       "1704-52-LP21-1                             0   \n",
       "1003-20-L121-1                             0   \n",
       "4236-21-L121-1                             0   \n",
       "4236-21-L121-2                             0   \n",
       "...                                      ...   \n",
       "1058141-35-LQ21-1                          0   \n",
       "1058141-35-LQ21-4                          0   \n",
       "1173455-12-LE21-41                         0   \n",
       "1057461-64-LE21-17                         0   \n",
       "4309-381-LQ21-1                            0   \n",
       "\n",
       "                    Rubro1_Maquinaria para fabricación y transformación industrial  \\\n",
       "id_producto                                                                          \n",
       "2792-88-LE21-1                                                      0                \n",
       "1704-52-LP21-1                                                      0                \n",
       "1003-20-L121-1                                                      0                \n",
       "4236-21-L121-1                                                      0                \n",
       "4236-21-L121-2                                                      0                \n",
       "...                                                               ...                \n",
       "1058141-35-LQ21-1                                                   0                \n",
       "1058141-35-LQ21-4                                                   0                \n",
       "1173455-12-LE21-41                                                  0                \n",
       "1057461-64-LE21-17                                                  0                \n",
       "4309-381-LQ21-1                                                     0                \n",
       "\n",
       "                    Rubro3_Maquinaria para soldadura directa o indirecta  \\\n",
       "id_producto                                                                \n",
       "2792-88-LE21-1                                                      0      \n",
       "1704-52-LP21-1                                                      0      \n",
       "1003-20-L121-1                                                      0      \n",
       "4236-21-L121-1                                                      0      \n",
       "4236-21-L121-2                                                      0      \n",
       "...                                                               ...      \n",
       "1058141-35-LQ21-1                                                   0      \n",
       "1058141-35-LQ21-4                                                   0      \n",
       "1173455-12-LE21-41                                                  0      \n",
       "1057461-64-LE21-17                                                  0      \n",
       "4309-381-LQ21-1                                                     0      \n",
       "\n",
       "                    Rubro2_Herramientas manuales  \\\n",
       "id_producto                                        \n",
       "2792-88-LE21-1                                 0   \n",
       "1704-52-LP21-1                                 0   \n",
       "1003-20-L121-1                                 0   \n",
       "4236-21-L121-1                                 0   \n",
       "4236-21-L121-2                                 1   \n",
       "...                                          ...   \n",
       "1058141-35-LQ21-1                              0   \n",
       "1058141-35-LQ21-4                              0   \n",
       "1173455-12-LE21-41                             0   \n",
       "1057461-64-LE21-17                             0   \n",
       "4309-381-LQ21-1                                0   \n",
       "\n",
       "                    Rubro2_Cintas adhesivas y selladores  ...    PC9990  \\\n",
       "id_producto                                               ...             \n",
       "2792-88-LE21-1                                         0  ... -0.005516   \n",
       "1704-52-LP21-1                                         0  ...  0.001534   \n",
       "1003-20-L121-1                                         0  ... -0.000314   \n",
       "4236-21-L121-1                                         0  ... -0.000149   \n",
       "4236-21-L121-2                                         0  ...  0.000154   \n",
       "...                                                  ...  ...       ...   \n",
       "1058141-35-LQ21-1                                      0  ...  0.000989   \n",
       "1058141-35-LQ21-4                                      0  ... -0.000261   \n",
       "1173455-12-LE21-41                                     0  ... -0.000022   \n",
       "1057461-64-LE21-17                                     1  ...  0.000037   \n",
       "4309-381-LQ21-1                                        0  ...  0.000423   \n",
       "\n",
       "                      PC9991    PC9992    PC9993    PC9994    PC9995  \\\n",
       "id_producto                                                            \n",
       "2792-88-LE21-1     -0.000437  0.002465 -0.006030  0.004354  0.005013   \n",
       "1704-52-LP21-1     -0.005963 -0.001420 -0.001846  0.005965 -0.006664   \n",
       "1003-20-L121-1      0.000571 -0.000033  0.000877  0.000888 -0.001105   \n",
       "4236-21-L121-1     -0.001228 -0.000201 -0.000618 -0.000924  0.001515   \n",
       "4236-21-L121-2     -0.000822  0.000609  0.002275 -0.000442 -0.000430   \n",
       "...                      ...       ...       ...       ...       ...   \n",
       "1058141-35-LQ21-1  -0.002816 -0.000033 -0.001079 -0.002719 -0.000547   \n",
       "1058141-35-LQ21-4  -0.000426  0.000050  0.000146 -0.000456 -0.000055   \n",
       "1173455-12-LE21-41 -0.000035  0.000199  0.000201  0.000600  0.000022   \n",
       "1057461-64-LE21-17 -0.000535  0.000142 -0.000327  0.000184 -0.000548   \n",
       "4309-381-LQ21-1     0.003278 -0.001014 -0.002087 -0.002051 -0.001757   \n",
       "\n",
       "                      PC9996    PC9997    PC9998    PC9999  \n",
       "id_producto                                                 \n",
       "2792-88-LE21-1      0.007393  0.002471 -0.005525 -0.007172  \n",
       "1704-52-LP21-1      0.000571  0.001245  0.002235  0.002640  \n",
       "1003-20-L121-1     -0.002397 -0.001611  0.001624  0.001275  \n",
       "4236-21-L121-1      0.000530 -0.000897 -0.000263 -0.001258  \n",
       "4236-21-L121-2     -0.000798 -0.001101  0.000727 -0.000767  \n",
       "...                      ...       ...       ...       ...  \n",
       "1058141-35-LQ21-1  -0.000694 -0.000421  0.001323 -0.000003  \n",
       "1058141-35-LQ21-4   0.000175 -0.000633  0.000123 -0.000068  \n",
       "1173455-12-LE21-41  0.000350 -0.000107  0.000264  0.000827  \n",
       "1057461-64-LE21-17 -0.000263 -0.000999  0.000172 -0.000017  \n",
       "4309-381-LQ21-1     0.003888  0.001618  0.000704 -0.002396  \n",
       "\n",
       "[54849 rows x 10113 columns]"
      ]
     },
     "execution_count": 11,
     "metadata": {},
     "output_type": "execute_result"
    }
   ],
   "source": [
    "#X.index = X['id_producto']\n",
    "#X.drop(columns=['id_producto'], inplace=True)\n",
    "X"
   ]
  },
  {
   "cell_type": "markdown",
   "metadata": {},
   "source": [
    "## Entrenamiento con variable descripción transformada en array de palabras mediante nltk, bag of words y TF-IDF"
   ]
  },
  {
   "cell_type": "code",
   "execution_count": 5,
   "metadata": {},
   "outputs": [
    {
     "data": {
      "text/plain": [
       "{'objective': 'binary:logistic',\n",
       " 'use_label_encoder': False,\n",
       " 'base_score': None,\n",
       " 'booster': None,\n",
       " 'callbacks': None,\n",
       " 'colsample_bylevel': None,\n",
       " 'colsample_bynode': None,\n",
       " 'colsample_bytree': None,\n",
       " 'early_stopping_rounds': None,\n",
       " 'enable_categorical': False,\n",
       " 'eval_metric': None,\n",
       " 'gamma': None,\n",
       " 'gpu_id': None,\n",
       " 'grow_policy': None,\n",
       " 'importance_type': None,\n",
       " 'interaction_constraints': None,\n",
       " 'learning_rate': None,\n",
       " 'max_bin': None,\n",
       " 'max_cat_to_onehot': None,\n",
       " 'max_delta_step': None,\n",
       " 'max_depth': None,\n",
       " 'max_leaves': None,\n",
       " 'min_child_weight': None,\n",
       " 'missing': nan,\n",
       " 'monotone_constraints': None,\n",
       " 'n_estimators': 100,\n",
       " 'n_jobs': None,\n",
       " 'num_parallel_tree': None,\n",
       " 'predictor': None,\n",
       " 'random_state': None,\n",
       " 'reg_alpha': None,\n",
       " 'reg_lambda': None,\n",
       " 'sampling_method': None,\n",
       " 'scale_pos_weight': None,\n",
       " 'subsample': None,\n",
       " 'tree_method': None,\n",
       " 'validate_parameters': None,\n",
       " 'verbosity': None}"
      ]
     },
     "execution_count": 5,
     "metadata": {},
     "output_type": "execute_result"
    }
   ],
   "source": [
    "xgbmodel = XGBClassifier()\n",
    "xgbmodel.get_params()"
   ]
  },
  {
   "cell_type": "code",
   "execution_count": 9,
   "metadata": {},
   "outputs": [],
   "source": [
    "######## version simple que corre con CV = 2\n",
    "params={ 'base_score': [0.5], # prediccion inicial\n",
    "     #'booster': ['gbtree'],# (gbtree, gblinear, dart)\n",
    "     'colsample_bylevel': [1],\n",
    "     'colsample_bytree': [0.8], #aletoreidad en selección de columnas de cada arbol\n",
    "     'learning_rate': [0.05], # \n",
    "     'max_depth': [4], # default=6\n",
    "     #'max_leaves': [5,10], #default=0\n",
    "     'min_child_weight': [1], # minimo numero samples por hoja\n",
    "     #'missing': [np.nan], # si queremos reemplazar los missings por un numero\n",
    "     #'n_estimators': [100,200], # default=100 numero de arboles [100,150,200,250,300,350,400]\n",
    "     'n_jobs': [-1], # trabajos en paralelo\n",
    "     #'predictor': ['gpu_predictor'], #default=auto  --- Prediction using GPU. Used when tree_method is gpu_hist. only recommended for performing prediction tasks.\n",
    "     'random_state': [0], # seed para generar los folds\n",
    "     'reg_alpha': [0.01], # L1 regularitacion\n",
    "     'reg_lambda': [0.01], # L2 regularitacion\n",
    "     'scale_pos_weight': [1], #default=1\n",
    "     #'tree_method': ['gpu_hist'], #default=auto ['gpu_hist'] utiliza gpu\n",
    "     'subsample': [0.9]} # ratio de muestras por cada arbol default=1"
   ]
  },
  {
   "cell_type": "code",
   "execution_count": 6,
   "metadata": {},
   "outputs": [],
   "source": [
    "##### versión de varios candidatos, mi equipo solo permite 3 utilizando memoria RAM\n",
    "params={ 'base_score': [0.5], # prediccion inicial\n",
    "     #'booster': ['gbtree'],# (gbtree, gblinear, dart) default=gbtree\n",
    "     'colsample_bylevel': [1],\n",
    "     'colsample_bytree': [0.8], #aletoreidad en selección de columnas de cada arbol\n",
    "     'learning_rate': [0.05], # [0.05,0.1,0.01]  muy relacionado con el numero de estimadores, preferible learning rate bajo 0.01 y 1000 estimadores por ejemplo\n",
    "     'max_depth': [4,6], #[2,3,4] [4,5,6]\n",
    "     #'max_leaves': [0,5], #[5,10]\n",
    "     'min_child_weight': [1], # minimo numero samples por hoja\n",
    "     #'missing': [np.nan], # si queremos reemplazar los missings por un numero\n",
    "     'n_estimators': [100], # [100,500] 100 es valor default de numero de arboles [100,150,200,250,300,350,400]\n",
    "     'n_jobs': [-1], # trabajos en paralelo\n",
    "     #'predictor': ['gpu_predictor'], #default=auto --- Prediction using GPU. Used when tree_method is gpu_hist. only recommended for performing prediction tasks.\n",
    "     'random_state': [0], # seed para generar los folds\n",
    "     'reg_alpha': [0.01], # L1 regularitacion\n",
    "     'reg_lambda': [0.01], # L2 regularitacion\n",
    "     'scale_pos_weight': [1],\n",
    "     #'tree_method': ['gpu_hist'], #default=auto ['gpu_hist'] utiliza gpu\n",
    "     'subsample': [0.9]} # ratio de muestras por cada arbol "
   ]
  },
  {
   "cell_type": "code",
   "execution_count": 7,
   "metadata": {},
   "outputs": [],
   "source": [
    "scoring = ['roc_auc']\n",
    "grid_solver = GridSearchCV(estimator = xgbmodel, # model to train\n",
    "                   param_grid = params,\n",
    "                   scoring = scoring,\n",
    "                   cv = 3,  # 3 soporta máx 1 iteracion de parametros , es decir 6 fits como mucho\n",
    "                   n_jobs=-1,\n",
    "                   refit = 'roc_auc',\n",
    "                   verbose = 2)"
   ]
  },
  {
   "cell_type": "code",
   "execution_count": 8,
   "metadata": {},
   "outputs": [
    {
     "name": "stdout",
     "output_type": "stream",
     "text": [
      "Fitting 3 folds for each of 2 candidates, totalling 6 fits\n"
     ]
    }
   ],
   "source": [
    "model_result_xgboost = grid_solver.fit(X_train_smote, y_train_smote)"
   ]
  },
  {
   "cell_type": "markdown",
   "metadata": {},
   "source": [
    "### Resultados 7 iteración: variables categoricas filtradas con CatBoost + campo descripción  representado por su vectorización de bolsa de palabras que a su vez está transformado a PCA para reducir su dimensionalidad"
   ]
  },
  {
   "cell_type": "code",
   "execution_count": 5,
   "metadata": {},
   "outputs": [],
   "source": [
    "X_train_smote = np.array(X_train_smote)\n",
    "y_train_smote = np.array(y_train_smote)"
   ]
  },
  {
   "cell_type": "code",
   "execution_count": 6,
   "metadata": {},
   "outputs": [],
   "source": [
    "dtrain = xgb.DMatrix(X_train_smote, y_train_smote)\n",
    "dtest = xgb.DMatrix(X_test, y_test)"
   ]
  },
  {
   "cell_type": "code",
   "execution_count": 10,
   "metadata": {},
   "outputs": [
    {
     "data": {
      "text/plain": [
       "{'objective': 'binary:logistic',\n",
       " 'use_label_encoder': False,\n",
       " 'base_score': [0.5],\n",
       " 'booster': None,\n",
       " 'callbacks': None,\n",
       " 'colsample_bylevel': [1],\n",
       " 'colsample_bynode': None,\n",
       " 'colsample_bytree': [0.8],\n",
       " 'early_stopping_rounds': None,\n",
       " 'enable_categorical': False,\n",
       " 'eval_metric': None,\n",
       " 'gamma': None,\n",
       " 'gpu_id': None,\n",
       " 'grow_policy': None,\n",
       " 'importance_type': None,\n",
       " 'interaction_constraints': None,\n",
       " 'learning_rate': [0.05],\n",
       " 'max_bin': None,\n",
       " 'max_cat_to_onehot': None,\n",
       " 'max_delta_step': None,\n",
       " 'max_depth': [6],\n",
       " 'max_leaves': None,\n",
       " 'min_child_weight': [1],\n",
       " 'missing': nan,\n",
       " 'monotone_constraints': None,\n",
       " 'n_estimators': [500],\n",
       " 'n_jobs': [-1],\n",
       " 'num_parallel_tree': None,\n",
       " 'predictor': None,\n",
       " 'random_state': [0],\n",
       " 'reg_alpha': [0.01],\n",
       " 'reg_lambda': [0.01],\n",
       " 'sampling_method': None,\n",
       " 'scale_pos_weight': [1],\n",
       " 'subsample': [0.9],\n",
       " 'tree_method': None,\n",
       " 'validate_parameters': None,\n",
       " 'verbosity': None}"
      ]
     },
     "execution_count": 10,
     "metadata": {},
     "output_type": "execute_result"
    }
   ],
   "source": [
    "xgb = XGBClassifier(base_score= [0.5], # prediccion inicial\n",
    "     #'booster': ['gbtree'],# (gbtree, gblinear, dart) default=gbtree\n",
    "     colsample_bylevel= [1],\n",
    "     colsample_bytree= [0.8], #aletoreidad en selección de columnas de cada arbol\n",
    "     learning_rate= [0.05], # [0.05,0.1,0.01]  muy relacionado con el numero de estimadores, preferible learning rate bajo 0.01 y 1000 estimadores por ejemplo\n",
    "     max_depth= [6], #[2,3,4] [4,5,6]\n",
    "     #'max_leaves': [0,5], #[5,10]\n",
    "     min_child_weight= [1], # minimo numero samples por hoja\n",
    "     #'missing': [np.nan], # si queremos reemplazar los missings por un numero\n",
    "     n_estimators= [500], # [100,500] 100 es valor default de numero de arboles [100,150,200,250,300,350,400]\n",
    "     n_jobs= [-1], # trabajos en paralelo\n",
    "     #'predictor': ['gpu_predictor'], #default=auto --- Prediction using GPU. Used when tree_method is gpu_hist. only recommended for performing prediction tasks.\n",
    "     random_state= [0], # seed para generar los folds\n",
    "     reg_alpha= [0.01], # L1 regularitacion\n",
    "     reg_lambda= [0.01], # L2 regularitacion\n",
    "     scale_pos_weight= [1],\n",
    "     #'tree_method': ['gpu_hist'], #default=auto ['gpu_hist'] utiliza gpu\n",
    "     subsample= [0.9])\n",
    "xgbmodel.get_params()"
   ]
  },
  {
   "cell_type": "code",
   "execution_count": 27,
   "metadata": {},
   "outputs": [],
   "source": [
    "##### los mejores parámetros hasta el momento\n",
    "params={ 'base_score': 0.5, # prediccion inicial\n",
    "     #'booster': ['gbtree'],# (gbtree, gblinear, dart) default=gbtree\n",
    "     'colsample_bylevel': 1,\n",
    "     'colsample_bytree': 0.8, #aletoreidad en selección de columnas de cada arbol\n",
    "     'learning_rate': 0.05, # [0.05,0.1,0.01]  muy relacionado con el numero de estimadores, preferible learning rate bajo 0.01 y 1000 estimadores por ejemplo\n",
    "     'max_depth': 6, #[2,3,4] [4,5,6]\n",
    "     #'max_leaves': [0,5], #[5,10]\n",
    "     'min_child_weight': 1, # minimo numero samples por hoja\n",
    "     #'missing': [np.nan], # si queremos reemplazar los missings por un numero\n",
    "     'n_estimators': 500, # [100,500] 100 es valor default de numero de arboles [100,150,200,250,300,350,400]\n",
    "     'n_jobs': -1, # trabajos en paralelo\n",
    "     #'predictor': ['gpu_predictor'], #default=auto --- Prediction using GPU. Used when tree_method is gpu_hist. only recommended for performing prediction tasks.\n",
    "     'random_state': 0, # seed para generar los folds\n",
    "     'reg_alpha': 0.01, # L1 regularitacion\n",
    "     'reg_lambda': 0.01, # L2 regularitacion\n",
    "     'scale_pos_weight': 1,\n",
    "     #'tree_method': ['gpu_hist'], #default=auto ['gpu_hist'] utiliza gpu\n",
    "     'subsample': 0.9} # ratio de muestras por cada arbol \n",
    "\n",
    "num_round = 150"
   ]
  },
  {
   "cell_type": "code",
   "execution_count": 28,
   "metadata": {},
   "outputs": [
    {
     "name": "stdout",
     "output_type": "stream",
     "text": [
      "[22:18:52] WARNING: C:/Users/Administrator/workspace/xgboost-win64_release_1.6.0/src/learner.cc:627: \n",
      "Parameters: { \"n_estimators\" } might not be used.\n",
      "\n",
      "  This could be a false alarm, with some parameters getting used by language bindings but\n",
      "  then being mistakenly passed down to XGBoost core, or some parameter actually being used\n",
      "  but getting flagged wrongly here. Please open an issue if you find any such cases.\n",
      "\n",
      "\n"
     ]
    }
   ],
   "source": [
    "model = xgb.train(params, dtrain, num_round)"
   ]
  },
  {
   "cell_type": "code",
   "execution_count": 29,
   "metadata": {},
   "outputs": [
    {
     "data": {
      "text/plain": [
       "149"
      ]
     },
     "execution_count": 29,
     "metadata": {},
     "output_type": "execute_result"
    }
   ],
   "source": [
    "model.best_iteration"
   ]
  },
  {
   "cell_type": "code",
   "execution_count": 30,
   "metadata": {},
   "outputs": [
    {
     "name": "stdout",
     "output_type": "stream",
     "text": [
      "0.9800173050362897\n",
      "0.9047629432836451\n"
     ]
    }
   ],
   "source": [
    "y_pred_probab = model.predict(dtest)\n",
    "\n",
    "auc = roc_auc_score(y_test, y_pred_probab)\n",
    "aps = average_precision_score(y_test, y_pred_probab)\n",
    "\n",
    "print(auc)\n",
    "print(aps)"
   ]
  },
  {
   "cell_type": "code",
   "execution_count": 31,
   "metadata": {},
   "outputs": [
    {
     "name": "stdout",
     "output_type": "stream",
     "text": [
      "Test AUROC 0.9800173050362897\n",
      "Classification report with Threshold=0.5\n",
      "              precision    recall  f1-score   support\n",
      "\n",
      "           0       0.98      0.98      0.98     16123\n",
      "           1       0.86      0.82      0.84      1978\n",
      "\n",
      "    accuracy                           0.97     18101\n",
      "   macro avg       0.92      0.90      0.91     18101\n",
      "weighted avg       0.96      0.97      0.97     18101\n",
      "\n"
     ]
    },
    {
     "data": {
      "image/png": "[encoded data removed]",
      "text/plain": [
       "<Figure size 432x288 with 2 Axes>"
      ]
     },
     "metadata": {
      "needs_background": "light"
     },
     "output_type": "display_data"
    }
   ],
   "source": [
    "y_pred= (y_pred_probab>0.5)*1\n",
    "print('Test AUROC',auc)\n",
    "print('Classification report with Threshold=0.5')\n",
    "print(classification_report(y_test,y_pred,target_names=['0','1']))\n",
    "cm = confusion_matrix(y_test,y_pred) #Matriz\n",
    "disp = ConfusionMatrixDisplay(confusion_matrix=cm)\n",
    "disp.plot()\n",
    "plt.show()\n"
   ]
  },
  {
   "cell_type": "code",
   "execution_count": 32,
   "metadata": {},
   "outputs": [
    {
     "data": {
      "text/plain": [
       "'c:\\\\Users\\\\metal\\\\Trabajos Bootcamp\\\\Proyecto Final\\\\juanito_v2.0\\\\Modelos'"
      ]
     },
     "execution_count": 32,
     "metadata": {},
     "output_type": "execute_result"
    }
   ],
   "source": [
    "#os.chdir('Datos')\n",
    "#os.chdir('../')\n",
    "#os.chdir('Modelos')\n",
    "os.chdir('../Modelos')\n",
    "os.getcwd()"
   ]
  },
  {
   "cell_type": "code",
   "execution_count": 26,
   "metadata": {},
   "outputs": [],
   "source": [
    "fh = open('m_XGBoost_PCA_v5','wb')\n",
    "#fh = open('df_smote30_train_test(redux).pkl','wb')\n",
    "pickle.dump(model,fh)\n",
    "fh.close()"
   ]
  },
  {
   "cell_type": "markdown",
   "metadata": {},
   "source": [
    "### Resultados 6 iteración"
   ]
  },
  {
   "cell_type": "code",
   "execution_count": null,
   "metadata": {},
   "outputs": [],
   "source": [
    "##### versión de varios candidatos, mi equipo solo permite 3 utilizando memoria RAM\n",
    "params={ 'base_score': [0.5], # prediccion inicial\n",
    "     #'booster': ['gbtree'],# (gbtree, gblinear, dart) default=gbtree\n",
    "     'colsample_bylevel': [1],\n",
    "     'colsample_bytree': [0.8], #aletoreidad en selección de columnas de cada arbol\n",
    "     'learning_rate': [0.05], # [0.05,0.1,0.01]  muy relacionado con el numero de estimadores, preferible learning rate bajo 0.01 y 1000 estimadores por ejemplo\n",
    "     'max_depth': [4,6], #[2,3,4] [4,5,6]\n",
    "     #'max_leaves': [0,5], #[5,10]\n",
    "     'min_child_weight': [1], # minimo numero samples por hoja\n",
    "     #'missing': [np.nan], # si queremos reemplazar los missings por un numero\n",
    "     'n_estimators': [100], # [100,500] 100 es valor default de numero de arboles [100,150,200,250,300,350,400]\n",
    "     'n_jobs': [-1], # trabajos en paralelo\n",
    "     #'predictor': ['gpu_predictor'], #default=auto --- Prediction using GPU. Used when tree_method is gpu_hist. only recommended for performing prediction tasks.\n",
    "     'random_state': [0], # seed para generar los folds\n",
    "     'reg_alpha': [0.01], # L1 regularitacion\n",
    "     'reg_lambda': [0.01], # L2 regularitacion\n",
    "     'scale_pos_weight': [1],\n",
    "     #'tree_method': ['gpu_hist'], #default=auto ['gpu_hist'] utiliza gpu\n",
    "     'subsample': [0.9]} # ratio de muestras por cada arbol "
   ]
  },
  {
   "cell_type": "code",
   "execution_count": 9,
   "metadata": {},
   "outputs": [
    {
     "data": {
      "text/html": [
       "<div>\n",
       "<style scoped>\n",
       "    .dataframe tbody tr th:only-of-type {\n",
       "        vertical-align: middle;\n",
       "    }\n",
       "\n",
       "    .dataframe tbody tr th {\n",
       "        vertical-align: top;\n",
       "    }\n",
       "\n",
       "    .dataframe thead th {\n",
       "        text-align: right;\n",
       "    }\n",
       "</style>\n",
       "<table border=\"1\" class=\"dataframe\">\n",
       "  <thead>\n",
       "    <tr style=\"text-align: right;\">\n",
       "      <th></th>\n",
       "      <th>mean_fit_time</th>\n",
       "      <th>std_fit_time</th>\n",
       "      <th>mean_score_time</th>\n",
       "      <th>std_score_time</th>\n",
       "      <th>param_base_score</th>\n",
       "      <th>param_colsample_bylevel</th>\n",
       "      <th>param_colsample_bytree</th>\n",
       "      <th>param_learning_rate</th>\n",
       "      <th>param_max_depth</th>\n",
       "      <th>param_min_child_weight</th>\n",
       "      <th>...</th>\n",
       "      <th>param_reg_lambda</th>\n",
       "      <th>param_scale_pos_weight</th>\n",
       "      <th>param_subsample</th>\n",
       "      <th>params</th>\n",
       "      <th>split0_test_roc_auc</th>\n",
       "      <th>split1_test_roc_auc</th>\n",
       "      <th>split2_test_roc_auc</th>\n",
       "      <th>mean_test_roc_auc</th>\n",
       "      <th>std_test_roc_auc</th>\n",
       "      <th>rank_test_roc_auc</th>\n",
       "    </tr>\n",
       "  </thead>\n",
       "  <tbody>\n",
       "    <tr>\n",
       "      <th>0</th>\n",
       "      <td>5103.547629</td>\n",
       "      <td>134.571795</td>\n",
       "      <td>26.277997</td>\n",
       "      <td>10.214105</td>\n",
       "      <td>0.5</td>\n",
       "      <td>1</td>\n",
       "      <td>0.8</td>\n",
       "      <td>0.05</td>\n",
       "      <td>4</td>\n",
       "      <td>1</td>\n",
       "      <td>...</td>\n",
       "      <td>0.01</td>\n",
       "      <td>1</td>\n",
       "      <td>0.9</td>\n",
       "      <td>{'base_score': 0.5, 'colsample_bylevel': 1, 'c...</td>\n",
       "      <td>0.959360</td>\n",
       "      <td>0.968947</td>\n",
       "      <td>0.975112</td>\n",
       "      <td>0.967806</td>\n",
       "      <td>0.006481</td>\n",
       "      <td>2</td>\n",
       "    </tr>\n",
       "    <tr>\n",
       "      <th>1</th>\n",
       "      <td>5678.290452</td>\n",
       "      <td>51.942058</td>\n",
       "      <td>16.448121</td>\n",
       "      <td>1.128203</td>\n",
       "      <td>0.5</td>\n",
       "      <td>1</td>\n",
       "      <td>0.8</td>\n",
       "      <td>0.05</td>\n",
       "      <td>6</td>\n",
       "      <td>1</td>\n",
       "      <td>...</td>\n",
       "      <td>0.01</td>\n",
       "      <td>1</td>\n",
       "      <td>0.9</td>\n",
       "      <td>{'base_score': 0.5, 'colsample_bylevel': 1, 'c...</td>\n",
       "      <td>0.972429</td>\n",
       "      <td>0.979735</td>\n",
       "      <td>0.984869</td>\n",
       "      <td>0.979011</td>\n",
       "      <td>0.005104</td>\n",
       "      <td>1</td>\n",
       "    </tr>\n",
       "  </tbody>\n",
       "</table>\n",
       "<p>2 rows × 24 columns</p>\n",
       "</div>"
      ],
      "text/plain": [
       "   mean_fit_time  std_fit_time  mean_score_time  std_score_time  \\\n",
       "0    5103.547629    134.571795        26.277997       10.214105   \n",
       "1    5678.290452     51.942058        16.448121        1.128203   \n",
       "\n",
       "  param_base_score param_colsample_bylevel param_colsample_bytree  \\\n",
       "0              0.5                       1                    0.8   \n",
       "1              0.5                       1                    0.8   \n",
       "\n",
       "  param_learning_rate param_max_depth param_min_child_weight  ...  \\\n",
       "0                0.05               4                      1  ...   \n",
       "1                0.05               6                      1  ...   \n",
       "\n",
       "  param_reg_lambda param_scale_pos_weight param_subsample  \\\n",
       "0             0.01                      1             0.9   \n",
       "1             0.01                      1             0.9   \n",
       "\n",
       "                                              params split0_test_roc_auc  \\\n",
       "0  {'base_score': 0.5, 'colsample_bylevel': 1, 'c...            0.959360   \n",
       "1  {'base_score': 0.5, 'colsample_bylevel': 1, 'c...            0.972429   \n",
       "\n",
       "  split1_test_roc_auc split2_test_roc_auc mean_test_roc_auc  std_test_roc_auc  \\\n",
       "0            0.968947            0.975112          0.967806          0.006481   \n",
       "1            0.979735            0.984869          0.979011          0.005104   \n",
       "\n",
       "   rank_test_roc_auc  \n",
       "0                  2  \n",
       "1                  1  \n",
       "\n",
       "[2 rows x 24 columns]"
      ]
     },
     "execution_count": 9,
     "metadata": {},
     "output_type": "execute_result"
    }
   ],
   "source": [
    "results_cv=model_result_xgboost.cv_results_\n",
    "results=pd.DataFrame(results_cv)\n",
    "results.head()"
   ]
  },
  {
   "cell_type": "code",
   "execution_count": 10,
   "metadata": {},
   "outputs": [
    {
     "data": {
      "text/plain": [
       "XGBClassifier(base_score=0.5, booster='gbtree', callbacks=None,\n",
       "              colsample_bylevel=1, colsample_bynode=1, colsample_bytree=0.8,\n",
       "              early_stopping_rounds=None, enable_categorical=False,\n",
       "              eval_metric=None, gamma=0, gpu_id=-1, grow_policy='depthwise',\n",
       "              importance_type=None, interaction_constraints='',\n",
       "              learning_rate=0.05, max_bin=256, max_cat_to_onehot=4,\n",
       "              max_delta_step=0, max_depth=6, max_leaves=0, min_child_weight=1,\n",
       "              missing=nan, monotone_constraints='()', n_estimators=100,\n",
       "              n_jobs=-1, num_parallel_tree=1, predictor='auto', random_state=0,\n",
       "              reg_alpha=0.01, reg_lambda=0.01, ...)"
      ]
     },
     "execution_count": 10,
     "metadata": {},
     "output_type": "execute_result"
    }
   ],
   "source": [
    "model_result_xgboost.best_estimator_"
   ]
  },
  {
   "cell_type": "code",
   "execution_count": 11,
   "metadata": {},
   "outputs": [
    {
     "data": {
      "image/png": "[encoded data removed]",
      "text/plain": [
       "<Figure size 432x288 with 1 Axes>"
      ]
     },
     "metadata": {
      "needs_background": "light"
     },
     "output_type": "display_data"
    },
    {
     "name": "stdout",
     "output_type": "stream",
     "text": [
      "Train AUC 0.9877163150673188\n",
      "              precision    recall  f1-score   support\n",
      "\n",
      "           0       0.95      0.99      0.97     31010\n",
      "           1       0.95      0.84      0.89      9303\n",
      "\n",
      "    accuracy                           0.95     40313\n",
      "   macro avg       0.95      0.91      0.93     40313\n",
      "weighted avg       0.95      0.95      0.95     40313\n",
      "\n"
     ]
    },
    {
     "data": {
      "image/png": "[encoded data removed]",
      "text/plain": [
       "<Figure size 432x288 with 2 Axes>"
      ]
     },
     "metadata": {
      "needs_background": "light"
     },
     "output_type": "display_data"
    },
    {
     "name": "stdout",
     "output_type": "stream",
     "text": [
      "Test AUC 0.9654489594414308\n",
      "              precision    recall  f1-score   support\n",
      "\n",
      "           0       0.97      0.98      0.97     15260\n",
      "           1       0.81      0.71      0.76      1784\n",
      "\n",
      "    accuracy                           0.95     17044\n",
      "   macro avg       0.89      0.85      0.87     17044\n",
      "weighted avg       0.95      0.95      0.95     17044\n",
      "\n"
     ]
    },
    {
     "data": {
      "image/png": "[encoded data removed]",
      "text/plain": [
       "<Figure size 432x288 with 2 Axes>"
      ]
     },
     "metadata": {
      "needs_background": "light"
     },
     "output_type": "display_data"
    }
   ],
   "source": [
    "metrics(model_result_xgboost.best_estimator_, X_train_smote, X_test, y_train_smote, y_test, thr=0.5)"
   ]
  },
  {
   "cell_type": "code",
   "execution_count": 7,
   "metadata": {},
   "outputs": [
    {
     "data": {
      "text/plain": [
       "'c:\\\\Users\\\\metal\\\\Trabajos Bootcamp\\\\Proyecto Final\\\\juanito_v2.0\\\\Modelos'"
      ]
     },
     "execution_count": 7,
     "metadata": {},
     "output_type": "execute_result"
    }
   ],
   "source": [
    "#os.chdir(r'C:\\Users\\metal\\Trabajos Bootcamp\\Proyecto Final\\juanito_v2.0\\Modelos')\n",
    "os.chdir('../')\n",
    "os.chdir('Modelos')\n",
    "os.getcwd()"
   ]
  },
  {
   "cell_type": "code",
   "execution_count": 13,
   "metadata": {},
   "outputs": [],
   "source": [
    "fh = open('m_XGBoost_PCA_v4','wb')\n",
    "#fh = open('df_smote30_train_test(redux).pkl','wb')\n",
    "pickle.dump(model_result_xgboost,fh)\n",
    "fh.close()"
   ]
  },
  {
   "cell_type": "markdown",
   "metadata": {},
   "source": [
    "### Resultados 5 iteración"
   ]
  },
  {
   "cell_type": "code",
   "execution_count": 30,
   "metadata": {},
   "outputs": [
    {
     "data": {
      "text/html": [
       "<div>\n",
       "<style scoped>\n",
       "    .dataframe tbody tr th:only-of-type {\n",
       "        vertical-align: middle;\n",
       "    }\n",
       "\n",
       "    .dataframe tbody tr th {\n",
       "        vertical-align: top;\n",
       "    }\n",
       "\n",
       "    .dataframe thead th {\n",
       "        text-align: right;\n",
       "    }\n",
       "</style>\n",
       "<table border=\"1\" class=\"dataframe\">\n",
       "  <thead>\n",
       "    <tr style=\"text-align: right;\">\n",
       "      <th></th>\n",
       "      <th>mean_fit_time</th>\n",
       "      <th>std_fit_time</th>\n",
       "      <th>mean_score_time</th>\n",
       "      <th>std_score_time</th>\n",
       "      <th>param_base_score</th>\n",
       "      <th>param_colsample_bylevel</th>\n",
       "      <th>param_colsample_bytree</th>\n",
       "      <th>param_learning_rate</th>\n",
       "      <th>param_max_depth</th>\n",
       "      <th>param_min_child_weight</th>\n",
       "      <th>...</th>\n",
       "      <th>param_reg_lambda</th>\n",
       "      <th>param_scale_pos_weight</th>\n",
       "      <th>param_subsample</th>\n",
       "      <th>params</th>\n",
       "      <th>split0_test_roc_auc</th>\n",
       "      <th>split1_test_roc_auc</th>\n",
       "      <th>split2_test_roc_auc</th>\n",
       "      <th>mean_test_roc_auc</th>\n",
       "      <th>std_test_roc_auc</th>\n",
       "      <th>rank_test_roc_auc</th>\n",
       "    </tr>\n",
       "  </thead>\n",
       "  <tbody>\n",
       "    <tr>\n",
       "      <th>0</th>\n",
       "      <td>5167.073905</td>\n",
       "      <td>35.639344</td>\n",
       "      <td>24.342004</td>\n",
       "      <td>4.786176</td>\n",
       "      <td>0.5</td>\n",
       "      <td>1</td>\n",
       "      <td>0.8</td>\n",
       "      <td>0.05</td>\n",
       "      <td>4</td>\n",
       "      <td>1</td>\n",
       "      <td>...</td>\n",
       "      <td>0.01</td>\n",
       "      <td>1</td>\n",
       "      <td>0.9</td>\n",
       "      <td>{'base_score': 0.5, 'colsample_bylevel': 1, 'c...</td>\n",
       "      <td>0.960837</td>\n",
       "      <td>0.969944</td>\n",
       "      <td>0.973237</td>\n",
       "      <td>0.968006</td>\n",
       "      <td>0.005245</td>\n",
       "      <td>2</td>\n",
       "    </tr>\n",
       "    <tr>\n",
       "      <th>1</th>\n",
       "      <td>16874.396545</td>\n",
       "      <td>1423.178192</td>\n",
       "      <td>18.572857</td>\n",
       "      <td>5.745100</td>\n",
       "      <td>0.5</td>\n",
       "      <td>1</td>\n",
       "      <td>0.8</td>\n",
       "      <td>0.05</td>\n",
       "      <td>4</td>\n",
       "      <td>1</td>\n",
       "      <td>...</td>\n",
       "      <td>0.01</td>\n",
       "      <td>1</td>\n",
       "      <td>0.9</td>\n",
       "      <td>{'base_score': 0.5, 'colsample_bylevel': 1, 'c...</td>\n",
       "      <td>0.981924</td>\n",
       "      <td>0.990718</td>\n",
       "      <td>0.993066</td>\n",
       "      <td>0.988569</td>\n",
       "      <td>0.004796</td>\n",
       "      <td>1</td>\n",
       "    </tr>\n",
       "  </tbody>\n",
       "</table>\n",
       "<p>2 rows × 24 columns</p>\n",
       "</div>"
      ],
      "text/plain": [
       "   mean_fit_time  std_fit_time  mean_score_time  std_score_time  \\\n",
       "0    5167.073905     35.639344        24.342004        4.786176   \n",
       "1   16874.396545   1423.178192        18.572857        5.745100   \n",
       "\n",
       "  param_base_score param_colsample_bylevel param_colsample_bytree  \\\n",
       "0              0.5                       1                    0.8   \n",
       "1              0.5                       1                    0.8   \n",
       "\n",
       "  param_learning_rate param_max_depth param_min_child_weight  ...  \\\n",
       "0                0.05               4                      1  ...   \n",
       "1                0.05               4                      1  ...   \n",
       "\n",
       "  param_reg_lambda param_scale_pos_weight param_subsample  \\\n",
       "0             0.01                      1             0.9   \n",
       "1             0.01                      1             0.9   \n",
       "\n",
       "                                              params split0_test_roc_auc  \\\n",
       "0  {'base_score': 0.5, 'colsample_bylevel': 1, 'c...            0.960837   \n",
       "1  {'base_score': 0.5, 'colsample_bylevel': 1, 'c...            0.981924   \n",
       "\n",
       "  split1_test_roc_auc split2_test_roc_auc mean_test_roc_auc  std_test_roc_auc  \\\n",
       "0            0.969944            0.973237          0.968006          0.005245   \n",
       "1            0.990718            0.993066          0.988569          0.004796   \n",
       "\n",
       "   rank_test_roc_auc  \n",
       "0                  2  \n",
       "1                  1  \n",
       "\n",
       "[2 rows x 24 columns]"
      ]
     },
     "execution_count": 30,
     "metadata": {},
     "output_type": "execute_result"
    }
   ],
   "source": [
    "results_cv=model_result_xgboost.cv_results_\n",
    "results=pd.DataFrame(results_cv)\n",
    "results.head()"
   ]
  },
  {
   "cell_type": "code",
   "execution_count": 32,
   "metadata": {},
   "outputs": [
    {
     "data": {
      "text/plain": [
       "XGBClassifier(base_score=0.5, booster='gbtree', callbacks=None,\n",
       "              colsample_bylevel=1, colsample_bynode=1, colsample_bytree=0.8,\n",
       "              early_stopping_rounds=None, enable_categorical=False,\n",
       "              eval_metric=None, gamma=0, gpu_id=-1, grow_policy='depthwise',\n",
       "              importance_type=None, interaction_constraints='',\n",
       "              learning_rate=0.05, max_bin=256, max_cat_to_onehot=4,\n",
       "              max_delta_step=0, max_depth=4, max_leaves=0, min_child_weight=1,\n",
       "              missing=nan, monotone_constraints='()', n_estimators=500,\n",
       "              n_jobs=-1, num_parallel_tree=1, predictor='auto', random_state=0,\n",
       "              reg_alpha=0.01, reg_lambda=0.01, ...)"
      ]
     },
     "execution_count": 32,
     "metadata": {},
     "output_type": "execute_result"
    }
   ],
   "source": [
    "model_result_xgboost.best_estimator_"
   ]
  },
  {
   "cell_type": "code",
   "execution_count": 31,
   "metadata": {},
   "outputs": [
    {
     "data": {
      "image/png": "[encoded data removed]",
      "text/plain": [
       "<Figure size 432x288 with 1 Axes>"
      ]
     },
     "metadata": {
      "needs_background": "light"
     },
     "output_type": "display_data"
    },
    {
     "name": "stdout",
     "output_type": "stream",
     "text": [
      "Train AUC 0.9973535789583989\n",
      "              precision    recall  f1-score   support\n",
      "\n",
      "           0       0.99      0.99      0.99     31010\n",
      "           1       0.97      0.95      0.96      9303\n",
      "\n",
      "    accuracy                           0.98     40313\n",
      "   macro avg       0.98      0.97      0.97     40313\n",
      "weighted avg       0.98      0.98      0.98     40313\n",
      "\n"
     ]
    },
    {
     "data": {
      "image/png": "[encoded data removed]",
      "text/plain": [
       "<Figure size 432x288 with 2 Axes>"
      ]
     },
     "metadata": {
      "needs_background": "light"
     },
     "output_type": "display_data"
    },
    {
     "name": "stdout",
     "output_type": "stream",
     "text": [
      "Test AUC 0.9743793123967817\n",
      "              precision    recall  f1-score   support\n",
      "\n",
      "           0       0.97      0.98      0.98     15260\n",
      "           1       0.82      0.74      0.78      1784\n",
      "\n",
      "    accuracy                           0.96     17044\n",
      "   macro avg       0.89      0.86      0.88     17044\n",
      "weighted avg       0.95      0.96      0.95     17044\n",
      "\n"
     ]
    },
    {
     "data": {
      "image/png": "[encoded data removed]",
      "text/plain": [
       "<Figure size 432x288 with 2 Axes>"
      ]
     },
     "metadata": {
      "needs_background": "light"
     },
     "output_type": "display_data"
    }
   ],
   "source": [
    "metrics(model_result_xgboost.best_estimator_, X_train_smote, X_test, y_train_smote, y_test, thr=0.5)"
   ]
  },
  {
   "cell_type": "code",
   "execution_count": 33,
   "metadata": {},
   "outputs": [
    {
     "data": {
      "text/plain": [
       "'C:\\\\Users\\\\metal\\\\Trabajos Bootcamp\\\\Proyecto Final\\\\juanito_v2.0\\\\Modelos'"
      ]
     },
     "execution_count": 33,
     "metadata": {},
     "output_type": "execute_result"
    }
   ],
   "source": [
    "#os.chdir(r'C:\\Users\\metal\\Trabajos Bootcamp\\Proyecto Final\\juanito_v2.0\\Modelos')\n",
    "os.chdir('../')\n",
    "os.chdir('Modelos')\n",
    "os.getcwd()"
   ]
  },
  {
   "cell_type": "code",
   "execution_count": 34,
   "metadata": {},
   "outputs": [],
   "source": [
    "fh = open('m_XGBoost_PCA_v3','wb')\n",
    "#fh = open('df_smote30_train_test(redux).pkl','wb')\n",
    "pickle.dump(model_result_xgboost,fh)\n",
    "fh.close()"
   ]
  },
  {
   "cell_type": "markdown",
   "metadata": {},
   "source": [
    "### Resultados 4ta iteración"
   ]
  },
  {
   "cell_type": "code",
   "execution_count": 27,
   "metadata": {},
   "outputs": [
    {
     "data": {
      "text/plain": [
       "{'base_score': 0.5,\n",
       " 'colsample_bylevel': 1,\n",
       " 'colsample_bytree': 0.8,\n",
       " 'learning_rate': 0.05,\n",
       " 'max_depth': 4,\n",
       " 'min_child_weight': 1,\n",
       " 'n_jobs': -1,\n",
       " 'random_state': 0,\n",
       " 'reg_alpha': 0.01,\n",
       " 'reg_lambda': 0.01,\n",
       " 'scale_pos_weight': 1,\n",
       " 'subsample': 0.9}"
      ]
     },
     "execution_count": 27,
     "metadata": {},
     "output_type": "execute_result"
    }
   ],
   "source": [
    "model_result_xgboost.best_params_"
   ]
  },
  {
   "cell_type": "code",
   "execution_count": 28,
   "metadata": {},
   "outputs": [
    {
     "data": {
      "text/plain": [
       "{'mean_fit_time': array([2600.61831212, 3223.84113348, 3448.41549671]),\n",
       " 'std_fit_time': array([328.87866902,  59.42346442,  62.57965052]),\n",
       " 'mean_score_time': array([101.2131778 ,  38.88206875,  34.0226016 ]),\n",
       " 'std_score_time': array([29.12381828, 11.23477924,  1.1862638 ]),\n",
       " 'param_base_score': masked_array(data=[0.5, 0.5, 0.5],\n",
       "              mask=[False, False, False],\n",
       "        fill_value='?',\n",
       "             dtype=object),\n",
       " 'param_colsample_bylevel': masked_array(data=[1, 1, 1],\n",
       "              mask=[False, False, False],\n",
       "        fill_value='?',\n",
       "             dtype=object),\n",
       " 'param_colsample_bytree': masked_array(data=[0.8, 0.8, 0.8],\n",
       "              mask=[False, False, False],\n",
       "        fill_value='?',\n",
       "             dtype=object),\n",
       " 'param_learning_rate': masked_array(data=[0.05, 0.05, 0.05],\n",
       "              mask=[False, False, False],\n",
       "        fill_value='?',\n",
       "             dtype=object),\n",
       " 'param_max_depth': masked_array(data=[2, 3, 4],\n",
       "              mask=[False, False, False],\n",
       "        fill_value='?',\n",
       "             dtype=object),\n",
       " 'param_min_child_weight': masked_array(data=[1, 1, 1],\n",
       "              mask=[False, False, False],\n",
       "        fill_value='?',\n",
       "             dtype=object),\n",
       " 'param_n_jobs': masked_array(data=[-1, -1, -1],\n",
       "              mask=[False, False, False],\n",
       "        fill_value='?',\n",
       "             dtype=object),\n",
       " 'param_random_state': masked_array(data=[0, 0, 0],\n",
       "              mask=[False, False, False],\n",
       "        fill_value='?',\n",
       "             dtype=object),\n",
       " 'param_reg_alpha': masked_array(data=[0.01, 0.01, 0.01],\n",
       "              mask=[False, False, False],\n",
       "        fill_value='?',\n",
       "             dtype=object),\n",
       " 'param_reg_lambda': masked_array(data=[0.01, 0.01, 0.01],\n",
       "              mask=[False, False, False],\n",
       "        fill_value='?',\n",
       "             dtype=object),\n",
       " 'param_scale_pos_weight': masked_array(data=[1, 1, 1],\n",
       "              mask=[False, False, False],\n",
       "        fill_value='?',\n",
       "             dtype=object),\n",
       " 'param_subsample': masked_array(data=[0.9, 0.9, 0.9],\n",
       "              mask=[False, False, False],\n",
       "        fill_value='?',\n",
       "             dtype=object),\n",
       " 'params': [{'base_score': 0.5,\n",
       "   'colsample_bylevel': 1,\n",
       "   'colsample_bytree': 0.8,\n",
       "   'learning_rate': 0.05,\n",
       "   'max_depth': 2,\n",
       "   'min_child_weight': 1,\n",
       "   'n_jobs': -1,\n",
       "   'random_state': 0,\n",
       "   'reg_alpha': 0.01,\n",
       "   'reg_lambda': 0.01,\n",
       "   'scale_pos_weight': 1,\n",
       "   'subsample': 0.9},\n",
       "  {'base_score': 0.5,\n",
       "   'colsample_bylevel': 1,\n",
       "   'colsample_bytree': 0.8,\n",
       "   'learning_rate': 0.05,\n",
       "   'max_depth': 3,\n",
       "   'min_child_weight': 1,\n",
       "   'n_jobs': -1,\n",
       "   'random_state': 0,\n",
       "   'reg_alpha': 0.01,\n",
       "   'reg_lambda': 0.01,\n",
       "   'scale_pos_weight': 1,\n",
       "   'subsample': 0.9},\n",
       "  {'base_score': 0.5,\n",
       "   'colsample_bylevel': 1,\n",
       "   'colsample_bytree': 0.8,\n",
       "   'learning_rate': 0.05,\n",
       "   'max_depth': 4,\n",
       "   'min_child_weight': 1,\n",
       "   'n_jobs': -1,\n",
       "   'random_state': 0,\n",
       "   'reg_alpha': 0.01,\n",
       "   'reg_lambda': 0.01,\n",
       "   'scale_pos_weight': 1,\n",
       "   'subsample': 0.9}],\n",
       " 'split0_test_roc_auc': array([0.93739966, 0.95263275, 0.96156732]),\n",
       " 'split1_test_roc_auc': array([0.95116288, 0.96432093, 0.97196085]),\n",
       " 'mean_test_roc_auc': array([0.94428127, 0.95847684, 0.96676409]),\n",
       " 'std_test_roc_auc': array([0.00688161, 0.00584409, 0.00519676]),\n",
       " 'rank_test_roc_auc': array([3, 2, 1])}"
      ]
     },
     "execution_count": 28,
     "metadata": {},
     "output_type": "execute_result"
    }
   ],
   "source": [
    "model_result_xgboost.cv_results_"
   ]
  },
  {
   "cell_type": "code",
   "execution_count": 29,
   "metadata": {},
   "outputs": [
    {
     "data": {
      "text/plain": [
       "'C:\\\\Users\\\\metal\\\\Trabajos Bootcamp\\\\Proyecto Final\\\\juanito_v2.0\\\\Modelos'"
      ]
     },
     "execution_count": 29,
     "metadata": {},
     "output_type": "execute_result"
    }
   ],
   "source": [
    "os.getcwd()"
   ]
  },
  {
   "cell_type": "code",
   "execution_count": null,
   "metadata": {},
   "outputs": [
    {
     "data": {
      "text/plain": [
       "'C:\\\\Users\\\\metal\\\\Trabajos Bootcamp\\\\Proyecto Final\\\\juanito_v2.0\\\\Modelos'"
      ]
     },
     "metadata": {},
     "output_type": "display_data"
    }
   ],
   "source": [
    "#os.chdir(r'C:\\Users\\metal\\Trabajos Bootcamp\\Proyecto Final\\juanito_v2.0\\Modelos')\n",
    "os.chdir('../')\n",
    "os.chdir('Modelos')\n",
    "os.getcwd()"
   ]
  },
  {
   "cell_type": "code",
   "execution_count": 30,
   "metadata": {},
   "outputs": [],
   "source": [
    "fh = open('m_XGBoost_PCA_v2','wb')\n",
    "#fh = open('df_smote30_train_test(redux).pkl','wb')\n",
    "pickle.dump(model_result_xgboost,fh)\n",
    "fh.close()"
   ]
  },
  {
   "cell_type": "markdown",
   "metadata": {},
   "source": [
    "### si queremos retomar algun modelo ya entrenado para analizar sus metricas"
   ]
  },
  {
   "cell_type": "code",
   "execution_count": null,
   "metadata": {},
   "outputs": [],
   "source": [
    "#os.chdir(r'C:\\Users\\metal\\Trabajos Bootcamp\\Proyecto Final\\juanito_v2.0\\Modelos')\n",
    "os.chdir('../')\n",
    "os.chdir('Modelos')\n",
    "os.getcwd()"
   ]
  },
  {
   "cell_type": "code",
   "execution_count": 6,
   "metadata": {},
   "outputs": [
    {
     "ename": "FileNotFoundError",
     "evalue": "[Errno 2] No such file or directory: 'm_XGBoost_PCA_v2.pkl'",
     "output_type": "error",
     "traceback": [
      "\u001b[1;31m---------------------------------------------------------------------------\u001b[0m",
      "\u001b[1;31mFileNotFoundError\u001b[0m                         Traceback (most recent call last)",
      "\u001b[1;32mc:\\Users\\metal\\Trabajos Bootcamp\\Proyecto Final\\juanito_v2.0\\mod_xgboost.ipynb Cell 18\u001b[0m in \u001b[0;36m<cell line: 1>\u001b[1;34m()\u001b[0m\n\u001b[1;32m----> <a href='vscode-notebook-cell:/c%3A/Users/metal/Trabajos%20Bootcamp/Proyecto%20Final/juanito_v2.0/mod_xgboost.ipynb#ch0000025?line=0'>1</a>\u001b[0m fh1\u001b[39m=\u001b[39m\u001b[39mopen\u001b[39;49m(\u001b[39m'\u001b[39;49m\u001b[39mm_XGBoost_PCA_v2.pkl\u001b[39;49m\u001b[39m'\u001b[39;49m,\u001b[39m'\u001b[39;49m\u001b[39mrb\u001b[39;49m\u001b[39m'\u001b[39;49m)\n\u001b[0;32m      <a href='vscode-notebook-cell:/c%3A/Users/metal/Trabajos%20Bootcamp/Proyecto%20Final/juanito_v2.0/mod_xgboost.ipynb#ch0000025?line=1'>2</a>\u001b[0m train_test\u001b[39m=\u001b[39mpickle\u001b[39m.\u001b[39mload(fh1)\n\u001b[0;32m      <a href='vscode-notebook-cell:/c%3A/Users/metal/Trabajos%20Bootcamp/Proyecto%20Final/juanito_v2.0/mod_xgboost.ipynb#ch0000025?line=2'>3</a>\u001b[0m fh1\u001b[39m.\u001b[39mclose()\n",
      "\u001b[1;31mFileNotFoundError\u001b[0m: [Errno 2] No such file or directory: 'm_XGBoost_PCA_v2.pkl'"
     ]
    }
   ],
   "source": [
    "fh1=open('m_XGBoost_PCA_v2.pkl','rb')\n",
    "train_test=pickle.load(fh1)\n",
    "fh1.close()"
   ]
  },
  {
   "cell_type": "code",
   "execution_count": 31,
   "metadata": {},
   "outputs": [
    {
     "data": {
      "text/html": [
       "<div>\n",
       "<style scoped>\n",
       "    .dataframe tbody tr th:only-of-type {\n",
       "        vertical-align: middle;\n",
       "    }\n",
       "\n",
       "    .dataframe tbody tr th {\n",
       "        vertical-align: top;\n",
       "    }\n",
       "\n",
       "    .dataframe thead th {\n",
       "        text-align: right;\n",
       "    }\n",
       "</style>\n",
       "<table border=\"1\" class=\"dataframe\">\n",
       "  <thead>\n",
       "    <tr style=\"text-align: right;\">\n",
       "      <th></th>\n",
       "      <th>mean_fit_time</th>\n",
       "      <th>std_fit_time</th>\n",
       "      <th>mean_score_time</th>\n",
       "      <th>std_score_time</th>\n",
       "      <th>param_base_score</th>\n",
       "      <th>param_colsample_bylevel</th>\n",
       "      <th>param_colsample_bytree</th>\n",
       "      <th>param_learning_rate</th>\n",
       "      <th>param_max_depth</th>\n",
       "      <th>param_min_child_weight</th>\n",
       "      <th>...</th>\n",
       "      <th>param_reg_alpha</th>\n",
       "      <th>param_reg_lambda</th>\n",
       "      <th>param_scale_pos_weight</th>\n",
       "      <th>param_subsample</th>\n",
       "      <th>params</th>\n",
       "      <th>split0_test_roc_auc</th>\n",
       "      <th>split1_test_roc_auc</th>\n",
       "      <th>mean_test_roc_auc</th>\n",
       "      <th>std_test_roc_auc</th>\n",
       "      <th>rank_test_roc_auc</th>\n",
       "    </tr>\n",
       "  </thead>\n",
       "  <tbody>\n",
       "    <tr>\n",
       "      <th>0</th>\n",
       "      <td>2600.618312</td>\n",
       "      <td>328.878669</td>\n",
       "      <td>101.213178</td>\n",
       "      <td>29.123818</td>\n",
       "      <td>0.5</td>\n",
       "      <td>1</td>\n",
       "      <td>0.8</td>\n",
       "      <td>0.05</td>\n",
       "      <td>2</td>\n",
       "      <td>1</td>\n",
       "      <td>...</td>\n",
       "      <td>0.01</td>\n",
       "      <td>0.01</td>\n",
       "      <td>1</td>\n",
       "      <td>0.9</td>\n",
       "      <td>{'base_score': 0.5, 'colsample_bylevel': 1, 'c...</td>\n",
       "      <td>0.937400</td>\n",
       "      <td>0.951163</td>\n",
       "      <td>0.944281</td>\n",
       "      <td>0.006882</td>\n",
       "      <td>3</td>\n",
       "    </tr>\n",
       "    <tr>\n",
       "      <th>1</th>\n",
       "      <td>3223.841133</td>\n",
       "      <td>59.423464</td>\n",
       "      <td>38.882069</td>\n",
       "      <td>11.234779</td>\n",
       "      <td>0.5</td>\n",
       "      <td>1</td>\n",
       "      <td>0.8</td>\n",
       "      <td>0.05</td>\n",
       "      <td>3</td>\n",
       "      <td>1</td>\n",
       "      <td>...</td>\n",
       "      <td>0.01</td>\n",
       "      <td>0.01</td>\n",
       "      <td>1</td>\n",
       "      <td>0.9</td>\n",
       "      <td>{'base_score': 0.5, 'colsample_bylevel': 1, 'c...</td>\n",
       "      <td>0.952633</td>\n",
       "      <td>0.964321</td>\n",
       "      <td>0.958477</td>\n",
       "      <td>0.005844</td>\n",
       "      <td>2</td>\n",
       "    </tr>\n",
       "    <tr>\n",
       "      <th>2</th>\n",
       "      <td>3448.415497</td>\n",
       "      <td>62.579651</td>\n",
       "      <td>34.022602</td>\n",
       "      <td>1.186264</td>\n",
       "      <td>0.5</td>\n",
       "      <td>1</td>\n",
       "      <td>0.8</td>\n",
       "      <td>0.05</td>\n",
       "      <td>4</td>\n",
       "      <td>1</td>\n",
       "      <td>...</td>\n",
       "      <td>0.01</td>\n",
       "      <td>0.01</td>\n",
       "      <td>1</td>\n",
       "      <td>0.9</td>\n",
       "      <td>{'base_score': 0.5, 'colsample_bylevel': 1, 'c...</td>\n",
       "      <td>0.961567</td>\n",
       "      <td>0.971961</td>\n",
       "      <td>0.966764</td>\n",
       "      <td>0.005197</td>\n",
       "      <td>1</td>\n",
       "    </tr>\n",
       "  </tbody>\n",
       "</table>\n",
       "<p>3 rows × 22 columns</p>\n",
       "</div>"
      ],
      "text/plain": [
       "   mean_fit_time  std_fit_time  mean_score_time  std_score_time  \\\n",
       "0    2600.618312    328.878669       101.213178       29.123818   \n",
       "1    3223.841133     59.423464        38.882069       11.234779   \n",
       "2    3448.415497     62.579651        34.022602        1.186264   \n",
       "\n",
       "  param_base_score param_colsample_bylevel param_colsample_bytree  \\\n",
       "0              0.5                       1                    0.8   \n",
       "1              0.5                       1                    0.8   \n",
       "2              0.5                       1                    0.8   \n",
       "\n",
       "  param_learning_rate param_max_depth param_min_child_weight  ...  \\\n",
       "0                0.05               2                      1  ...   \n",
       "1                0.05               3                      1  ...   \n",
       "2                0.05               4                      1  ...   \n",
       "\n",
       "  param_reg_alpha param_reg_lambda param_scale_pos_weight param_subsample  \\\n",
       "0            0.01             0.01                      1             0.9   \n",
       "1            0.01             0.01                      1             0.9   \n",
       "2            0.01             0.01                      1             0.9   \n",
       "\n",
       "                                              params split0_test_roc_auc  \\\n",
       "0  {'base_score': 0.5, 'colsample_bylevel': 1, 'c...            0.937400   \n",
       "1  {'base_score': 0.5, 'colsample_bylevel': 1, 'c...            0.952633   \n",
       "2  {'base_score': 0.5, 'colsample_bylevel': 1, 'c...            0.961567   \n",
       "\n",
       "  split1_test_roc_auc  mean_test_roc_auc  std_test_roc_auc  rank_test_roc_auc  \n",
       "0            0.951163           0.944281          0.006882                  3  \n",
       "1            0.964321           0.958477          0.005844                  2  \n",
       "2            0.971961           0.966764          0.005197                  1  \n",
       "\n",
       "[3 rows x 22 columns]"
      ]
     },
     "execution_count": 31,
     "metadata": {},
     "output_type": "execute_result"
    }
   ],
   "source": [
    "results_cv=model_result_xgboost.cv_results_\n",
    "results=pd.DataFrame(results_cv)\n",
    "results.head()"
   ]
  },
  {
   "cell_type": "code",
   "execution_count": null,
   "metadata": {},
   "outputs": [],
   "source": [
    "sns.relplot(x=\"param_max_depth\",\n",
    "            y=\"std_test_roc_auc\",\n",
    "            #style=\"param_max_features\",\n",
    "            #hue=\"param_min_impurity_decrease\",\n",
    "            kind = \"line\",\n",
    "            palette=[\"r\", \"b\"],\n",
    "            height=3, linewidth=3, data=results)"
   ]
  },
  {
   "cell_type": "code",
   "execution_count": 32,
   "metadata": {},
   "outputs": [
    {
     "data": {
      "image/png": "[encoded data removed]",
      "text/plain": [
       "<Figure size 432x288 with 1 Axes>"
      ]
     },
     "metadata": {
      "needs_background": "light"
     },
     "output_type": "display_data"
    },
    {
     "name": "stdout",
     "output_type": "stream",
     "text": [
      "Train AUC 0.972152701813672\n",
      "              precision    recall  f1-score   support\n",
      "\n",
      "           0       0.92      0.98      0.95     31010\n",
      "           1       0.92      0.72      0.81      9303\n",
      "\n",
      "    accuracy                           0.92     40313\n",
      "   macro avg       0.92      0.85      0.88     40313\n",
      "weighted avg       0.92      0.92      0.92     40313\n",
      "\n"
     ]
    },
    {
     "data": {
      "image/png": "[encoded data removed]",
      "text/plain": [
       "<Figure size 432x288 with 2 Axes>"
      ]
     },
     "metadata": {
      "needs_background": "light"
     },
     "output_type": "display_data"
    },
    {
     "name": "stdout",
     "output_type": "stream",
     "text": [
      "Test AUC 0.9563832471833511\n",
      "              precision    recall  f1-score   support\n",
      "\n",
      "           0       0.96      0.98      0.97     15260\n",
      "           1       0.80      0.65      0.72      1784\n",
      "\n",
      "    accuracy                           0.95     17044\n",
      "   macro avg       0.88      0.82      0.84     17044\n",
      "weighted avg       0.94      0.95      0.94     17044\n",
      "\n"
     ]
    },
    {
     "data": {
      "image/png": "[encoded data removed]",
      "text/plain": [
       "<Figure size 432x288 with 2 Axes>"
      ]
     },
     "metadata": {
      "needs_background": "light"
     },
     "output_type": "display_data"
    }
   ],
   "source": [
    "metrics(model_result_xgboost.best_estimator_, X_train_smote, X_test, y_train_smote, y_test, thr=0.5)"
   ]
  },
  {
   "cell_type": "markdown",
   "metadata": {},
   "source": [
    "### Resultados primera iteración (incorrecto aplicación de smote sobre muetra para test)"
   ]
  },
  {
   "cell_type": "code",
   "execution_count": 11,
   "metadata": {},
   "outputs": [
    {
     "name": "stdout",
     "output_type": "stream",
     "text": [
      "Train AUC: 0.9630412048830986\n",
      " Test AUC: 0.9621369872399149\n"
     ]
    }
   ],
   "source": [
    "#Ahora todos los modelos los usamos con la data train para obtener las probabilidades\n",
    "y_pred = model_result_xgboost.predict(X_train)\n",
    "probs = model_result_xgboost.predict_proba(X_train)\n",
    "print('Train AUC:', roc_auc_score(y_train,probs[:,1]))\n",
    "\n",
    "#Ahora evaluo el resultado con la data de test\n",
    "y_pred = model_result_xgboost.predict(X_test)\n",
    "probs = model_result_xgboost.predict_proba(X_test)\n",
    "print(\" Test AUC:\", roc_auc_score(y_test,probs[:,1]))"
   ]
  },
  {
   "cell_type": "code",
   "execution_count": 9,
   "metadata": {},
   "outputs": [
    {
     "data": {
      "image/png": "[encoded data removed]",
      "text/plain": [
       "<Figure size 432x288 with 2 Axes>"
      ]
     },
     "metadata": {
      "needs_background": "light"
     },
     "output_type": "display_data"
    }
   ],
   "source": [
    "#plot_confusion_matrix(model_result,  X_test, y_test) funcion deprecada en futuras versiones\n",
    "cm = confusion_matrix(y_test,y_pred)\n",
    "disp =ConfusionMatrixDisplay(confusion_matrix=cm, display_labels=model_result_xgboost.classes_)\n",
    "disp.plot()\n",
    "plt.show()"
   ]
  },
  {
   "cell_type": "code",
   "execution_count": 10,
   "metadata": {},
   "outputs": [
    {
     "name": "stdout",
     "output_type": "stream",
     "text": [
      "0.9534261331244968\n"
     ]
    }
   ],
   "source": [
    "fpr, tpr, threshold = metrics.roc_curve(y_test, probs[:,1])\n",
    "roc_auc = metrics.auc(fpr, tpr)\n",
    "print(roc_auc)"
   ]
  },
  {
   "cell_type": "code",
   "execution_count": 11,
   "metadata": {},
   "outputs": [
    {
     "data": {
      "image/png": "[encoded data removed]",
      "text/plain": [
       "<Figure size 432x288 with 1 Axes>"
      ]
     },
     "metadata": {
      "needs_background": "light"
     },
     "output_type": "display_data"
    }
   ],
   "source": [
    "plt.title('Receiver Operating Characteristic')\n",
    "plt.plot(fpr, tpr, 'b', label = 'AUC = %0.2f' % roc_auc)\n",
    "plt.legend(loc = 'lower right')\n",
    "plt.plot([0, 1], [0, 1],'r--')\n",
    "plt.xlim([0, 1])\n",
    "plt.ylim([0, 1])\n",
    "plt.ylabel('True Positive Rate')\n",
    "plt.xlabel('False Positive Rate')\n",
    "plt.show()"
   ]
  },
  {
   "cell_type": "code",
   "execution_count": 12,
   "metadata": {},
   "outputs": [
    {
     "name": "stdout",
     "output_type": "stream",
     "text": [
      "              precision    recall  f1-score   support\n",
      "\n",
      "           0       0.94      0.99      0.97     15260\n",
      "           1       0.88      0.45      0.60      1784\n",
      "\n",
      "    accuracy                           0.94     17044\n",
      "   macro avg       0.91      0.72      0.78     17044\n",
      "weighted avg       0.93      0.94      0.93     17044\n",
      "\n"
     ]
    }
   ],
   "source": [
    "print(classification_report(y_test,y_pred,target_names=['0','1']))"
   ]
  }
 ],
 "metadata": {
  "kernelspec": {
   "display_name": "Python 3.10.4 64-bit",
   "language": "python",
   "name": "python3"
  },
  "language_info": {
   "codemirror_mode": {
    "name": "ipython",
    "version": 3
   },
   "file_extension": ".py",
   "mimetype": "text/x-python",
   "name": "python",
   "nbconvert_exporter": "python",
   "pygments_lexer": "ipython3",
   "version": "3.10.4"
  },
  "orig_nbformat": 4,
  "vscode": {
   "interpreter": {
    "hash": "26de051ba29f2982a8de78e945f0abaf191376122a1563185a90213a26c5da77"
   }
  }
 },
 "nbformat": 4,
 "nbformat_minor": 2
}
